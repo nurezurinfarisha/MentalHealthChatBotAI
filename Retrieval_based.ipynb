{
  "cells": [
    {
      "cell_type": "markdown",
      "metadata": {
        "id": "K5y_I0O-5RMh"
      },
      "source": [
        "## Loading data and preliminary analysis"
      ]
    },
    {
      "cell_type": "code",
      "execution_count": 4,
      "metadata": {},
      "outputs": [
        {
          "name": "stderr",
          "output_type": "stream",
          "text": [
            "[nltk_data] Downloading package stopwords to\n",
            "[nltk_data]     C:\\Users\\user\\AppData\\Roaming\\nltk_data...\n",
            "[nltk_data]   Package stopwords is already up-to-date!\n",
            "[nltk_data] Downloading package wordnet to\n",
            "[nltk_data]     C:\\Users\\user\\AppData\\Roaming\\nltk_data...\n",
            "[nltk_data]   Package wordnet is already up-to-date!\n"
          ]
        },
        {
          "data": {
            "text/plain": [
              "True"
            ]
          },
          "execution_count": 4,
          "metadata": {},
          "output_type": "execute_result"
        }
      ],
      "source": [
        "# Download Dependencies\n",
        "\n",
        "path_to_txt  =r'C:\\\\Users\\\\user\\\\OneDrive\\\\Desktop\\\\University\\\\Sem_5\\\\SKIH3013 PATTERN REGOGNITION\\\\Chatbot-for-mental-health\\\\requirements.txt'\n",
        "\n",
        "import nltk \n",
        "\n",
        "nltk.download('stopwords')\n",
        "nltk.download('wordnet')"
      ]
    },
    {
      "cell_type": "code",
      "execution_count": 5,
      "metadata": {
        "id": "YR-ilUaKO1mR"
      },
      "outputs": [
        {
          "name": "stdout",
          "output_type": "stream",
          "text": [
            "WARNING:tensorflow:From c:\\Users\\user\\AppData\\Local\\Programs\\Python\\Python311\\Lib\\site-packages\\keras\\src\\losses.py:2976: The name tf.losses.sparse_softmax_cross_entropy is deprecated. Please use tf.compat.v1.losses.sparse_softmax_cross_entropy instead.\n",
            "\n"
          ]
        }
      ],
      "source": [
        "# import libraries\n",
        "\n",
        "import pandas as pd \n",
        "import numpy as np \n",
        "import matplotlib.pyplot as plt\n",
        "from pathlib import Path\n",
        "import string\n",
        "import re\n",
        "import joblib\n",
        "import json\n",
        "from collections import Counter\n",
        "from nltk.corpus import stopwords\n",
        "from nltk.stem import WordNetLemmatizer\n",
        "import pickle\n",
        "import tensorflow as tf\n",
        "from sklearn.preprocessing import LabelEncoder\n",
        "import os\n",
        "from sklearn.metrics import label_ranking_average_precision_score as mean_reciprocal_rank\n",
        "from sklearn.metrics import ndcg_score\n",
        "\n",
        "\n",
        "\n",
        "from tensorflow.keras.models import load_model\n",
        "from tensorflow.keras.preprocessing.text import Tokenizer\n",
        "from tensorflow.keras.preprocessing.sequence import pad_sequences\n",
        "from tensorflow.keras.utils import plot_model\n",
        "from tensorflow.keras.models import Sequential, Model\n",
        "from tensorflow.keras.layers import Embedding, Dense, Flatten, Conv1D, MaxPooling1D, SimpleRNN, GRU, LSTM, LSTM, Input, Embedding, TimeDistributed, Flatten, Dropout,Bidirectional\n",
        "from tensorflow.keras.callbacks import ModelCheckpoint, EarlyStopping, ReduceLROnPlateau"
      ]
    },
    {
      "cell_type": "code",
      "execution_count": 6,
      "metadata": {},
      "outputs": [],
      "source": [
        "# Modify Paths\n",
        "\n",
        "path_to_json = r'mentalhealth.json'\n",
        "path_to_dumps = '../Dumps/'\n",
        "\n",
        "newpath = path_to_dumps\n",
        "if not os.path.exists(newpath):\n",
        "    os.makedirs(newpath)"
      ]
    },
    {
      "cell_type": "code",
      "execution_count": 7,
      "metadata": {
        "colab": {
          "base_uri": "https://localhost:8080/"
        },
        "id": "EnLqRE6uS2Hb",
        "outputId": "470b6d1a-7f26-4d8e-b60c-48e3db2e2991"
      },
      "outputs": [],
      "source": [
        "# load data\n",
        "with open(path_to_json) as file:\n",
        "  data = json.load(file)\n",
        "\n",
        "# data"
      ]
    },
    {
      "cell_type": "code",
      "execution_count": 8,
      "metadata": {
        "id": "UHalec2-OgjC"
      },
      "outputs": [],
      "source": [
        "# convert to dataframes \n",
        " \n",
        "def frame_data(feat_1,feat_2,is_pattern, data):\n",
        "  is_pattern = is_pattern\n",
        "  df = pd.DataFrame(columns=[feat_1,feat_2])\n",
        "\n",
        "  for intent in data['intents']:\n",
        "    if is_pattern:\n",
        "      for pattern in intent['patterns']:\n",
        "        w = pattern\n",
        "        data_to_append = {feat_1:w, feat_2:intent['tag']}\n",
        "        df.loc[len(df)] = data_to_append\n",
        "        \n",
        "    else:\n",
        "      for response in intent['responses']:\n",
        "        w = response\n",
        "        data_to_append = {feat_1:w, feat_2:intent['tag']}\n",
        "        df.loc[len(df)] = data_to_append\n",
        "  return df"
      ]
    },
    {
      "cell_type": "code",
      "execution_count": 9,
      "metadata": {},
      "outputs": [],
      "source": [
        "df1 = frame_data('questions','labels',True, data)\n",
        "# df1.head()"
      ]
    },
    {
      "cell_type": "code",
      "execution_count": 10,
      "metadata": {
        "colab": {
          "base_uri": "https://localhost:8080/"
        },
        "id": "dBK6Wzi-S7GW",
        "outputId": "861808e1-063b-4d1f-b0d7-dd5564e2ee30"
      },
      "outputs": [
        {
          "data": {
            "text/plain": [
              "definition            3\n",
              "affects_whom          2\n",
              "what_causes           3\n",
              "recover               2\n",
              "steps                 2\n",
              "find_help             2\n",
              "treatement_options    2\n",
              "treatment_tips        2\n",
              "professional_types    2\n",
              "right_professional    2\n",
              "Name: labels, dtype: int64"
            ]
          },
          "execution_count": 10,
          "metadata": {},
          "output_type": "execute_result"
        }
      ],
      "source": [
        "# no of patterns\n",
        "df1.labels.value_counts(sort=False)"
      ]
    },
    {
      "cell_type": "code",
      "execution_count": 11,
      "metadata": {
        "colab": {
          "base_uri": "https://localhost:8080/",
          "height": 203
        },
        "id": "me9oCoFmS7EI",
        "outputId": "730658df-9755-4b6f-fba7-68904e0f1ae0"
      },
      "outputs": [],
      "source": [
        "df2 = frame_data('response','labels',False, data)\n",
        "# df2.head()"
      ]
    },
    {
      "cell_type": "markdown",
      "metadata": {
        "id": "Ja0_TgzN5Xya"
      },
      "source": [
        "## Data preprocessing"
      ]
    },
    {
      "cell_type": "code",
      "execution_count": 12,
      "metadata": {
        "id": "YEVlJqEIR_ts"
      },
      "outputs": [],
      "source": [
        "# preprocessing text\n",
        "\n",
        "lemmatizer = WordNetLemmatizer()\n",
        "\n",
        "vocab = Counter()\n",
        "labels = []\n",
        "def tokenizer(entry):\n",
        "    tokens = entry.split()\n",
        "    re_punc = re.compile('[%s]' % re.escape(string.punctuation))\n",
        "    tokens = [re_punc.sub('', w) for w in tokens]\n",
        "    tokens = [word for word in tokens if word.isalpha()]\n",
        "    tokens = [lemmatizer.lemmatize(w.lower()) for w in tokens]\n",
        "    tokens = [word.lower() for word in tokens if len(word) > 1]\n",
        "    return tokens\n",
        "\n",
        "def remove_stop_words(tokenizer,df,feature):\n",
        "    doc_without_stopwords = []\n",
        "    for entry in df[feature]:\n",
        "        tokens = tokenizer(entry)\n",
        "        joblib.dump(tokens,path_to_dumps+'tokens.pkl')\n",
        "        doc_without_stopwords.append(' '.join(tokens))\n",
        "    df[feature] = doc_without_stopwords\n",
        "    return"
      ]
    },
    {
      "cell_type": "code",
      "execution_count": 13,
      "metadata": {
        "id": "Jt61ZCG9UWN0"
      },
      "outputs": [],
      "source": [
        "def create_vocab(tokenizer,df,feature):\n",
        "    for entry in df[feature]:\n",
        "        tokens = tokenizer(entry)   \n",
        "        vocab.update(tokens)\n",
        "    joblib.dump(vocab, path_to_dumps+'vocab.pkl')\n",
        "    return"
      ]
    },
    {
      "cell_type": "code",
      "execution_count": 14,
      "metadata": {
        "id": "emdwHIQcUWJ-"
      },
      "outputs": [],
      "source": [
        "create_vocab(tokenizer,df1,'questions')"
      ]
    },
    {
      "cell_type": "code",
      "execution_count": 15,
      "metadata": {
        "colab": {
          "base_uri": "https://localhost:8080/"
        },
        "id": "IbK9OeYY0iWo",
        "outputId": "e058ceab-cdd4-4b40-eb08-ad9246b607d3"
      },
      "outputs": [
        {
          "data": {
            "text/plain": [
              "Counter({'what': 9,\n",
              "         'doe': 3,\n",
              "         'it': 2,\n",
              "         'mean': 1,\n",
              "         'to': 9,\n",
              "         'have': 2,\n",
              "         'mental': 14,\n",
              "         'illness': 9,\n",
              "         'is': 4,\n",
              "         'health': 8,\n",
              "         'describe': 1,\n",
              "         'who': 3,\n",
              "         'affect': 1,\n",
              "         'affected': 1,\n",
              "         'by': 1,\n",
              "         'mentall': 1,\n",
              "         'cause': 1,\n",
              "         'lead': 1,\n",
              "         'how': 7,\n",
              "         'one': 2,\n",
              "         'get': 1,\n",
              "         'mentally': 1,\n",
              "         'ill': 1,\n",
              "         'can': 3,\n",
              "         'people': 1,\n",
              "         'with': 1,\n",
              "         'recover': 3,\n",
              "         'possible': 1,\n",
              "         'from': 1,\n",
              "         'know': 1,\n",
              "         'someone': 1,\n",
              "         'appears': 1,\n",
              "         'such': 1,\n",
              "         'symptom': 2,\n",
              "         'are': 3,\n",
              "         'the': 4,\n",
              "         'step': 1,\n",
              "         'be': 1,\n",
              "         'followed': 1,\n",
              "         'incase': 1,\n",
              "         'of': 2,\n",
              "         'find': 4,\n",
              "         'professional': 6,\n",
              "         'for': 1,\n",
              "         'myself': 2,\n",
              "         'treatment': 3,\n",
              "         'option': 1,\n",
              "         'available': 1,\n",
              "         'become': 1,\n",
              "         'involved': 1,\n",
              "         'in': 2,\n",
              "         'should': 1,\n",
              "         'keep': 1,\n",
              "         'mind': 1,\n",
              "         'if': 1,\n",
              "         'begin': 1,\n",
              "         'difference': 1,\n",
              "         'between': 1,\n",
              "         'different': 1,\n",
              "         'type': 1,\n",
              "         'present': 1,\n",
              "         'right': 2})"
            ]
          },
          "execution_count": 15,
          "metadata": {},
          "output_type": "execute_result"
        }
      ],
      "source": [
        "vocab"
      ]
    },
    {
      "cell_type": "code",
      "execution_count": 16,
      "metadata": {
        "colab": {
          "base_uri": "https://localhost:8080/"
        },
        "id": "0_EER8ZWkpJU",
        "outputId": "0b272597-4ea5-44dd-f37a-2c7df0e8731a"
      },
      "outputs": [
        {
          "data": {
            "text/plain": [
              "62"
            ]
          },
          "execution_count": 16,
          "metadata": {},
          "output_type": "execute_result"
        }
      ],
      "source": [
        "vocab_size = len(vocab)\n",
        "vocab_size"
      ]
    },
    {
      "cell_type": "code",
      "execution_count": 17,
      "metadata": {
        "colab": {
          "base_uri": "https://localhost:8080/"
        },
        "id": "q2S6fc7iV5Fl",
        "outputId": "23324a36-3505-45b6-a5cc-2e48ac3da410"
      },
      "outputs": [
        {
          "data": {
            "text/plain": [
              "0                      Who does mental illness affect?\n",
              "1          What does it mean to have a mental illness?\n",
              "2    How to find mental health professional for myself\n",
              "3    What is the difference between mental health p...\n",
              "4              Can people with mental illness recover?\n",
              "5    How can I find a mental health professional ri...\n",
              "6    I know someone who appears to have such symptoms?\n",
              "7                What treatment options are available?\n",
              "8                 How to become involved in treatment?\n",
              "9                          What causes mental illness?\n",
              "Name: questions, dtype: object"
            ]
          },
          "execution_count": 17,
          "metadata": {},
          "output_type": "execute_result"
        }
      ],
      "source": [
        "df1.groupby(by='labels',as_index=False).first()['questions']"
      ]
    },
    {
      "cell_type": "code",
      "execution_count": 18,
      "metadata": {
        "colab": {
          "base_uri": "https://localhost:8080/"
        },
        "id": "flmw4NGyR_o1",
        "outputId": "63f1c0f6-4587-4093-ed72-f3213e5449e4"
      },
      "outputs": [
        {
          "data": {
            "text/plain": [
              "['Who does mental illness affect?',\n",
              " 'What does it mean to have a mental illness?',\n",
              " 'How to find mental health professional for myself',\n",
              " 'What is the difference between mental health professionals?',\n",
              " 'Can people with mental illness recover?',\n",
              " 'How can I find a mental health professional right myself?',\n",
              " 'I know someone who appears to have such symptoms?',\n",
              " 'What treatment options are available?',\n",
              " 'How to become involved in treatment?',\n",
              " 'What causes mental illness?']"
            ]
          },
          "execution_count": 18,
          "metadata": {},
          "output_type": "execute_result"
        }
      ],
      "source": [
        "# test_list contains the first element of questions\n",
        "\n",
        "test_list = list(df1.groupby(by='labels',as_index=False).first()['questions'])\n",
        "test_list"
      ]
    },
    {
      "cell_type": "code",
      "execution_count": 19,
      "metadata": {
        "colab": {
          "base_uri": "https://localhost:8080/"
        },
        "id": "MNtMUqJQUs9U",
        "outputId": "033574e0-71f2-411b-8bc6-6ae9557fd3c5"
      },
      "outputs": [
        {
          "data": {
            "text/plain": [
              "[3, 0, 12, 18, 8, 20, 10, 14, 16, 5]"
            ]
          },
          "execution_count": 19,
          "metadata": {},
          "output_type": "execute_result"
        }
      ],
      "source": [
        "# indices of the testing dataset\n",
        "\n",
        "test_index = []\n",
        "for i,_ in enumerate(test_list):\n",
        "    idx = df1[df1.questions == test_list[i]].index[0]\n",
        "    test_index.append(idx)\n",
        "test_index"
      ]
    },
    {
      "cell_type": "code",
      "execution_count": 20,
      "metadata": {
        "colab": {
          "base_uri": "https://localhost:8080/"
        },
        "id": "Reko6L-LUs6e",
        "outputId": "30ace821-537d-4573-980b-787511baabf6"
      },
      "outputs": [
        {
          "data": {
            "text/plain": [
              "[1, 2, 4, 6, 7, 9, 11, 13, 15, 17, 19, 21]"
            ]
          },
          "execution_count": 20,
          "metadata": {},
          "output_type": "execute_result"
        }
      ],
      "source": [
        "# train indices are the all indices minus the testing indices \n",
        "\n",
        "train_index = [i for i in df1.index if i not in test_index]\n",
        "train_index "
      ]
    },
    {
      "cell_type": "code",
      "execution_count": 21,
      "metadata": {
        "id": "u-ksA3SrUs3a"
      },
      "outputs": [],
      "source": [
        "def convert_seq(df,feature):\n",
        "#     text = ' '.join(list(vocab.keys()))\n",
        "    t = Tokenizer()\n",
        "    entries = [entry for entry in df[feature]]\n",
        "    print(entries)\n",
        "    print('----')\n",
        "    t.fit_on_texts(entries)\n",
        "    joblib.dump(t, path_to_dumps+'tokenizer_t.pkl')   # why a pkl file\n",
        "    vocab_size = len(t.word_index) +1 # +1 for oov \n",
        "    print(t.word_index)\n",
        "    entries = [entry for entry in df[feature]]\n",
        "    max_length = max([len(s.split()) for s in entries])\n",
        "    print('----')\n",
        "    print(\"max length of string is : \",max_length)\n",
        "    print('----')\n",
        "    encoded = t.texts_to_sequences(entries)\n",
        "    print(encoded)\n",
        "    padded = pad_sequences(encoded, maxlen=max_length, padding='post')\n",
        "    print('----')\n",
        "    print(padded)\n",
        "    return padded, vocab_size"
      ]
    },
    {
      "cell_type": "code",
      "execution_count": 22,
      "metadata": {
        "colab": {
          "base_uri": "https://localhost:8080/"
        },
        "id": "GP07TFsDUs0e",
        "outputId": "7c2ace6d-31ad-464f-edb9-e0e606ad1f82"
      },
      "outputs": [
        {
          "name": "stdout",
          "output_type": "stream",
          "text": [
            "['What does it mean to have a mental illness?', 'What is mental health illness', 'Describe mental health illness', 'Who does mental illness affect?', 'Who is affected by mentall illness', 'What causes mental illness?', 'What leads to mental illness?', 'how does one get mentally ill?', 'Can people with mental illness recover?', 'Is it possible to recover from mental illness', 'I know someone who appears to have such symptoms?', 'What are the steps to be followed incase of symptoms', 'How to find mental health professional for myself', 'How to find mental health professional?', 'What treatment options are available?', 'How can one recover?', 'How to become involved in treatment?', 'What should I keep in mind if I begin treatment?', 'What is the difference between mental health professionals?', 'What are the different types of mental health professionals present?', 'How can I find a mental health professional right myself?', 'How to find the right mental health professional?']\n",
            "----\n",
            "{'mental': 1, 'what': 2, 'to': 3, 'illness': 4, 'health': 5, 'how': 6, 'is': 7, 'i': 8, 'the': 9, 'find': 10, 'professional': 11, 'does': 12, 'who': 13, 'can': 14, 'recover': 15, 'are': 16, 'treatment': 17, 'it': 18, 'have': 19, 'a': 20, 'one': 21, 'symptoms': 22, 'of': 23, 'myself': 24, 'in': 25, 'professionals': 26, 'right': 27, 'mean': 28, 'describe': 29, 'affect': 30, 'affected': 31, 'by': 32, 'mentall': 33, 'causes': 34, 'leads': 35, 'get': 36, 'mentally': 37, 'ill': 38, 'people': 39, 'with': 40, 'possible': 41, 'from': 42, 'know': 43, 'someone': 44, 'appears': 45, 'such': 46, 'steps': 47, 'be': 48, 'followed': 49, 'incase': 50, 'for': 51, 'options': 52, 'available': 53, 'become': 54, 'involved': 55, 'should': 56, 'keep': 57, 'mind': 58, 'if': 59, 'begin': 60, 'difference': 61, 'between': 62, 'different': 63, 'types': 64, 'present': 65}\n",
            "----\n",
            "max length of string is :  10\n",
            "----\n",
            "[[2, 12, 18, 28, 3, 19, 20, 1, 4], [2, 7, 1, 5, 4], [29, 1, 5, 4], [13, 12, 1, 4, 30], [13, 7, 31, 32, 33, 4], [2, 34, 1, 4], [2, 35, 3, 1, 4], [6, 12, 21, 36, 37, 38], [14, 39, 40, 1, 4, 15], [7, 18, 41, 3, 15, 42, 1, 4], [8, 43, 44, 13, 45, 3, 19, 46, 22], [2, 16, 9, 47, 3, 48, 49, 50, 23, 22], [6, 3, 10, 1, 5, 11, 51, 24], [6, 3, 10, 1, 5, 11], [2, 17, 52, 16, 53], [6, 14, 21, 15], [6, 3, 54, 55, 25, 17], [2, 56, 8, 57, 25, 58, 59, 8, 60, 17], [2, 7, 9, 61, 62, 1, 5, 26], [2, 16, 9, 63, 64, 23, 1, 5, 26, 65], [6, 14, 8, 10, 20, 1, 5, 11, 27, 24], [6, 3, 10, 9, 27, 1, 5, 11]]\n",
            "----\n",
            "[[ 2 12 18 28  3 19 20  1  4  0]\n",
            " [ 2  7  1  5  4  0  0  0  0  0]\n",
            " [29  1  5  4  0  0  0  0  0  0]\n",
            " [13 12  1  4 30  0  0  0  0  0]\n",
            " [13  7 31 32 33  4  0  0  0  0]\n",
            " [ 2 34  1  4  0  0  0  0  0  0]\n",
            " [ 2 35  3  1  4  0  0  0  0  0]\n",
            " [ 6 12 21 36 37 38  0  0  0  0]\n",
            " [14 39 40  1  4 15  0  0  0  0]\n",
            " [ 7 18 41  3 15 42  1  4  0  0]\n",
            " [ 8 43 44 13 45  3 19 46 22  0]\n",
            " [ 2 16  9 47  3 48 49 50 23 22]\n",
            " [ 6  3 10  1  5 11 51 24  0  0]\n",
            " [ 6  3 10  1  5 11  0  0  0  0]\n",
            " [ 2 17 52 16 53  0  0  0  0  0]\n",
            " [ 6 14 21 15  0  0  0  0  0  0]\n",
            " [ 6  3 54 55 25 17  0  0  0  0]\n",
            " [ 2 56  8 57 25 58 59  8 60 17]\n",
            " [ 2  7  9 61 62  1  5 26  0  0]\n",
            " [ 2 16  9 63 64 23  1  5 26 65]\n",
            " [ 6 14  8 10 20  1  5 11 27 24]\n",
            " [ 6  3 10  9 27  1  5 11  0  0]]\n"
          ]
        }
      ],
      "source": [
        "X,vocab_size = convert_seq(df1,'questions')"
      ]
    },
    {
      "cell_type": "code",
      "execution_count": 23,
      "metadata": {
        "id": "TjqSgtug5uSU"
      },
      "outputs": [],
      "source": [
        "with open(path_to_dumps+'tokenizer_t.pkl', 'rb') as f:\n",
        "    data = pickle.load(f)"
      ]
    },
    {
      "cell_type": "code",
      "execution_count": 24,
      "metadata": {
        "colab": {
          "base_uri": "https://localhost:8080/"
        },
        "id": "Ww0VWLGV6WDo",
        "outputId": "590e3660-78a5-4e56-fac3-3585f7a55cae"
      },
      "outputs": [
        {
          "data": {
            "text/plain": [
              "{1: 'mental',\n",
              " 2: 'what',\n",
              " 3: 'to',\n",
              " 4: 'illness',\n",
              " 5: 'health',\n",
              " 6: 'how',\n",
              " 7: 'is',\n",
              " 8: 'i',\n",
              " 9: 'the',\n",
              " 10: 'find',\n",
              " 11: 'professional',\n",
              " 12: 'does',\n",
              " 13: 'who',\n",
              " 14: 'can',\n",
              " 15: 'recover',\n",
              " 16: 'are',\n",
              " 17: 'treatment',\n",
              " 18: 'it',\n",
              " 19: 'have',\n",
              " 20: 'a',\n",
              " 21: 'one',\n",
              " 22: 'symptoms',\n",
              " 23: 'of',\n",
              " 24: 'myself',\n",
              " 25: 'in',\n",
              " 26: 'professionals',\n",
              " 27: 'right',\n",
              " 28: 'mean',\n",
              " 29: 'describe',\n",
              " 30: 'affect',\n",
              " 31: 'affected',\n",
              " 32: 'by',\n",
              " 33: 'mentall',\n",
              " 34: 'causes',\n",
              " 35: 'leads',\n",
              " 36: 'get',\n",
              " 37: 'mentally',\n",
              " 38: 'ill',\n",
              " 39: 'people',\n",
              " 40: 'with',\n",
              " 41: 'possible',\n",
              " 42: 'from',\n",
              " 43: 'know',\n",
              " 44: 'someone',\n",
              " 45: 'appears',\n",
              " 46: 'such',\n",
              " 47: 'steps',\n",
              " 48: 'be',\n",
              " 49: 'followed',\n",
              " 50: 'incase',\n",
              " 51: 'for',\n",
              " 52: 'options',\n",
              " 53: 'available',\n",
              " 54: 'become',\n",
              " 55: 'involved',\n",
              " 56: 'should',\n",
              " 57: 'keep',\n",
              " 58: 'mind',\n",
              " 59: 'if',\n",
              " 60: 'begin',\n",
              " 61: 'difference',\n",
              " 62: 'between',\n",
              " 63: 'different',\n",
              " 64: 'types',\n",
              " 65: 'present'}"
            ]
          },
          "execution_count": 24,
          "metadata": {},
          "output_type": "execute_result"
        }
      ],
      "source": [
        "data.index_word"
      ]
    },
    {
      "cell_type": "code",
      "execution_count": 25,
      "metadata": {
        "colab": {
          "base_uri": "https://localhost:8080/"
        },
        "id": "4TKUtsd851W4",
        "outputId": "a5e422af-11a5-4bdb-ddfc-f0784fa84e4f"
      },
      "outputs": [
        {
          "data": {
            "text/plain": [
              "OrderedDict([('what', 9),\n",
              "             ('does', 3),\n",
              "             ('it', 2),\n",
              "             ('mean', 1),\n",
              "             ('to', 9),\n",
              "             ('have', 2),\n",
              "             ('a', 2),\n",
              "             ('mental', 14),\n",
              "             ('illness', 9),\n",
              "             ('is', 4),\n",
              "             ('health', 8),\n",
              "             ('describe', 1),\n",
              "             ('who', 3),\n",
              "             ('affect', 1),\n",
              "             ('affected', 1),\n",
              "             ('by', 1),\n",
              "             ('mentall', 1),\n",
              "             ('causes', 1),\n",
              "             ('leads', 1),\n",
              "             ('how', 7),\n",
              "             ('one', 2),\n",
              "             ('get', 1),\n",
              "             ('mentally', 1),\n",
              "             ('ill', 1),\n",
              "             ('can', 3),\n",
              "             ('people', 1),\n",
              "             ('with', 1),\n",
              "             ('recover', 3),\n",
              "             ('possible', 1),\n",
              "             ('from', 1),\n",
              "             ('i', 4),\n",
              "             ('know', 1),\n",
              "             ('someone', 1),\n",
              "             ('appears', 1),\n",
              "             ('such', 1),\n",
              "             ('symptoms', 2),\n",
              "             ('are', 3),\n",
              "             ('the', 4),\n",
              "             ('steps', 1),\n",
              "             ('be', 1),\n",
              "             ('followed', 1),\n",
              "             ('incase', 1),\n",
              "             ('of', 2),\n",
              "             ('find', 4),\n",
              "             ('professional', 4),\n",
              "             ('for', 1),\n",
              "             ('myself', 2),\n",
              "             ('treatment', 3),\n",
              "             ('options', 1),\n",
              "             ('available', 1),\n",
              "             ('become', 1),\n",
              "             ('involved', 1),\n",
              "             ('in', 2),\n",
              "             ('should', 1),\n",
              "             ('keep', 1),\n",
              "             ('mind', 1),\n",
              "             ('if', 1),\n",
              "             ('begin', 1),\n",
              "             ('difference', 1),\n",
              "             ('between', 1),\n",
              "             ('professionals', 2),\n",
              "             ('different', 1),\n",
              "             ('types', 1),\n",
              "             ('present', 1),\n",
              "             ('right', 2)])"
            ]
          },
          "execution_count": 25,
          "metadata": {},
          "output_type": "execute_result"
        }
      ],
      "source": [
        "data.word_counts"
      ]
    },
    {
      "cell_type": "code",
      "execution_count": 26,
      "metadata": {
        "colab": {
          "base_uri": "https://localhost:8080/"
        },
        "id": "gExivERw6WdD",
        "outputId": "9f90dcea-abdc-4aff-cd32-e27616f2ddbe"
      },
      "outputs": [
        {
          "data": {
            "text/plain": [
              "array([[ 2, 12, 18, 28,  3, 19, 20,  1,  4,  0],\n",
              "       [ 2,  7,  1,  5,  4,  0,  0,  0,  0,  0],\n",
              "       [29,  1,  5,  4,  0,  0,  0,  0,  0,  0],\n",
              "       [13, 12,  1,  4, 30,  0,  0,  0,  0,  0],\n",
              "       [13,  7, 31, 32, 33,  4,  0,  0,  0,  0],\n",
              "       [ 2, 34,  1,  4,  0,  0,  0,  0,  0,  0],\n",
              "       [ 2, 35,  3,  1,  4,  0,  0,  0,  0,  0],\n",
              "       [ 6, 12, 21, 36, 37, 38,  0,  0,  0,  0],\n",
              "       [14, 39, 40,  1,  4, 15,  0,  0,  0,  0],\n",
              "       [ 7, 18, 41,  3, 15, 42,  1,  4,  0,  0],\n",
              "       [ 8, 43, 44, 13, 45,  3, 19, 46, 22,  0],\n",
              "       [ 2, 16,  9, 47,  3, 48, 49, 50, 23, 22],\n",
              "       [ 6,  3, 10,  1,  5, 11, 51, 24,  0,  0],\n",
              "       [ 6,  3, 10,  1,  5, 11,  0,  0,  0,  0],\n",
              "       [ 2, 17, 52, 16, 53,  0,  0,  0,  0,  0],\n",
              "       [ 6, 14, 21, 15,  0,  0,  0,  0,  0,  0],\n",
              "       [ 6,  3, 54, 55, 25, 17,  0,  0,  0,  0],\n",
              "       [ 2, 56,  8, 57, 25, 58, 59,  8, 60, 17],\n",
              "       [ 2,  7,  9, 61, 62,  1,  5, 26,  0,  0],\n",
              "       [ 2, 16,  9, 63, 64, 23,  1,  5, 26, 65],\n",
              "       [ 6, 14,  8, 10, 20,  1,  5, 11, 27, 24],\n",
              "       [ 6,  3, 10,  9, 27,  1,  5, 11,  0,  0]])"
            ]
          },
          "execution_count": 26,
          "metadata": {},
          "output_type": "execute_result"
        }
      ],
      "source": [
        "X"
      ]
    },
    {
      "cell_type": "code",
      "execution_count": 27,
      "metadata": {
        "colab": {
          "base_uri": "https://localhost:8080/"
        },
        "id": "bimUOhFb6Y_9",
        "outputId": "91159b95-22dd-4f6f-a8bd-17d10ebf9c0f"
      },
      "outputs": [
        {
          "data": {
            "text/plain": [
              "66"
            ]
          },
          "execution_count": 27,
          "metadata": {},
          "output_type": "execute_result"
        }
      ],
      "source": [
        "vocab_size"
      ]
    },
    {
      "cell_type": "code",
      "execution_count": 28,
      "metadata": {
        "id": "4cKWHDabXLg_"
      },
      "outputs": [],
      "source": [
        "df_encoded = pd.DataFrame(X)"
      ]
    },
    {
      "cell_type": "code",
      "execution_count": 29,
      "metadata": {
        "colab": {
          "base_uri": "https://localhost:8080/",
          "height": 726
        },
        "id": "wfjo-4088OnX",
        "outputId": "d6f6a60e-7f8e-40f5-ca50-69062a34d4fa"
      },
      "outputs": [
        {
          "data": {
            "text/html": [
              "<div>\n",
              "<style scoped>\n",
              "    .dataframe tbody tr th:only-of-type {\n",
              "        vertical-align: middle;\n",
              "    }\n",
              "\n",
              "    .dataframe tbody tr th {\n",
              "        vertical-align: top;\n",
              "    }\n",
              "\n",
              "    .dataframe thead th {\n",
              "        text-align: right;\n",
              "    }\n",
              "</style>\n",
              "<table border=\"1\" class=\"dataframe\">\n",
              "  <thead>\n",
              "    <tr style=\"text-align: right;\">\n",
              "      <th></th>\n",
              "      <th>0</th>\n",
              "      <th>1</th>\n",
              "      <th>2</th>\n",
              "      <th>3</th>\n",
              "      <th>4</th>\n",
              "      <th>5</th>\n",
              "      <th>6</th>\n",
              "      <th>7</th>\n",
              "      <th>8</th>\n",
              "      <th>9</th>\n",
              "    </tr>\n",
              "  </thead>\n",
              "  <tbody>\n",
              "    <tr>\n",
              "      <th>0</th>\n",
              "      <td>2</td>\n",
              "      <td>12</td>\n",
              "      <td>18</td>\n",
              "      <td>28</td>\n",
              "      <td>3</td>\n",
              "      <td>19</td>\n",
              "      <td>20</td>\n",
              "      <td>1</td>\n",
              "      <td>4</td>\n",
              "      <td>0</td>\n",
              "    </tr>\n",
              "    <tr>\n",
              "      <th>1</th>\n",
              "      <td>2</td>\n",
              "      <td>7</td>\n",
              "      <td>1</td>\n",
              "      <td>5</td>\n",
              "      <td>4</td>\n",
              "      <td>0</td>\n",
              "      <td>0</td>\n",
              "      <td>0</td>\n",
              "      <td>0</td>\n",
              "      <td>0</td>\n",
              "    </tr>\n",
              "    <tr>\n",
              "      <th>2</th>\n",
              "      <td>29</td>\n",
              "      <td>1</td>\n",
              "      <td>5</td>\n",
              "      <td>4</td>\n",
              "      <td>0</td>\n",
              "      <td>0</td>\n",
              "      <td>0</td>\n",
              "      <td>0</td>\n",
              "      <td>0</td>\n",
              "      <td>0</td>\n",
              "    </tr>\n",
              "    <tr>\n",
              "      <th>3</th>\n",
              "      <td>13</td>\n",
              "      <td>12</td>\n",
              "      <td>1</td>\n",
              "      <td>4</td>\n",
              "      <td>30</td>\n",
              "      <td>0</td>\n",
              "      <td>0</td>\n",
              "      <td>0</td>\n",
              "      <td>0</td>\n",
              "      <td>0</td>\n",
              "    </tr>\n",
              "    <tr>\n",
              "      <th>4</th>\n",
              "      <td>13</td>\n",
              "      <td>7</td>\n",
              "      <td>31</td>\n",
              "      <td>32</td>\n",
              "      <td>33</td>\n",
              "      <td>4</td>\n",
              "      <td>0</td>\n",
              "      <td>0</td>\n",
              "      <td>0</td>\n",
              "      <td>0</td>\n",
              "    </tr>\n",
              "    <tr>\n",
              "      <th>5</th>\n",
              "      <td>2</td>\n",
              "      <td>34</td>\n",
              "      <td>1</td>\n",
              "      <td>4</td>\n",
              "      <td>0</td>\n",
              "      <td>0</td>\n",
              "      <td>0</td>\n",
              "      <td>0</td>\n",
              "      <td>0</td>\n",
              "      <td>0</td>\n",
              "    </tr>\n",
              "    <tr>\n",
              "      <th>6</th>\n",
              "      <td>2</td>\n",
              "      <td>35</td>\n",
              "      <td>3</td>\n",
              "      <td>1</td>\n",
              "      <td>4</td>\n",
              "      <td>0</td>\n",
              "      <td>0</td>\n",
              "      <td>0</td>\n",
              "      <td>0</td>\n",
              "      <td>0</td>\n",
              "    </tr>\n",
              "    <tr>\n",
              "      <th>7</th>\n",
              "      <td>6</td>\n",
              "      <td>12</td>\n",
              "      <td>21</td>\n",
              "      <td>36</td>\n",
              "      <td>37</td>\n",
              "      <td>38</td>\n",
              "      <td>0</td>\n",
              "      <td>0</td>\n",
              "      <td>0</td>\n",
              "      <td>0</td>\n",
              "    </tr>\n",
              "    <tr>\n",
              "      <th>8</th>\n",
              "      <td>14</td>\n",
              "      <td>39</td>\n",
              "      <td>40</td>\n",
              "      <td>1</td>\n",
              "      <td>4</td>\n",
              "      <td>15</td>\n",
              "      <td>0</td>\n",
              "      <td>0</td>\n",
              "      <td>0</td>\n",
              "      <td>0</td>\n",
              "    </tr>\n",
              "    <tr>\n",
              "      <th>9</th>\n",
              "      <td>7</td>\n",
              "      <td>18</td>\n",
              "      <td>41</td>\n",
              "      <td>3</td>\n",
              "      <td>15</td>\n",
              "      <td>42</td>\n",
              "      <td>1</td>\n",
              "      <td>4</td>\n",
              "      <td>0</td>\n",
              "      <td>0</td>\n",
              "    </tr>\n",
              "    <tr>\n",
              "      <th>10</th>\n",
              "      <td>8</td>\n",
              "      <td>43</td>\n",
              "      <td>44</td>\n",
              "      <td>13</td>\n",
              "      <td>45</td>\n",
              "      <td>3</td>\n",
              "      <td>19</td>\n",
              "      <td>46</td>\n",
              "      <td>22</td>\n",
              "      <td>0</td>\n",
              "    </tr>\n",
              "    <tr>\n",
              "      <th>11</th>\n",
              "      <td>2</td>\n",
              "      <td>16</td>\n",
              "      <td>9</td>\n",
              "      <td>47</td>\n",
              "      <td>3</td>\n",
              "      <td>48</td>\n",
              "      <td>49</td>\n",
              "      <td>50</td>\n",
              "      <td>23</td>\n",
              "      <td>22</td>\n",
              "    </tr>\n",
              "    <tr>\n",
              "      <th>12</th>\n",
              "      <td>6</td>\n",
              "      <td>3</td>\n",
              "      <td>10</td>\n",
              "      <td>1</td>\n",
              "      <td>5</td>\n",
              "      <td>11</td>\n",
              "      <td>51</td>\n",
              "      <td>24</td>\n",
              "      <td>0</td>\n",
              "      <td>0</td>\n",
              "    </tr>\n",
              "    <tr>\n",
              "      <th>13</th>\n",
              "      <td>6</td>\n",
              "      <td>3</td>\n",
              "      <td>10</td>\n",
              "      <td>1</td>\n",
              "      <td>5</td>\n",
              "      <td>11</td>\n",
              "      <td>0</td>\n",
              "      <td>0</td>\n",
              "      <td>0</td>\n",
              "      <td>0</td>\n",
              "    </tr>\n",
              "    <tr>\n",
              "      <th>14</th>\n",
              "      <td>2</td>\n",
              "      <td>17</td>\n",
              "      <td>52</td>\n",
              "      <td>16</td>\n",
              "      <td>53</td>\n",
              "      <td>0</td>\n",
              "      <td>0</td>\n",
              "      <td>0</td>\n",
              "      <td>0</td>\n",
              "      <td>0</td>\n",
              "    </tr>\n",
              "    <tr>\n",
              "      <th>15</th>\n",
              "      <td>6</td>\n",
              "      <td>14</td>\n",
              "      <td>21</td>\n",
              "      <td>15</td>\n",
              "      <td>0</td>\n",
              "      <td>0</td>\n",
              "      <td>0</td>\n",
              "      <td>0</td>\n",
              "      <td>0</td>\n",
              "      <td>0</td>\n",
              "    </tr>\n",
              "    <tr>\n",
              "      <th>16</th>\n",
              "      <td>6</td>\n",
              "      <td>3</td>\n",
              "      <td>54</td>\n",
              "      <td>55</td>\n",
              "      <td>25</td>\n",
              "      <td>17</td>\n",
              "      <td>0</td>\n",
              "      <td>0</td>\n",
              "      <td>0</td>\n",
              "      <td>0</td>\n",
              "    </tr>\n",
              "    <tr>\n",
              "      <th>17</th>\n",
              "      <td>2</td>\n",
              "      <td>56</td>\n",
              "      <td>8</td>\n",
              "      <td>57</td>\n",
              "      <td>25</td>\n",
              "      <td>58</td>\n",
              "      <td>59</td>\n",
              "      <td>8</td>\n",
              "      <td>60</td>\n",
              "      <td>17</td>\n",
              "    </tr>\n",
              "    <tr>\n",
              "      <th>18</th>\n",
              "      <td>2</td>\n",
              "      <td>7</td>\n",
              "      <td>9</td>\n",
              "      <td>61</td>\n",
              "      <td>62</td>\n",
              "      <td>1</td>\n",
              "      <td>5</td>\n",
              "      <td>26</td>\n",
              "      <td>0</td>\n",
              "      <td>0</td>\n",
              "    </tr>\n",
              "    <tr>\n",
              "      <th>19</th>\n",
              "      <td>2</td>\n",
              "      <td>16</td>\n",
              "      <td>9</td>\n",
              "      <td>63</td>\n",
              "      <td>64</td>\n",
              "      <td>23</td>\n",
              "      <td>1</td>\n",
              "      <td>5</td>\n",
              "      <td>26</td>\n",
              "      <td>65</td>\n",
              "    </tr>\n",
              "    <tr>\n",
              "      <th>20</th>\n",
              "      <td>6</td>\n",
              "      <td>14</td>\n",
              "      <td>8</td>\n",
              "      <td>10</td>\n",
              "      <td>20</td>\n",
              "      <td>1</td>\n",
              "      <td>5</td>\n",
              "      <td>11</td>\n",
              "      <td>27</td>\n",
              "      <td>24</td>\n",
              "    </tr>\n",
              "    <tr>\n",
              "      <th>21</th>\n",
              "      <td>6</td>\n",
              "      <td>3</td>\n",
              "      <td>10</td>\n",
              "      <td>9</td>\n",
              "      <td>27</td>\n",
              "      <td>1</td>\n",
              "      <td>5</td>\n",
              "      <td>11</td>\n",
              "      <td>0</td>\n",
              "      <td>0</td>\n",
              "    </tr>\n",
              "  </tbody>\n",
              "</table>\n",
              "</div>"
            ],
            "text/plain": [
              "     0   1   2   3   4   5   6   7   8   9\n",
              "0    2  12  18  28   3  19  20   1   4   0\n",
              "1    2   7   1   5   4   0   0   0   0   0\n",
              "2   29   1   5   4   0   0   0   0   0   0\n",
              "3   13  12   1   4  30   0   0   0   0   0\n",
              "4   13   7  31  32  33   4   0   0   0   0\n",
              "5    2  34   1   4   0   0   0   0   0   0\n",
              "6    2  35   3   1   4   0   0   0   0   0\n",
              "7    6  12  21  36  37  38   0   0   0   0\n",
              "8   14  39  40   1   4  15   0   0   0   0\n",
              "9    7  18  41   3  15  42   1   4   0   0\n",
              "10   8  43  44  13  45   3  19  46  22   0\n",
              "11   2  16   9  47   3  48  49  50  23  22\n",
              "12   6   3  10   1   5  11  51  24   0   0\n",
              "13   6   3  10   1   5  11   0   0   0   0\n",
              "14   2  17  52  16  53   0   0   0   0   0\n",
              "15   6  14  21  15   0   0   0   0   0   0\n",
              "16   6   3  54  55  25  17   0   0   0   0\n",
              "17   2  56   8  57  25  58  59   8  60  17\n",
              "18   2   7   9  61  62   1   5  26   0   0\n",
              "19   2  16   9  63  64  23   1   5  26  65\n",
              "20   6  14   8  10  20   1   5  11  27  24\n",
              "21   6   3  10   9  27   1   5  11   0   0"
            ]
          },
          "execution_count": 29,
          "metadata": {},
          "output_type": "execute_result"
        }
      ],
      "source": [
        "df_encoded"
      ]
    },
    {
      "cell_type": "code",
      "execution_count": 30,
      "metadata": {
        "colab": {
          "base_uri": "https://localhost:8080/",
          "height": 357
        },
        "id": "Dje2hCaJ8IPc",
        "outputId": "3a3d5190-13bc-4118-f953-07d0ed5dd3de"
      },
      "outputs": [
        {
          "data": {
            "text/html": [
              "<div>\n",
              "<style scoped>\n",
              "    .dataframe tbody tr th:only-of-type {\n",
              "        vertical-align: middle;\n",
              "    }\n",
              "\n",
              "    .dataframe tbody tr th {\n",
              "        vertical-align: top;\n",
              "    }\n",
              "\n",
              "    .dataframe thead th {\n",
              "        text-align: right;\n",
              "    }\n",
              "</style>\n",
              "<table border=\"1\" class=\"dataframe\">\n",
              "  <thead>\n",
              "    <tr style=\"text-align: right;\">\n",
              "      <th></th>\n",
              "      <th>questions</th>\n",
              "      <th>labels</th>\n",
              "    </tr>\n",
              "  </thead>\n",
              "  <tbody>\n",
              "    <tr>\n",
              "      <th>0</th>\n",
              "      <td>What does it mean to have a mental illness?</td>\n",
              "      <td>definition</td>\n",
              "    </tr>\n",
              "    <tr>\n",
              "      <th>1</th>\n",
              "      <td>What is mental health illness</td>\n",
              "      <td>definition</td>\n",
              "    </tr>\n",
              "    <tr>\n",
              "      <th>2</th>\n",
              "      <td>Describe mental health illness</td>\n",
              "      <td>definition</td>\n",
              "    </tr>\n",
              "    <tr>\n",
              "      <th>3</th>\n",
              "      <td>Who does mental illness affect?</td>\n",
              "      <td>affects_whom</td>\n",
              "    </tr>\n",
              "    <tr>\n",
              "      <th>4</th>\n",
              "      <td>Who is affected by mentall illness</td>\n",
              "      <td>affects_whom</td>\n",
              "    </tr>\n",
              "    <tr>\n",
              "      <th>5</th>\n",
              "      <td>What causes mental illness?</td>\n",
              "      <td>what_causes</td>\n",
              "    </tr>\n",
              "    <tr>\n",
              "      <th>6</th>\n",
              "      <td>What leads to mental illness?</td>\n",
              "      <td>what_causes</td>\n",
              "    </tr>\n",
              "    <tr>\n",
              "      <th>7</th>\n",
              "      <td>how does one get mentally ill?</td>\n",
              "      <td>what_causes</td>\n",
              "    </tr>\n",
              "    <tr>\n",
              "      <th>8</th>\n",
              "      <td>Can people with mental illness recover?</td>\n",
              "      <td>recover</td>\n",
              "    </tr>\n",
              "    <tr>\n",
              "      <th>9</th>\n",
              "      <td>Is it possible to recover from mental illness</td>\n",
              "      <td>recover</td>\n",
              "    </tr>\n",
              "  </tbody>\n",
              "</table>\n",
              "</div>"
            ],
            "text/plain": [
              "                                       questions        labels\n",
              "0    What does it mean to have a mental illness?    definition\n",
              "1                  What is mental health illness    definition\n",
              "2                 Describe mental health illness    definition\n",
              "3                Who does mental illness affect?  affects_whom\n",
              "4             Who is affected by mentall illness  affects_whom\n",
              "5                    What causes mental illness?   what_causes\n",
              "6                  What leads to mental illness?   what_causes\n",
              "7                 how does one get mentally ill?   what_causes\n",
              "8        Can people with mental illness recover?       recover\n",
              "9  Is it possible to recover from mental illness       recover"
            ]
          },
          "execution_count": 30,
          "metadata": {},
          "output_type": "execute_result"
        }
      ],
      "source": [
        "df1.head(10)"
      ]
    },
    {
      "cell_type": "code",
      "execution_count": 31,
      "metadata": {
        "colab": {
          "base_uri": "https://localhost:8080/",
          "height": 357
        },
        "id": "3Uu_JiN5XLdt",
        "outputId": "d83accbd-8cfe-4b46-9cc4-6b39a218172f"
      },
      "outputs": [
        {
          "data": {
            "text/html": [
              "<div>\n",
              "<style scoped>\n",
              "    .dataframe tbody tr th:only-of-type {\n",
              "        vertical-align: middle;\n",
              "    }\n",
              "\n",
              "    .dataframe tbody tr th {\n",
              "        vertical-align: top;\n",
              "    }\n",
              "\n",
              "    .dataframe thead th {\n",
              "        text-align: right;\n",
              "    }\n",
              "</style>\n",
              "<table border=\"1\" class=\"dataframe\">\n",
              "  <thead>\n",
              "    <tr style=\"text-align: right;\">\n",
              "      <th></th>\n",
              "      <th>0</th>\n",
              "      <th>1</th>\n",
              "      <th>2</th>\n",
              "      <th>3</th>\n",
              "      <th>4</th>\n",
              "      <th>5</th>\n",
              "      <th>6</th>\n",
              "      <th>7</th>\n",
              "      <th>8</th>\n",
              "      <th>9</th>\n",
              "      <th>labels</th>\n",
              "    </tr>\n",
              "  </thead>\n",
              "  <tbody>\n",
              "    <tr>\n",
              "      <th>0</th>\n",
              "      <td>2</td>\n",
              "      <td>12</td>\n",
              "      <td>18</td>\n",
              "      <td>28</td>\n",
              "      <td>3</td>\n",
              "      <td>19</td>\n",
              "      <td>20</td>\n",
              "      <td>1</td>\n",
              "      <td>4</td>\n",
              "      <td>0</td>\n",
              "      <td>definition</td>\n",
              "    </tr>\n",
              "    <tr>\n",
              "      <th>1</th>\n",
              "      <td>2</td>\n",
              "      <td>7</td>\n",
              "      <td>1</td>\n",
              "      <td>5</td>\n",
              "      <td>4</td>\n",
              "      <td>0</td>\n",
              "      <td>0</td>\n",
              "      <td>0</td>\n",
              "      <td>0</td>\n",
              "      <td>0</td>\n",
              "      <td>definition</td>\n",
              "    </tr>\n",
              "    <tr>\n",
              "      <th>2</th>\n",
              "      <td>29</td>\n",
              "      <td>1</td>\n",
              "      <td>5</td>\n",
              "      <td>4</td>\n",
              "      <td>0</td>\n",
              "      <td>0</td>\n",
              "      <td>0</td>\n",
              "      <td>0</td>\n",
              "      <td>0</td>\n",
              "      <td>0</td>\n",
              "      <td>definition</td>\n",
              "    </tr>\n",
              "    <tr>\n",
              "      <th>3</th>\n",
              "      <td>13</td>\n",
              "      <td>12</td>\n",
              "      <td>1</td>\n",
              "      <td>4</td>\n",
              "      <td>30</td>\n",
              "      <td>0</td>\n",
              "      <td>0</td>\n",
              "      <td>0</td>\n",
              "      <td>0</td>\n",
              "      <td>0</td>\n",
              "      <td>affects_whom</td>\n",
              "    </tr>\n",
              "    <tr>\n",
              "      <th>4</th>\n",
              "      <td>13</td>\n",
              "      <td>7</td>\n",
              "      <td>31</td>\n",
              "      <td>32</td>\n",
              "      <td>33</td>\n",
              "      <td>4</td>\n",
              "      <td>0</td>\n",
              "      <td>0</td>\n",
              "      <td>0</td>\n",
              "      <td>0</td>\n",
              "      <td>affects_whom</td>\n",
              "    </tr>\n",
              "    <tr>\n",
              "      <th>5</th>\n",
              "      <td>2</td>\n",
              "      <td>34</td>\n",
              "      <td>1</td>\n",
              "      <td>4</td>\n",
              "      <td>0</td>\n",
              "      <td>0</td>\n",
              "      <td>0</td>\n",
              "      <td>0</td>\n",
              "      <td>0</td>\n",
              "      <td>0</td>\n",
              "      <td>what_causes</td>\n",
              "    </tr>\n",
              "    <tr>\n",
              "      <th>6</th>\n",
              "      <td>2</td>\n",
              "      <td>35</td>\n",
              "      <td>3</td>\n",
              "      <td>1</td>\n",
              "      <td>4</td>\n",
              "      <td>0</td>\n",
              "      <td>0</td>\n",
              "      <td>0</td>\n",
              "      <td>0</td>\n",
              "      <td>0</td>\n",
              "      <td>what_causes</td>\n",
              "    </tr>\n",
              "    <tr>\n",
              "      <th>7</th>\n",
              "      <td>6</td>\n",
              "      <td>12</td>\n",
              "      <td>21</td>\n",
              "      <td>36</td>\n",
              "      <td>37</td>\n",
              "      <td>38</td>\n",
              "      <td>0</td>\n",
              "      <td>0</td>\n",
              "      <td>0</td>\n",
              "      <td>0</td>\n",
              "      <td>what_causes</td>\n",
              "    </tr>\n",
              "    <tr>\n",
              "      <th>8</th>\n",
              "      <td>14</td>\n",
              "      <td>39</td>\n",
              "      <td>40</td>\n",
              "      <td>1</td>\n",
              "      <td>4</td>\n",
              "      <td>15</td>\n",
              "      <td>0</td>\n",
              "      <td>0</td>\n",
              "      <td>0</td>\n",
              "      <td>0</td>\n",
              "      <td>recover</td>\n",
              "    </tr>\n",
              "    <tr>\n",
              "      <th>9</th>\n",
              "      <td>7</td>\n",
              "      <td>18</td>\n",
              "      <td>41</td>\n",
              "      <td>3</td>\n",
              "      <td>15</td>\n",
              "      <td>42</td>\n",
              "      <td>1</td>\n",
              "      <td>4</td>\n",
              "      <td>0</td>\n",
              "      <td>0</td>\n",
              "      <td>recover</td>\n",
              "    </tr>\n",
              "  </tbody>\n",
              "</table>\n",
              "</div>"
            ],
            "text/plain": [
              "    0   1   2   3   4   5   6  7  8  9        labels\n",
              "0   2  12  18  28   3  19  20  1  4  0    definition\n",
              "1   2   7   1   5   4   0   0  0  0  0    definition\n",
              "2  29   1   5   4   0   0   0  0  0  0    definition\n",
              "3  13  12   1   4  30   0   0  0  0  0  affects_whom\n",
              "4  13   7  31  32  33   4   0  0  0  0  affects_whom\n",
              "5   2  34   1   4   0   0   0  0  0  0   what_causes\n",
              "6   2  35   3   1   4   0   0  0  0  0   what_causes\n",
              "7   6  12  21  36  37  38   0  0  0  0   what_causes\n",
              "8  14  39  40   1   4  15   0  0  0  0       recover\n",
              "9   7  18  41   3  15  42   1  4  0  0       recover"
            ]
          },
          "execution_count": 31,
          "metadata": {},
          "output_type": "execute_result"
        }
      ],
      "source": [
        "df_encoded['labels'] = df1.labels\n",
        "df_encoded.head(10)"
      ]
    },
    {
      "cell_type": "code",
      "execution_count": 32,
      "metadata": {
        "colab": {
          "base_uri": "https://localhost:8080/",
          "height": 726
        },
        "id": "heGzmZM3XS4J",
        "outputId": "ed09e08b-e76f-48c2-da63-99e09df7e653"
      },
      "outputs": [
        {
          "data": {
            "text/html": [
              "<div>\n",
              "<style scoped>\n",
              "    .dataframe tbody tr th:only-of-type {\n",
              "        vertical-align: middle;\n",
              "    }\n",
              "\n",
              "    .dataframe tbody tr th {\n",
              "        vertical-align: top;\n",
              "    }\n",
              "\n",
              "    .dataframe thead th {\n",
              "        text-align: right;\n",
              "    }\n",
              "</style>\n",
              "<table border=\"1\" class=\"dataframe\">\n",
              "  <thead>\n",
              "    <tr style=\"text-align: right;\">\n",
              "      <th></th>\n",
              "      <th>0</th>\n",
              "      <th>1</th>\n",
              "      <th>2</th>\n",
              "      <th>3</th>\n",
              "      <th>4</th>\n",
              "      <th>5</th>\n",
              "      <th>6</th>\n",
              "      <th>7</th>\n",
              "      <th>8</th>\n",
              "      <th>9</th>\n",
              "      <th>labels</th>\n",
              "    </tr>\n",
              "  </thead>\n",
              "  <tbody>\n",
              "    <tr>\n",
              "      <th>0</th>\n",
              "      <td>2</td>\n",
              "      <td>12</td>\n",
              "      <td>18</td>\n",
              "      <td>28</td>\n",
              "      <td>3</td>\n",
              "      <td>19</td>\n",
              "      <td>20</td>\n",
              "      <td>1</td>\n",
              "      <td>4</td>\n",
              "      <td>0</td>\n",
              "      <td>definition</td>\n",
              "    </tr>\n",
              "    <tr>\n",
              "      <th>1</th>\n",
              "      <td>2</td>\n",
              "      <td>7</td>\n",
              "      <td>1</td>\n",
              "      <td>5</td>\n",
              "      <td>4</td>\n",
              "      <td>0</td>\n",
              "      <td>0</td>\n",
              "      <td>0</td>\n",
              "      <td>0</td>\n",
              "      <td>0</td>\n",
              "      <td>definition</td>\n",
              "    </tr>\n",
              "    <tr>\n",
              "      <th>2</th>\n",
              "      <td>29</td>\n",
              "      <td>1</td>\n",
              "      <td>5</td>\n",
              "      <td>4</td>\n",
              "      <td>0</td>\n",
              "      <td>0</td>\n",
              "      <td>0</td>\n",
              "      <td>0</td>\n",
              "      <td>0</td>\n",
              "      <td>0</td>\n",
              "      <td>definition</td>\n",
              "    </tr>\n",
              "    <tr>\n",
              "      <th>3</th>\n",
              "      <td>13</td>\n",
              "      <td>12</td>\n",
              "      <td>1</td>\n",
              "      <td>4</td>\n",
              "      <td>30</td>\n",
              "      <td>0</td>\n",
              "      <td>0</td>\n",
              "      <td>0</td>\n",
              "      <td>0</td>\n",
              "      <td>0</td>\n",
              "      <td>affects_whom</td>\n",
              "    </tr>\n",
              "    <tr>\n",
              "      <th>4</th>\n",
              "      <td>13</td>\n",
              "      <td>7</td>\n",
              "      <td>31</td>\n",
              "      <td>32</td>\n",
              "      <td>33</td>\n",
              "      <td>4</td>\n",
              "      <td>0</td>\n",
              "      <td>0</td>\n",
              "      <td>0</td>\n",
              "      <td>0</td>\n",
              "      <td>affects_whom</td>\n",
              "    </tr>\n",
              "    <tr>\n",
              "      <th>5</th>\n",
              "      <td>2</td>\n",
              "      <td>34</td>\n",
              "      <td>1</td>\n",
              "      <td>4</td>\n",
              "      <td>0</td>\n",
              "      <td>0</td>\n",
              "      <td>0</td>\n",
              "      <td>0</td>\n",
              "      <td>0</td>\n",
              "      <td>0</td>\n",
              "      <td>what_causes</td>\n",
              "    </tr>\n",
              "    <tr>\n",
              "      <th>6</th>\n",
              "      <td>2</td>\n",
              "      <td>35</td>\n",
              "      <td>3</td>\n",
              "      <td>1</td>\n",
              "      <td>4</td>\n",
              "      <td>0</td>\n",
              "      <td>0</td>\n",
              "      <td>0</td>\n",
              "      <td>0</td>\n",
              "      <td>0</td>\n",
              "      <td>what_causes</td>\n",
              "    </tr>\n",
              "    <tr>\n",
              "      <th>7</th>\n",
              "      <td>6</td>\n",
              "      <td>12</td>\n",
              "      <td>21</td>\n",
              "      <td>36</td>\n",
              "      <td>37</td>\n",
              "      <td>38</td>\n",
              "      <td>0</td>\n",
              "      <td>0</td>\n",
              "      <td>0</td>\n",
              "      <td>0</td>\n",
              "      <td>what_causes</td>\n",
              "    </tr>\n",
              "    <tr>\n",
              "      <th>8</th>\n",
              "      <td>14</td>\n",
              "      <td>39</td>\n",
              "      <td>40</td>\n",
              "      <td>1</td>\n",
              "      <td>4</td>\n",
              "      <td>15</td>\n",
              "      <td>0</td>\n",
              "      <td>0</td>\n",
              "      <td>0</td>\n",
              "      <td>0</td>\n",
              "      <td>recover</td>\n",
              "    </tr>\n",
              "    <tr>\n",
              "      <th>9</th>\n",
              "      <td>7</td>\n",
              "      <td>18</td>\n",
              "      <td>41</td>\n",
              "      <td>3</td>\n",
              "      <td>15</td>\n",
              "      <td>42</td>\n",
              "      <td>1</td>\n",
              "      <td>4</td>\n",
              "      <td>0</td>\n",
              "      <td>0</td>\n",
              "      <td>recover</td>\n",
              "    </tr>\n",
              "    <tr>\n",
              "      <th>10</th>\n",
              "      <td>8</td>\n",
              "      <td>43</td>\n",
              "      <td>44</td>\n",
              "      <td>13</td>\n",
              "      <td>45</td>\n",
              "      <td>3</td>\n",
              "      <td>19</td>\n",
              "      <td>46</td>\n",
              "      <td>22</td>\n",
              "      <td>0</td>\n",
              "      <td>steps</td>\n",
              "    </tr>\n",
              "    <tr>\n",
              "      <th>11</th>\n",
              "      <td>2</td>\n",
              "      <td>16</td>\n",
              "      <td>9</td>\n",
              "      <td>47</td>\n",
              "      <td>3</td>\n",
              "      <td>48</td>\n",
              "      <td>49</td>\n",
              "      <td>50</td>\n",
              "      <td>23</td>\n",
              "      <td>22</td>\n",
              "      <td>steps</td>\n",
              "    </tr>\n",
              "    <tr>\n",
              "      <th>12</th>\n",
              "      <td>6</td>\n",
              "      <td>3</td>\n",
              "      <td>10</td>\n",
              "      <td>1</td>\n",
              "      <td>5</td>\n",
              "      <td>11</td>\n",
              "      <td>51</td>\n",
              "      <td>24</td>\n",
              "      <td>0</td>\n",
              "      <td>0</td>\n",
              "      <td>find_help</td>\n",
              "    </tr>\n",
              "    <tr>\n",
              "      <th>13</th>\n",
              "      <td>6</td>\n",
              "      <td>3</td>\n",
              "      <td>10</td>\n",
              "      <td>1</td>\n",
              "      <td>5</td>\n",
              "      <td>11</td>\n",
              "      <td>0</td>\n",
              "      <td>0</td>\n",
              "      <td>0</td>\n",
              "      <td>0</td>\n",
              "      <td>find_help</td>\n",
              "    </tr>\n",
              "    <tr>\n",
              "      <th>14</th>\n",
              "      <td>2</td>\n",
              "      <td>17</td>\n",
              "      <td>52</td>\n",
              "      <td>16</td>\n",
              "      <td>53</td>\n",
              "      <td>0</td>\n",
              "      <td>0</td>\n",
              "      <td>0</td>\n",
              "      <td>0</td>\n",
              "      <td>0</td>\n",
              "      <td>treatement_options</td>\n",
              "    </tr>\n",
              "    <tr>\n",
              "      <th>15</th>\n",
              "      <td>6</td>\n",
              "      <td>14</td>\n",
              "      <td>21</td>\n",
              "      <td>15</td>\n",
              "      <td>0</td>\n",
              "      <td>0</td>\n",
              "      <td>0</td>\n",
              "      <td>0</td>\n",
              "      <td>0</td>\n",
              "      <td>0</td>\n",
              "      <td>treatement_options</td>\n",
              "    </tr>\n",
              "    <tr>\n",
              "      <th>16</th>\n",
              "      <td>6</td>\n",
              "      <td>3</td>\n",
              "      <td>54</td>\n",
              "      <td>55</td>\n",
              "      <td>25</td>\n",
              "      <td>17</td>\n",
              "      <td>0</td>\n",
              "      <td>0</td>\n",
              "      <td>0</td>\n",
              "      <td>0</td>\n",
              "      <td>treatment_tips</td>\n",
              "    </tr>\n",
              "    <tr>\n",
              "      <th>17</th>\n",
              "      <td>2</td>\n",
              "      <td>56</td>\n",
              "      <td>8</td>\n",
              "      <td>57</td>\n",
              "      <td>25</td>\n",
              "      <td>58</td>\n",
              "      <td>59</td>\n",
              "      <td>8</td>\n",
              "      <td>60</td>\n",
              "      <td>17</td>\n",
              "      <td>treatment_tips</td>\n",
              "    </tr>\n",
              "    <tr>\n",
              "      <th>18</th>\n",
              "      <td>2</td>\n",
              "      <td>7</td>\n",
              "      <td>9</td>\n",
              "      <td>61</td>\n",
              "      <td>62</td>\n",
              "      <td>1</td>\n",
              "      <td>5</td>\n",
              "      <td>26</td>\n",
              "      <td>0</td>\n",
              "      <td>0</td>\n",
              "      <td>professional_types</td>\n",
              "    </tr>\n",
              "    <tr>\n",
              "      <th>19</th>\n",
              "      <td>2</td>\n",
              "      <td>16</td>\n",
              "      <td>9</td>\n",
              "      <td>63</td>\n",
              "      <td>64</td>\n",
              "      <td>23</td>\n",
              "      <td>1</td>\n",
              "      <td>5</td>\n",
              "      <td>26</td>\n",
              "      <td>65</td>\n",
              "      <td>professional_types</td>\n",
              "    </tr>\n",
              "    <tr>\n",
              "      <th>20</th>\n",
              "      <td>6</td>\n",
              "      <td>14</td>\n",
              "      <td>8</td>\n",
              "      <td>10</td>\n",
              "      <td>20</td>\n",
              "      <td>1</td>\n",
              "      <td>5</td>\n",
              "      <td>11</td>\n",
              "      <td>27</td>\n",
              "      <td>24</td>\n",
              "      <td>right_professional</td>\n",
              "    </tr>\n",
              "    <tr>\n",
              "      <th>21</th>\n",
              "      <td>6</td>\n",
              "      <td>3</td>\n",
              "      <td>10</td>\n",
              "      <td>9</td>\n",
              "      <td>27</td>\n",
              "      <td>1</td>\n",
              "      <td>5</td>\n",
              "      <td>11</td>\n",
              "      <td>0</td>\n",
              "      <td>0</td>\n",
              "      <td>right_professional</td>\n",
              "    </tr>\n",
              "  </tbody>\n",
              "</table>\n",
              "</div>"
            ],
            "text/plain": [
              "     0   1   2   3   4   5   6   7   8   9              labels\n",
              "0    2  12  18  28   3  19  20   1   4   0          definition\n",
              "1    2   7   1   5   4   0   0   0   0   0          definition\n",
              "2   29   1   5   4   0   0   0   0   0   0          definition\n",
              "3   13  12   1   4  30   0   0   0   0   0        affects_whom\n",
              "4   13   7  31  32  33   4   0   0   0   0        affects_whom\n",
              "5    2  34   1   4   0   0   0   0   0   0         what_causes\n",
              "6    2  35   3   1   4   0   0   0   0   0         what_causes\n",
              "7    6  12  21  36  37  38   0   0   0   0         what_causes\n",
              "8   14  39  40   1   4  15   0   0   0   0             recover\n",
              "9    7  18  41   3  15  42   1   4   0   0             recover\n",
              "10   8  43  44  13  45   3  19  46  22   0               steps\n",
              "11   2  16   9  47   3  48  49  50  23  22               steps\n",
              "12   6   3  10   1   5  11  51  24   0   0           find_help\n",
              "13   6   3  10   1   5  11   0   0   0   0           find_help\n",
              "14   2  17  52  16  53   0   0   0   0   0  treatement_options\n",
              "15   6  14  21  15   0   0   0   0   0   0  treatement_options\n",
              "16   6   3  54  55  25  17   0   0   0   0      treatment_tips\n",
              "17   2  56   8  57  25  58  59   8  60  17      treatment_tips\n",
              "18   2   7   9  61  62   1   5  26   0   0  professional_types\n",
              "19   2  16   9  63  64  23   1   5  26  65  professional_types\n",
              "20   6  14   8  10  20   1   5  11  27  24  right_professional\n",
              "21   6   3  10   9  27   1   5  11   0   0  right_professional"
            ]
          },
          "execution_count": 32,
          "metadata": {},
          "output_type": "execute_result"
        }
      ],
      "source": [
        "df_encoded"
      ]
    },
    {
      "cell_type": "code",
      "execution_count": 33,
      "metadata": {
        "colab": {
          "base_uri": "https://localhost:8080/"
        },
        "id": "kxyYd8LvXSwB",
        "outputId": "32c053a6-2222-4c09-d36d-c2ace77ed244"
      },
      "outputs": [
        {
          "data": {
            "text/plain": [
              "array([1, 1, 1, 0, 0, 9, 9, 9, 4, 4, 6, 6, 2, 2, 7, 7, 8, 8, 3, 3, 5, 5])"
            ]
          },
          "execution_count": 33,
          "metadata": {},
          "output_type": "execute_result"
        }
      ],
      "source": [
        "lable_enc = LabelEncoder()\n",
        "\n",
        "# encoding the labels\n",
        "\n",
        "labl = lable_enc.fit_transform(df_encoded.labels)\n",
        "labl"
      ]
    },
    {
      "cell_type": "code",
      "execution_count": 34,
      "metadata": {
        "colab": {
          "base_uri": "https://localhost:8080/"
        },
        "id": "EL0qCx9e_9Jm",
        "outputId": "e7ac0310-b592-4f3d-920f-acefda9bdeba"
      },
      "outputs": [
        {
          "data": {
            "text/plain": [
              "22"
            ]
          },
          "execution_count": 34,
          "metadata": {},
          "output_type": "execute_result"
        }
      ],
      "source": [
        "len(labl)"
      ]
    },
    {
      "cell_type": "code",
      "execution_count": 35,
      "metadata": {
        "colab": {
          "base_uri": "https://localhost:8080/"
        },
        "id": "XMC_1ZukXiDL",
        "outputId": "cd90cd74-9007-4df0-d558-f07cd0e9db15"
      },
      "outputs": [
        {
          "data": {
            "text/plain": [
              "{'definition': 1,\n",
              " 'affects_whom': 0,\n",
              " 'what_causes': 9,\n",
              " 'recover': 4,\n",
              " 'steps': 6,\n",
              " 'find_help': 2,\n",
              " 'treatement_options': 7,\n",
              " 'treatment_tips': 8,\n",
              " 'professional_types': 3,\n",
              " 'right_professional': 5}"
            ]
          },
          "execution_count": 35,
          "metadata": {},
          "output_type": "execute_result"
        }
      ],
      "source": [
        "mapper = {}\n",
        "for index,key in enumerate(df_encoded.labels):\n",
        "    if key not in mapper.keys():\n",
        "        mapper[key] = labl[index]\n",
        "mapper"
      ]
    },
    {
      "cell_type": "markdown",
      "metadata": {
        "id": "P3myx7GaAI5Q"
      },
      "source": [
        "Repeat the same for df2"
      ]
    },
    {
      "cell_type": "code",
      "execution_count": 36,
      "metadata": {
        "colab": {
          "base_uri": "https://localhost:8080/",
          "height": 203
        },
        "id": "4nCk2oQbXh_X",
        "outputId": "7fa8a86a-9bb1-40c5-9bbb-d08e0472e4f1"
      },
      "outputs": [
        {
          "data": {
            "text/html": [
              "<div>\n",
              "<style scoped>\n",
              "    .dataframe tbody tr th:only-of-type {\n",
              "        vertical-align: middle;\n",
              "    }\n",
              "\n",
              "    .dataframe tbody tr th {\n",
              "        vertical-align: top;\n",
              "    }\n",
              "\n",
              "    .dataframe thead th {\n",
              "        text-align: right;\n",
              "    }\n",
              "</style>\n",
              "<table border=\"1\" class=\"dataframe\">\n",
              "  <thead>\n",
              "    <tr style=\"text-align: right;\">\n",
              "      <th></th>\n",
              "      <th>response</th>\n",
              "      <th>labels</th>\n",
              "    </tr>\n",
              "  </thead>\n",
              "  <tbody>\n",
              "    <tr>\n",
              "      <th>0</th>\n",
              "      <td>Mental illnesses are health conditions that di...</td>\n",
              "      <td>definition</td>\n",
              "    </tr>\n",
              "    <tr>\n",
              "      <th>1</th>\n",
              "      <td>It is estimated that mental illness affects 1 ...</td>\n",
              "      <td>affects_whom</td>\n",
              "    </tr>\n",
              "    <tr>\n",
              "      <th>2</th>\n",
              "      <td>Symptoms of mental health disorders vary depen...</td>\n",
              "      <td>what_causes</td>\n",
              "    </tr>\n",
              "    <tr>\n",
              "      <th>3</th>\n",
              "      <td>When healing from mental illness, early identi...</td>\n",
              "      <td>recover</td>\n",
              "    </tr>\n",
              "    <tr>\n",
              "      <th>4</th>\n",
              "      <td>Although this website cannot substitute for pr...</td>\n",
              "      <td>steps</td>\n",
              "    </tr>\n",
              "  </tbody>\n",
              "</table>\n",
              "</div>"
            ],
            "text/plain": [
              "                                            response        labels\n",
              "0  Mental illnesses are health conditions that di...    definition\n",
              "1  It is estimated that mental illness affects 1 ...  affects_whom\n",
              "2  Symptoms of mental health disorders vary depen...   what_causes\n",
              "3  When healing from mental illness, early identi...       recover\n",
              "4  Although this website cannot substitute for pr...         steps"
            ]
          },
          "execution_count": 36,
          "metadata": {},
          "output_type": "execute_result"
        }
      ],
      "source": [
        "df2.head()"
      ]
    },
    {
      "cell_type": "code",
      "execution_count": 37,
      "metadata": {
        "colab": {
          "base_uri": "https://localhost:8080/",
          "height": 357
        },
        "id": "5mqpR_GuMPrc",
        "outputId": "4f2363e2-0a7b-45cf-b527-e4c108400f08"
      },
      "outputs": [
        {
          "data": {
            "text/html": [
              "<div>\n",
              "<style scoped>\n",
              "    .dataframe tbody tr th:only-of-type {\n",
              "        vertical-align: middle;\n",
              "    }\n",
              "\n",
              "    .dataframe tbody tr th {\n",
              "        vertical-align: top;\n",
              "    }\n",
              "\n",
              "    .dataframe thead th {\n",
              "        text-align: right;\n",
              "    }\n",
              "</style>\n",
              "<table border=\"1\" class=\"dataframe\">\n",
              "  <thead>\n",
              "    <tr style=\"text-align: right;\">\n",
              "      <th></th>\n",
              "      <th>response</th>\n",
              "      <th>labels</th>\n",
              "    </tr>\n",
              "  </thead>\n",
              "  <tbody>\n",
              "    <tr>\n",
              "      <th>0</th>\n",
              "      <td>Mental illnesses are health conditions that di...</td>\n",
              "      <td>definition</td>\n",
              "    </tr>\n",
              "    <tr>\n",
              "      <th>1</th>\n",
              "      <td>It is estimated that mental illness affects 1 ...</td>\n",
              "      <td>affects_whom</td>\n",
              "    </tr>\n",
              "    <tr>\n",
              "      <th>2</th>\n",
              "      <td>Symptoms of mental health disorders vary depen...</td>\n",
              "      <td>what_causes</td>\n",
              "    </tr>\n",
              "    <tr>\n",
              "      <th>3</th>\n",
              "      <td>When healing from mental illness, early identi...</td>\n",
              "      <td>recover</td>\n",
              "    </tr>\n",
              "    <tr>\n",
              "      <th>4</th>\n",
              "      <td>Although this website cannot substitute for pr...</td>\n",
              "      <td>steps</td>\n",
              "    </tr>\n",
              "    <tr>\n",
              "      <th>5</th>\n",
              "      <td>Feeling comfortable with the professional you ...</td>\n",
              "      <td>find_help</td>\n",
              "    </tr>\n",
              "    <tr>\n",
              "      <th>6</th>\n",
              "      <td>Just as there are different types of medicatio...</td>\n",
              "      <td>treatement_options</td>\n",
              "    </tr>\n",
              "    <tr>\n",
              "      <th>7</th>\n",
              "      <td>Since beginning treatment is a big step for in...</td>\n",
              "      <td>treatment_tips</td>\n",
              "    </tr>\n",
              "    <tr>\n",
              "      <th>8</th>\n",
              "      <td>There are many types of mental health professi...</td>\n",
              "      <td>professional_types</td>\n",
              "    </tr>\n",
              "    <tr>\n",
              "      <th>9</th>\n",
              "      <td>Feeling comfortable with the professional you ...</td>\n",
              "      <td>right_professional</td>\n",
              "    </tr>\n",
              "  </tbody>\n",
              "</table>\n",
              "</div>"
            ],
            "text/plain": [
              "                                            response              labels\n",
              "0  Mental illnesses are health conditions that di...          definition\n",
              "1  It is estimated that mental illness affects 1 ...        affects_whom\n",
              "2  Symptoms of mental health disorders vary depen...         what_causes\n",
              "3  When healing from mental illness, early identi...             recover\n",
              "4  Although this website cannot substitute for pr...               steps\n",
              "5  Feeling comfortable with the professional you ...           find_help\n",
              "6  Just as there are different types of medicatio...  treatement_options\n",
              "7  Since beginning treatment is a big step for in...      treatment_tips\n",
              "8  There are many types of mental health professi...  professional_types\n",
              "9  Feeling comfortable with the professional you ...  right_professional"
            ]
          },
          "execution_count": 37,
          "metadata": {},
          "output_type": "execute_result"
        }
      ],
      "source": [
        "df2"
      ]
    },
    {
      "cell_type": "code",
      "execution_count": 38,
      "metadata": {
        "colab": {
          "base_uri": "https://localhost:8080/",
          "height": 203
        },
        "id": "cR7qqxoeXh8w",
        "outputId": "bfb288a2-e061-4928-9b8b-3a1e20d69fa2"
      },
      "outputs": [
        {
          "data": {
            "text/html": [
              "<div>\n",
              "<style scoped>\n",
              "    .dataframe tbody tr th:only-of-type {\n",
              "        vertical-align: middle;\n",
              "    }\n",
              "\n",
              "    .dataframe tbody tr th {\n",
              "        vertical-align: top;\n",
              "    }\n",
              "\n",
              "    .dataframe thead th {\n",
              "        text-align: right;\n",
              "    }\n",
              "</style>\n",
              "<table border=\"1\" class=\"dataframe\">\n",
              "  <thead>\n",
              "    <tr style=\"text-align: right;\">\n",
              "      <th></th>\n",
              "      <th>response</th>\n",
              "      <th>labels</th>\n",
              "    </tr>\n",
              "  </thead>\n",
              "  <tbody>\n",
              "    <tr>\n",
              "      <th>0</th>\n",
              "      <td>Mental illnesses are health conditions that di...</td>\n",
              "      <td>1</td>\n",
              "    </tr>\n",
              "    <tr>\n",
              "      <th>1</th>\n",
              "      <td>It is estimated that mental illness affects 1 ...</td>\n",
              "      <td>0</td>\n",
              "    </tr>\n",
              "    <tr>\n",
              "      <th>2</th>\n",
              "      <td>Symptoms of mental health disorders vary depen...</td>\n",
              "      <td>9</td>\n",
              "    </tr>\n",
              "    <tr>\n",
              "      <th>3</th>\n",
              "      <td>When healing from mental illness, early identi...</td>\n",
              "      <td>4</td>\n",
              "    </tr>\n",
              "    <tr>\n",
              "      <th>4</th>\n",
              "      <td>Although this website cannot substitute for pr...</td>\n",
              "      <td>6</td>\n",
              "    </tr>\n",
              "  </tbody>\n",
              "</table>\n",
              "</div>"
            ],
            "text/plain": [
              "                                            response  labels\n",
              "0  Mental illnesses are health conditions that di...       1\n",
              "1  It is estimated that mental illness affects 1 ...       0\n",
              "2  Symptoms of mental health disorders vary depen...       9\n",
              "3  When healing from mental illness, early identi...       4\n",
              "4  Although this website cannot substitute for pr...       6"
            ]
          },
          "execution_count": 38,
          "metadata": {},
          "output_type": "execute_result"
        }
      ],
      "source": [
        "df2.labels = df2.labels.map(mapper).astype({'labels': 'int32'})\n",
        "df2.head()"
      ]
    },
    {
      "cell_type": "code",
      "execution_count": 39,
      "metadata": {
        "id": "4ixZCvNZXn4g"
      },
      "outputs": [],
      "source": [
        "df2.to_csv('response.csv',index=False)"
      ]
    },
    {
      "cell_type": "code",
      "execution_count": 40,
      "metadata": {
        "colab": {
          "base_uri": "https://localhost:8080/",
          "height": 203
        },
        "id": "hIjUTKNvAfao",
        "outputId": "a084e1eb-af7a-49bd-c664-4453abdaf6c0"
      },
      "outputs": [
        {
          "data": {
            "text/html": [
              "<div>\n",
              "<style scoped>\n",
              "    .dataframe tbody tr th:only-of-type {\n",
              "        vertical-align: middle;\n",
              "    }\n",
              "\n",
              "    .dataframe tbody tr th {\n",
              "        vertical-align: top;\n",
              "    }\n",
              "\n",
              "    .dataframe thead th {\n",
              "        text-align: right;\n",
              "    }\n",
              "</style>\n",
              "<table border=\"1\" class=\"dataframe\">\n",
              "  <thead>\n",
              "    <tr style=\"text-align: right;\">\n",
              "      <th></th>\n",
              "      <th>0</th>\n",
              "      <th>1</th>\n",
              "      <th>2</th>\n",
              "      <th>3</th>\n",
              "      <th>4</th>\n",
              "      <th>5</th>\n",
              "      <th>6</th>\n",
              "      <th>7</th>\n",
              "      <th>8</th>\n",
              "      <th>9</th>\n",
              "      <th>labels</th>\n",
              "    </tr>\n",
              "  </thead>\n",
              "  <tbody>\n",
              "    <tr>\n",
              "      <th>0</th>\n",
              "      <td>2</td>\n",
              "      <td>12</td>\n",
              "      <td>18</td>\n",
              "      <td>28</td>\n",
              "      <td>3</td>\n",
              "      <td>19</td>\n",
              "      <td>20</td>\n",
              "      <td>1</td>\n",
              "      <td>4</td>\n",
              "      <td>0</td>\n",
              "      <td>definition</td>\n",
              "    </tr>\n",
              "    <tr>\n",
              "      <th>1</th>\n",
              "      <td>2</td>\n",
              "      <td>7</td>\n",
              "      <td>1</td>\n",
              "      <td>5</td>\n",
              "      <td>4</td>\n",
              "      <td>0</td>\n",
              "      <td>0</td>\n",
              "      <td>0</td>\n",
              "      <td>0</td>\n",
              "      <td>0</td>\n",
              "      <td>definition</td>\n",
              "    </tr>\n",
              "    <tr>\n",
              "      <th>2</th>\n",
              "      <td>29</td>\n",
              "      <td>1</td>\n",
              "      <td>5</td>\n",
              "      <td>4</td>\n",
              "      <td>0</td>\n",
              "      <td>0</td>\n",
              "      <td>0</td>\n",
              "      <td>0</td>\n",
              "      <td>0</td>\n",
              "      <td>0</td>\n",
              "      <td>definition</td>\n",
              "    </tr>\n",
              "    <tr>\n",
              "      <th>3</th>\n",
              "      <td>13</td>\n",
              "      <td>12</td>\n",
              "      <td>1</td>\n",
              "      <td>4</td>\n",
              "      <td>30</td>\n",
              "      <td>0</td>\n",
              "      <td>0</td>\n",
              "      <td>0</td>\n",
              "      <td>0</td>\n",
              "      <td>0</td>\n",
              "      <td>affects_whom</td>\n",
              "    </tr>\n",
              "    <tr>\n",
              "      <th>4</th>\n",
              "      <td>13</td>\n",
              "      <td>7</td>\n",
              "      <td>31</td>\n",
              "      <td>32</td>\n",
              "      <td>33</td>\n",
              "      <td>4</td>\n",
              "      <td>0</td>\n",
              "      <td>0</td>\n",
              "      <td>0</td>\n",
              "      <td>0</td>\n",
              "      <td>affects_whom</td>\n",
              "    </tr>\n",
              "  </tbody>\n",
              "</table>\n",
              "</div>"
            ],
            "text/plain": [
              "    0   1   2   3   4   5   6  7  8  9        labels\n",
              "0   2  12  18  28   3  19  20  1  4  0    definition\n",
              "1   2   7   1   5   4   0   0  0  0  0    definition\n",
              "2  29   1   5   4   0   0   0  0  0  0    definition\n",
              "3  13  12   1   4  30   0   0  0  0  0  affects_whom\n",
              "4  13   7  31  32  33   4   0  0  0  0  affects_whom"
            ]
          },
          "execution_count": 40,
          "metadata": {},
          "output_type": "execute_result"
        }
      ],
      "source": [
        "df_encoded.head()"
      ]
    },
    {
      "cell_type": "code",
      "execution_count": 41,
      "metadata": {
        "colab": {
          "base_uri": "https://localhost:8080/"
        },
        "id": "gIyITJXtAkHZ",
        "outputId": "59a4c91e-e020-48ad-e2d4-44587dba3534"
      },
      "outputs": [
        {
          "data": {
            "text/plain": [
              "[1, 2, 4, 6, 7, 9, 11, 13, 15, 17, 19, 21]"
            ]
          },
          "execution_count": 41,
          "metadata": {},
          "output_type": "execute_result"
        }
      ],
      "source": [
        "train_index"
      ]
    },
    {
      "cell_type": "code",
      "execution_count": 42,
      "metadata": {
        "colab": {
          "base_uri": "https://localhost:8080/"
        },
        "id": "mdAynG8hAmUF",
        "outputId": "aff7c007-10fe-4482-d4fa-ff03e1c283d1"
      },
      "outputs": [
        {
          "data": {
            "text/plain": [
              "[3, 0, 12, 18, 8, 20, 10, 14, 16, 5]"
            ]
          },
          "execution_count": 42,
          "metadata": {},
          "output_type": "execute_result"
        }
      ],
      "source": [
        "test_index"
      ]
    },
    {
      "cell_type": "code",
      "execution_count": 43,
      "metadata": {
        "id": "-KWZh9SUXtwA"
      },
      "outputs": [],
      "source": [
        "train = df_encoded.loc[train_index]\n",
        "test = df_encoded.loc[test_index]"
      ]
    },
    {
      "cell_type": "markdown",
      "metadata": {
        "id": "Fb9aSpfs7NSN"
      },
      "source": [
        "## Training and testing"
      ]
    },
    {
      "cell_type": "code",
      "execution_count": 44,
      "metadata": {
        "colab": {
          "base_uri": "https://localhost:8080/",
          "height": 418
        },
        "id": "AcAZpSdmBYSx",
        "outputId": "001562f0-5172-4d9d-a1bc-5c57b6b84084"
      },
      "outputs": [
        {
          "data": {
            "text/html": [
              "<div>\n",
              "<style scoped>\n",
              "    .dataframe tbody tr th:only-of-type {\n",
              "        vertical-align: middle;\n",
              "    }\n",
              "\n",
              "    .dataframe tbody tr th {\n",
              "        vertical-align: top;\n",
              "    }\n",
              "\n",
              "    .dataframe thead th {\n",
              "        text-align: right;\n",
              "    }\n",
              "</style>\n",
              "<table border=\"1\" class=\"dataframe\">\n",
              "  <thead>\n",
              "    <tr style=\"text-align: right;\">\n",
              "      <th></th>\n",
              "      <th>0</th>\n",
              "      <th>1</th>\n",
              "      <th>2</th>\n",
              "      <th>3</th>\n",
              "      <th>4</th>\n",
              "      <th>5</th>\n",
              "      <th>6</th>\n",
              "      <th>7</th>\n",
              "      <th>8</th>\n",
              "      <th>9</th>\n",
              "      <th>labels</th>\n",
              "    </tr>\n",
              "  </thead>\n",
              "  <tbody>\n",
              "    <tr>\n",
              "      <th>1</th>\n",
              "      <td>2</td>\n",
              "      <td>7</td>\n",
              "      <td>1</td>\n",
              "      <td>5</td>\n",
              "      <td>4</td>\n",
              "      <td>0</td>\n",
              "      <td>0</td>\n",
              "      <td>0</td>\n",
              "      <td>0</td>\n",
              "      <td>0</td>\n",
              "      <td>definition</td>\n",
              "    </tr>\n",
              "    <tr>\n",
              "      <th>2</th>\n",
              "      <td>29</td>\n",
              "      <td>1</td>\n",
              "      <td>5</td>\n",
              "      <td>4</td>\n",
              "      <td>0</td>\n",
              "      <td>0</td>\n",
              "      <td>0</td>\n",
              "      <td>0</td>\n",
              "      <td>0</td>\n",
              "      <td>0</td>\n",
              "      <td>definition</td>\n",
              "    </tr>\n",
              "    <tr>\n",
              "      <th>4</th>\n",
              "      <td>13</td>\n",
              "      <td>7</td>\n",
              "      <td>31</td>\n",
              "      <td>32</td>\n",
              "      <td>33</td>\n",
              "      <td>4</td>\n",
              "      <td>0</td>\n",
              "      <td>0</td>\n",
              "      <td>0</td>\n",
              "      <td>0</td>\n",
              "      <td>affects_whom</td>\n",
              "    </tr>\n",
              "    <tr>\n",
              "      <th>6</th>\n",
              "      <td>2</td>\n",
              "      <td>35</td>\n",
              "      <td>3</td>\n",
              "      <td>1</td>\n",
              "      <td>4</td>\n",
              "      <td>0</td>\n",
              "      <td>0</td>\n",
              "      <td>0</td>\n",
              "      <td>0</td>\n",
              "      <td>0</td>\n",
              "      <td>what_causes</td>\n",
              "    </tr>\n",
              "    <tr>\n",
              "      <th>7</th>\n",
              "      <td>6</td>\n",
              "      <td>12</td>\n",
              "      <td>21</td>\n",
              "      <td>36</td>\n",
              "      <td>37</td>\n",
              "      <td>38</td>\n",
              "      <td>0</td>\n",
              "      <td>0</td>\n",
              "      <td>0</td>\n",
              "      <td>0</td>\n",
              "      <td>what_causes</td>\n",
              "    </tr>\n",
              "    <tr>\n",
              "      <th>9</th>\n",
              "      <td>7</td>\n",
              "      <td>18</td>\n",
              "      <td>41</td>\n",
              "      <td>3</td>\n",
              "      <td>15</td>\n",
              "      <td>42</td>\n",
              "      <td>1</td>\n",
              "      <td>4</td>\n",
              "      <td>0</td>\n",
              "      <td>0</td>\n",
              "      <td>recover</td>\n",
              "    </tr>\n",
              "    <tr>\n",
              "      <th>11</th>\n",
              "      <td>2</td>\n",
              "      <td>16</td>\n",
              "      <td>9</td>\n",
              "      <td>47</td>\n",
              "      <td>3</td>\n",
              "      <td>48</td>\n",
              "      <td>49</td>\n",
              "      <td>50</td>\n",
              "      <td>23</td>\n",
              "      <td>22</td>\n",
              "      <td>steps</td>\n",
              "    </tr>\n",
              "    <tr>\n",
              "      <th>13</th>\n",
              "      <td>6</td>\n",
              "      <td>3</td>\n",
              "      <td>10</td>\n",
              "      <td>1</td>\n",
              "      <td>5</td>\n",
              "      <td>11</td>\n",
              "      <td>0</td>\n",
              "      <td>0</td>\n",
              "      <td>0</td>\n",
              "      <td>0</td>\n",
              "      <td>find_help</td>\n",
              "    </tr>\n",
              "    <tr>\n",
              "      <th>15</th>\n",
              "      <td>6</td>\n",
              "      <td>14</td>\n",
              "      <td>21</td>\n",
              "      <td>15</td>\n",
              "      <td>0</td>\n",
              "      <td>0</td>\n",
              "      <td>0</td>\n",
              "      <td>0</td>\n",
              "      <td>0</td>\n",
              "      <td>0</td>\n",
              "      <td>treatement_options</td>\n",
              "    </tr>\n",
              "    <tr>\n",
              "      <th>17</th>\n",
              "      <td>2</td>\n",
              "      <td>56</td>\n",
              "      <td>8</td>\n",
              "      <td>57</td>\n",
              "      <td>25</td>\n",
              "      <td>58</td>\n",
              "      <td>59</td>\n",
              "      <td>8</td>\n",
              "      <td>60</td>\n",
              "      <td>17</td>\n",
              "      <td>treatment_tips</td>\n",
              "    </tr>\n",
              "    <tr>\n",
              "      <th>19</th>\n",
              "      <td>2</td>\n",
              "      <td>16</td>\n",
              "      <td>9</td>\n",
              "      <td>63</td>\n",
              "      <td>64</td>\n",
              "      <td>23</td>\n",
              "      <td>1</td>\n",
              "      <td>5</td>\n",
              "      <td>26</td>\n",
              "      <td>65</td>\n",
              "      <td>professional_types</td>\n",
              "    </tr>\n",
              "    <tr>\n",
              "      <th>21</th>\n",
              "      <td>6</td>\n",
              "      <td>3</td>\n",
              "      <td>10</td>\n",
              "      <td>9</td>\n",
              "      <td>27</td>\n",
              "      <td>1</td>\n",
              "      <td>5</td>\n",
              "      <td>11</td>\n",
              "      <td>0</td>\n",
              "      <td>0</td>\n",
              "      <td>right_professional</td>\n",
              "    </tr>\n",
              "  </tbody>\n",
              "</table>\n",
              "</div>"
            ],
            "text/plain": [
              "     0   1   2   3   4   5   6   7   8   9              labels\n",
              "1    2   7   1   5   4   0   0   0   0   0          definition\n",
              "2   29   1   5   4   0   0   0   0   0   0          definition\n",
              "4   13   7  31  32  33   4   0   0   0   0        affects_whom\n",
              "6    2  35   3   1   4   0   0   0   0   0         what_causes\n",
              "7    6  12  21  36  37  38   0   0   0   0         what_causes\n",
              "9    7  18  41   3  15  42   1   4   0   0             recover\n",
              "11   2  16   9  47   3  48  49  50  23  22               steps\n",
              "13   6   3  10   1   5  11   0   0   0   0           find_help\n",
              "15   6  14  21  15   0   0   0   0   0   0  treatement_options\n",
              "17   2  56   8  57  25  58  59   8  60  17      treatment_tips\n",
              "19   2  16   9  63  64  23   1   5  26  65  professional_types\n",
              "21   6   3  10   9  27   1   5  11   0   0  right_professional"
            ]
          },
          "execution_count": 44,
          "metadata": {},
          "output_type": "execute_result"
        }
      ],
      "source": [
        "train"
      ]
    },
    {
      "cell_type": "code",
      "execution_count": 45,
      "metadata": {
        "colab": {
          "base_uri": "https://localhost:8080/",
          "height": 203
        },
        "id": "epPEROQGBlsm",
        "outputId": "20e37b06-0375-4ce9-82d2-0a4cb57bec53"
      },
      "outputs": [
        {
          "data": {
            "text/html": [
              "<div>\n",
              "<style scoped>\n",
              "    .dataframe tbody tr th:only-of-type {\n",
              "        vertical-align: middle;\n",
              "    }\n",
              "\n",
              "    .dataframe tbody tr th {\n",
              "        vertical-align: top;\n",
              "    }\n",
              "\n",
              "    .dataframe thead th {\n",
              "        text-align: right;\n",
              "    }\n",
              "</style>\n",
              "<table border=\"1\" class=\"dataframe\">\n",
              "  <thead>\n",
              "    <tr style=\"text-align: right;\">\n",
              "      <th></th>\n",
              "      <th>0</th>\n",
              "      <th>1</th>\n",
              "      <th>2</th>\n",
              "      <th>3</th>\n",
              "      <th>4</th>\n",
              "      <th>5</th>\n",
              "      <th>6</th>\n",
              "      <th>7</th>\n",
              "      <th>8</th>\n",
              "      <th>9</th>\n",
              "      <th>labels</th>\n",
              "    </tr>\n",
              "  </thead>\n",
              "  <tbody>\n",
              "    <tr>\n",
              "      <th>3</th>\n",
              "      <td>13</td>\n",
              "      <td>12</td>\n",
              "      <td>1</td>\n",
              "      <td>4</td>\n",
              "      <td>30</td>\n",
              "      <td>0</td>\n",
              "      <td>0</td>\n",
              "      <td>0</td>\n",
              "      <td>0</td>\n",
              "      <td>0</td>\n",
              "      <td>affects_whom</td>\n",
              "    </tr>\n",
              "    <tr>\n",
              "      <th>0</th>\n",
              "      <td>2</td>\n",
              "      <td>12</td>\n",
              "      <td>18</td>\n",
              "      <td>28</td>\n",
              "      <td>3</td>\n",
              "      <td>19</td>\n",
              "      <td>20</td>\n",
              "      <td>1</td>\n",
              "      <td>4</td>\n",
              "      <td>0</td>\n",
              "      <td>definition</td>\n",
              "    </tr>\n",
              "    <tr>\n",
              "      <th>12</th>\n",
              "      <td>6</td>\n",
              "      <td>3</td>\n",
              "      <td>10</td>\n",
              "      <td>1</td>\n",
              "      <td>5</td>\n",
              "      <td>11</td>\n",
              "      <td>51</td>\n",
              "      <td>24</td>\n",
              "      <td>0</td>\n",
              "      <td>0</td>\n",
              "      <td>find_help</td>\n",
              "    </tr>\n",
              "    <tr>\n",
              "      <th>18</th>\n",
              "      <td>2</td>\n",
              "      <td>7</td>\n",
              "      <td>9</td>\n",
              "      <td>61</td>\n",
              "      <td>62</td>\n",
              "      <td>1</td>\n",
              "      <td>5</td>\n",
              "      <td>26</td>\n",
              "      <td>0</td>\n",
              "      <td>0</td>\n",
              "      <td>professional_types</td>\n",
              "    </tr>\n",
              "    <tr>\n",
              "      <th>8</th>\n",
              "      <td>14</td>\n",
              "      <td>39</td>\n",
              "      <td>40</td>\n",
              "      <td>1</td>\n",
              "      <td>4</td>\n",
              "      <td>15</td>\n",
              "      <td>0</td>\n",
              "      <td>0</td>\n",
              "      <td>0</td>\n",
              "      <td>0</td>\n",
              "      <td>recover</td>\n",
              "    </tr>\n",
              "  </tbody>\n",
              "</table>\n",
              "</div>"
            ],
            "text/plain": [
              "     0   1   2   3   4   5   6   7  8  9              labels\n",
              "3   13  12   1   4  30   0   0   0  0  0        affects_whom\n",
              "0    2  12  18  28   3  19  20   1  4  0          definition\n",
              "12   6   3  10   1   5  11  51  24  0  0           find_help\n",
              "18   2   7   9  61  62   1   5  26  0  0  professional_types\n",
              "8   14  39  40   1   4  15   0   0  0  0             recover"
            ]
          },
          "execution_count": 45,
          "metadata": {},
          "output_type": "execute_result"
        }
      ],
      "source": [
        "test.head()"
      ]
    },
    {
      "cell_type": "code",
      "execution_count": 46,
      "metadata": {
        "colab": {
          "base_uri": "https://localhost:8080/"
        },
        "id": "C1ZYcCJFmQfg",
        "outputId": "3726982d-8103-4c01-c4ac-cb1cc22665d5"
      },
      "outputs": [
        {
          "data": {
            "text/plain": [
              "definition            2\n",
              "what_causes           2\n",
              "affects_whom          1\n",
              "recover               1\n",
              "steps                 1\n",
              "find_help             1\n",
              "treatement_options    1\n",
              "treatment_tips        1\n",
              "professional_types    1\n",
              "right_professional    1\n",
              "Name: labels, dtype: int64"
            ]
          },
          "execution_count": 46,
          "metadata": {},
          "output_type": "execute_result"
        }
      ],
      "source": [
        "train.labels.value_counts()"
      ]
    },
    {
      "cell_type": "code",
      "execution_count": 47,
      "metadata": {
        "colab": {
          "base_uri": "https://localhost:8080/"
        },
        "id": "E46URbzfmTLE",
        "outputId": "6f923aae-c043-43e7-d209-94ff07b7881e"
      },
      "outputs": [
        {
          "data": {
            "text/plain": [
              "affects_whom          1\n",
              "definition            1\n",
              "find_help             1\n",
              "professional_types    1\n",
              "recover               1\n",
              "right_professional    1\n",
              "steps                 1\n",
              "treatement_options    1\n",
              "treatment_tips        1\n",
              "what_causes           1\n",
              "Name: labels, dtype: int64"
            ]
          },
          "execution_count": 47,
          "metadata": {},
          "output_type": "execute_result"
        }
      ],
      "source": [
        "test.labels.value_counts()"
      ]
    },
    {
      "cell_type": "code",
      "execution_count": 48,
      "metadata": {
        "colab": {
          "base_uri": "https://localhost:8080/",
          "height": 418
        },
        "id": "PcbjQwN-RQui",
        "outputId": "0eebccd7-fa8c-4bdf-cedc-c8bd68ce066d"
      },
      "outputs": [
        {
          "data": {
            "text/html": [
              "<div>\n",
              "<style scoped>\n",
              "    .dataframe tbody tr th:only-of-type {\n",
              "        vertical-align: middle;\n",
              "    }\n",
              "\n",
              "    .dataframe tbody tr th {\n",
              "        vertical-align: top;\n",
              "    }\n",
              "\n",
              "    .dataframe thead th {\n",
              "        text-align: right;\n",
              "    }\n",
              "</style>\n",
              "<table border=\"1\" class=\"dataframe\">\n",
              "  <thead>\n",
              "    <tr style=\"text-align: right;\">\n",
              "      <th></th>\n",
              "      <th>0</th>\n",
              "      <th>1</th>\n",
              "      <th>2</th>\n",
              "      <th>3</th>\n",
              "      <th>4</th>\n",
              "      <th>5</th>\n",
              "      <th>6</th>\n",
              "      <th>7</th>\n",
              "      <th>8</th>\n",
              "      <th>9</th>\n",
              "      <th>labels</th>\n",
              "    </tr>\n",
              "  </thead>\n",
              "  <tbody>\n",
              "    <tr>\n",
              "      <th>1</th>\n",
              "      <td>2</td>\n",
              "      <td>7</td>\n",
              "      <td>1</td>\n",
              "      <td>5</td>\n",
              "      <td>4</td>\n",
              "      <td>0</td>\n",
              "      <td>0</td>\n",
              "      <td>0</td>\n",
              "      <td>0</td>\n",
              "      <td>0</td>\n",
              "      <td>definition</td>\n",
              "    </tr>\n",
              "    <tr>\n",
              "      <th>2</th>\n",
              "      <td>29</td>\n",
              "      <td>1</td>\n",
              "      <td>5</td>\n",
              "      <td>4</td>\n",
              "      <td>0</td>\n",
              "      <td>0</td>\n",
              "      <td>0</td>\n",
              "      <td>0</td>\n",
              "      <td>0</td>\n",
              "      <td>0</td>\n",
              "      <td>definition</td>\n",
              "    </tr>\n",
              "    <tr>\n",
              "      <th>4</th>\n",
              "      <td>13</td>\n",
              "      <td>7</td>\n",
              "      <td>31</td>\n",
              "      <td>32</td>\n",
              "      <td>33</td>\n",
              "      <td>4</td>\n",
              "      <td>0</td>\n",
              "      <td>0</td>\n",
              "      <td>0</td>\n",
              "      <td>0</td>\n",
              "      <td>affects_whom</td>\n",
              "    </tr>\n",
              "    <tr>\n",
              "      <th>6</th>\n",
              "      <td>2</td>\n",
              "      <td>35</td>\n",
              "      <td>3</td>\n",
              "      <td>1</td>\n",
              "      <td>4</td>\n",
              "      <td>0</td>\n",
              "      <td>0</td>\n",
              "      <td>0</td>\n",
              "      <td>0</td>\n",
              "      <td>0</td>\n",
              "      <td>what_causes</td>\n",
              "    </tr>\n",
              "    <tr>\n",
              "      <th>7</th>\n",
              "      <td>6</td>\n",
              "      <td>12</td>\n",
              "      <td>21</td>\n",
              "      <td>36</td>\n",
              "      <td>37</td>\n",
              "      <td>38</td>\n",
              "      <td>0</td>\n",
              "      <td>0</td>\n",
              "      <td>0</td>\n",
              "      <td>0</td>\n",
              "      <td>what_causes</td>\n",
              "    </tr>\n",
              "    <tr>\n",
              "      <th>9</th>\n",
              "      <td>7</td>\n",
              "      <td>18</td>\n",
              "      <td>41</td>\n",
              "      <td>3</td>\n",
              "      <td>15</td>\n",
              "      <td>42</td>\n",
              "      <td>1</td>\n",
              "      <td>4</td>\n",
              "      <td>0</td>\n",
              "      <td>0</td>\n",
              "      <td>recover</td>\n",
              "    </tr>\n",
              "    <tr>\n",
              "      <th>11</th>\n",
              "      <td>2</td>\n",
              "      <td>16</td>\n",
              "      <td>9</td>\n",
              "      <td>47</td>\n",
              "      <td>3</td>\n",
              "      <td>48</td>\n",
              "      <td>49</td>\n",
              "      <td>50</td>\n",
              "      <td>23</td>\n",
              "      <td>22</td>\n",
              "      <td>steps</td>\n",
              "    </tr>\n",
              "    <tr>\n",
              "      <th>13</th>\n",
              "      <td>6</td>\n",
              "      <td>3</td>\n",
              "      <td>10</td>\n",
              "      <td>1</td>\n",
              "      <td>5</td>\n",
              "      <td>11</td>\n",
              "      <td>0</td>\n",
              "      <td>0</td>\n",
              "      <td>0</td>\n",
              "      <td>0</td>\n",
              "      <td>find_help</td>\n",
              "    </tr>\n",
              "    <tr>\n",
              "      <th>15</th>\n",
              "      <td>6</td>\n",
              "      <td>14</td>\n",
              "      <td>21</td>\n",
              "      <td>15</td>\n",
              "      <td>0</td>\n",
              "      <td>0</td>\n",
              "      <td>0</td>\n",
              "      <td>0</td>\n",
              "      <td>0</td>\n",
              "      <td>0</td>\n",
              "      <td>treatement_options</td>\n",
              "    </tr>\n",
              "    <tr>\n",
              "      <th>17</th>\n",
              "      <td>2</td>\n",
              "      <td>56</td>\n",
              "      <td>8</td>\n",
              "      <td>57</td>\n",
              "      <td>25</td>\n",
              "      <td>58</td>\n",
              "      <td>59</td>\n",
              "      <td>8</td>\n",
              "      <td>60</td>\n",
              "      <td>17</td>\n",
              "      <td>treatment_tips</td>\n",
              "    </tr>\n",
              "    <tr>\n",
              "      <th>19</th>\n",
              "      <td>2</td>\n",
              "      <td>16</td>\n",
              "      <td>9</td>\n",
              "      <td>63</td>\n",
              "      <td>64</td>\n",
              "      <td>23</td>\n",
              "      <td>1</td>\n",
              "      <td>5</td>\n",
              "      <td>26</td>\n",
              "      <td>65</td>\n",
              "      <td>professional_types</td>\n",
              "    </tr>\n",
              "    <tr>\n",
              "      <th>21</th>\n",
              "      <td>6</td>\n",
              "      <td>3</td>\n",
              "      <td>10</td>\n",
              "      <td>9</td>\n",
              "      <td>27</td>\n",
              "      <td>1</td>\n",
              "      <td>5</td>\n",
              "      <td>11</td>\n",
              "      <td>0</td>\n",
              "      <td>0</td>\n",
              "      <td>right_professional</td>\n",
              "    </tr>\n",
              "  </tbody>\n",
              "</table>\n",
              "</div>"
            ],
            "text/plain": [
              "     0   1   2   3   4   5   6   7   8   9              labels\n",
              "1    2   7   1   5   4   0   0   0   0   0          definition\n",
              "2   29   1   5   4   0   0   0   0   0   0          definition\n",
              "4   13   7  31  32  33   4   0   0   0   0        affects_whom\n",
              "6    2  35   3   1   4   0   0   0   0   0         what_causes\n",
              "7    6  12  21  36  37  38   0   0   0   0         what_causes\n",
              "9    7  18  41   3  15  42   1   4   0   0             recover\n",
              "11   2  16   9  47   3  48  49  50  23  22               steps\n",
              "13   6   3  10   1   5  11   0   0   0   0           find_help\n",
              "15   6  14  21  15   0   0   0   0   0   0  treatement_options\n",
              "17   2  56   8  57  25  58  59   8  60  17      treatment_tips\n",
              "19   2  16   9  63  64  23   1   5  26  65  professional_types\n",
              "21   6   3  10   9  27   1   5  11   0   0  right_professional"
            ]
          },
          "execution_count": 48,
          "metadata": {},
          "output_type": "execute_result"
        }
      ],
      "source": [
        "train"
      ]
    },
    {
      "cell_type": "code",
      "execution_count": 49,
      "metadata": {
        "id": "G2syG8OIXtsl"
      },
      "outputs": [],
      "source": [
        "X_train = train.drop(columns=['labels'],axis=1)\n",
        "y_train = train.labels\n",
        "X_test = test.drop(columns=['labels'],axis=1)\n",
        "y_test = test.labels"
      ]
    },
    {
      "cell_type": "code",
      "execution_count": 50,
      "metadata": {
        "colab": {
          "base_uri": "https://localhost:8080/",
          "height": 203
        },
        "id": "t0jjLEnErX9h",
        "outputId": "e444ff00-cc70-405f-ebdf-61fee0a57de7"
      },
      "outputs": [
        {
          "data": {
            "text/html": [
              "<div>\n",
              "<style scoped>\n",
              "    .dataframe tbody tr th:only-of-type {\n",
              "        vertical-align: middle;\n",
              "    }\n",
              "\n",
              "    .dataframe tbody tr th {\n",
              "        vertical-align: top;\n",
              "    }\n",
              "\n",
              "    .dataframe thead th {\n",
              "        text-align: right;\n",
              "    }\n",
              "</style>\n",
              "<table border=\"1\" class=\"dataframe\">\n",
              "  <thead>\n",
              "    <tr style=\"text-align: right;\">\n",
              "      <th></th>\n",
              "      <th>0</th>\n",
              "      <th>1</th>\n",
              "      <th>2</th>\n",
              "      <th>3</th>\n",
              "      <th>4</th>\n",
              "      <th>5</th>\n",
              "      <th>6</th>\n",
              "      <th>7</th>\n",
              "      <th>8</th>\n",
              "      <th>9</th>\n",
              "    </tr>\n",
              "  </thead>\n",
              "  <tbody>\n",
              "    <tr>\n",
              "      <th>1</th>\n",
              "      <td>2</td>\n",
              "      <td>7</td>\n",
              "      <td>1</td>\n",
              "      <td>5</td>\n",
              "      <td>4</td>\n",
              "      <td>0</td>\n",
              "      <td>0</td>\n",
              "      <td>0</td>\n",
              "      <td>0</td>\n",
              "      <td>0</td>\n",
              "    </tr>\n",
              "    <tr>\n",
              "      <th>2</th>\n",
              "      <td>29</td>\n",
              "      <td>1</td>\n",
              "      <td>5</td>\n",
              "      <td>4</td>\n",
              "      <td>0</td>\n",
              "      <td>0</td>\n",
              "      <td>0</td>\n",
              "      <td>0</td>\n",
              "      <td>0</td>\n",
              "      <td>0</td>\n",
              "    </tr>\n",
              "    <tr>\n",
              "      <th>4</th>\n",
              "      <td>13</td>\n",
              "      <td>7</td>\n",
              "      <td>31</td>\n",
              "      <td>32</td>\n",
              "      <td>33</td>\n",
              "      <td>4</td>\n",
              "      <td>0</td>\n",
              "      <td>0</td>\n",
              "      <td>0</td>\n",
              "      <td>0</td>\n",
              "    </tr>\n",
              "    <tr>\n",
              "      <th>6</th>\n",
              "      <td>2</td>\n",
              "      <td>35</td>\n",
              "      <td>3</td>\n",
              "      <td>1</td>\n",
              "      <td>4</td>\n",
              "      <td>0</td>\n",
              "      <td>0</td>\n",
              "      <td>0</td>\n",
              "      <td>0</td>\n",
              "      <td>0</td>\n",
              "    </tr>\n",
              "    <tr>\n",
              "      <th>7</th>\n",
              "      <td>6</td>\n",
              "      <td>12</td>\n",
              "      <td>21</td>\n",
              "      <td>36</td>\n",
              "      <td>37</td>\n",
              "      <td>38</td>\n",
              "      <td>0</td>\n",
              "      <td>0</td>\n",
              "      <td>0</td>\n",
              "      <td>0</td>\n",
              "    </tr>\n",
              "  </tbody>\n",
              "</table>\n",
              "</div>"
            ],
            "text/plain": [
              "    0   1   2   3   4   5  6  7  8  9\n",
              "1   2   7   1   5   4   0  0  0  0  0\n",
              "2  29   1   5   4   0   0  0  0  0  0\n",
              "4  13   7  31  32  33   4  0  0  0  0\n",
              "6   2  35   3   1   4   0  0  0  0  0\n",
              "7   6  12  21  36  37  38  0  0  0  0"
            ]
          },
          "execution_count": 50,
          "metadata": {},
          "output_type": "execute_result"
        }
      ],
      "source": [
        "X_train.head()"
      ]
    },
    {
      "cell_type": "code",
      "execution_count": 51,
      "metadata": {
        "id": "1cSOF7OeXtqJ"
      },
      "outputs": [],
      "source": [
        "y_train =pd.get_dummies(y_train).values\n",
        "y_test =pd.get_dummies(y_test).values"
      ]
    },
    {
      "cell_type": "code",
      "execution_count": 52,
      "metadata": {
        "colab": {
          "base_uri": "https://localhost:8080/",
          "height": 357
        },
        "id": "lG_4kPvW96KK",
        "outputId": "953e0046-fa67-4b93-8c56-af3ecde9abb5"
      },
      "outputs": [
        {
          "data": {
            "text/html": [
              "<div>\n",
              "<style scoped>\n",
              "    .dataframe tbody tr th:only-of-type {\n",
              "        vertical-align: middle;\n",
              "    }\n",
              "\n",
              "    .dataframe tbody tr th {\n",
              "        vertical-align: top;\n",
              "    }\n",
              "\n",
              "    .dataframe thead th {\n",
              "        text-align: right;\n",
              "    }\n",
              "</style>\n",
              "<table border=\"1\" class=\"dataframe\">\n",
              "  <thead>\n",
              "    <tr style=\"text-align: right;\">\n",
              "      <th></th>\n",
              "      <th>0</th>\n",
              "      <th>1</th>\n",
              "      <th>2</th>\n",
              "      <th>3</th>\n",
              "      <th>4</th>\n",
              "      <th>5</th>\n",
              "      <th>6</th>\n",
              "      <th>7</th>\n",
              "      <th>8</th>\n",
              "      <th>9</th>\n",
              "    </tr>\n",
              "  </thead>\n",
              "  <tbody>\n",
              "    <tr>\n",
              "      <th>3</th>\n",
              "      <td>13</td>\n",
              "      <td>12</td>\n",
              "      <td>1</td>\n",
              "      <td>4</td>\n",
              "      <td>30</td>\n",
              "      <td>0</td>\n",
              "      <td>0</td>\n",
              "      <td>0</td>\n",
              "      <td>0</td>\n",
              "      <td>0</td>\n",
              "    </tr>\n",
              "    <tr>\n",
              "      <th>0</th>\n",
              "      <td>2</td>\n",
              "      <td>12</td>\n",
              "      <td>18</td>\n",
              "      <td>28</td>\n",
              "      <td>3</td>\n",
              "      <td>19</td>\n",
              "      <td>20</td>\n",
              "      <td>1</td>\n",
              "      <td>4</td>\n",
              "      <td>0</td>\n",
              "    </tr>\n",
              "    <tr>\n",
              "      <th>12</th>\n",
              "      <td>6</td>\n",
              "      <td>3</td>\n",
              "      <td>10</td>\n",
              "      <td>1</td>\n",
              "      <td>5</td>\n",
              "      <td>11</td>\n",
              "      <td>51</td>\n",
              "      <td>24</td>\n",
              "      <td>0</td>\n",
              "      <td>0</td>\n",
              "    </tr>\n",
              "    <tr>\n",
              "      <th>18</th>\n",
              "      <td>2</td>\n",
              "      <td>7</td>\n",
              "      <td>9</td>\n",
              "      <td>61</td>\n",
              "      <td>62</td>\n",
              "      <td>1</td>\n",
              "      <td>5</td>\n",
              "      <td>26</td>\n",
              "      <td>0</td>\n",
              "      <td>0</td>\n",
              "    </tr>\n",
              "    <tr>\n",
              "      <th>8</th>\n",
              "      <td>14</td>\n",
              "      <td>39</td>\n",
              "      <td>40</td>\n",
              "      <td>1</td>\n",
              "      <td>4</td>\n",
              "      <td>15</td>\n",
              "      <td>0</td>\n",
              "      <td>0</td>\n",
              "      <td>0</td>\n",
              "      <td>0</td>\n",
              "    </tr>\n",
              "    <tr>\n",
              "      <th>20</th>\n",
              "      <td>6</td>\n",
              "      <td>14</td>\n",
              "      <td>8</td>\n",
              "      <td>10</td>\n",
              "      <td>20</td>\n",
              "      <td>1</td>\n",
              "      <td>5</td>\n",
              "      <td>11</td>\n",
              "      <td>27</td>\n",
              "      <td>24</td>\n",
              "    </tr>\n",
              "    <tr>\n",
              "      <th>10</th>\n",
              "      <td>8</td>\n",
              "      <td>43</td>\n",
              "      <td>44</td>\n",
              "      <td>13</td>\n",
              "      <td>45</td>\n",
              "      <td>3</td>\n",
              "      <td>19</td>\n",
              "      <td>46</td>\n",
              "      <td>22</td>\n",
              "      <td>0</td>\n",
              "    </tr>\n",
              "    <tr>\n",
              "      <th>14</th>\n",
              "      <td>2</td>\n",
              "      <td>17</td>\n",
              "      <td>52</td>\n",
              "      <td>16</td>\n",
              "      <td>53</td>\n",
              "      <td>0</td>\n",
              "      <td>0</td>\n",
              "      <td>0</td>\n",
              "      <td>0</td>\n",
              "      <td>0</td>\n",
              "    </tr>\n",
              "    <tr>\n",
              "      <th>16</th>\n",
              "      <td>6</td>\n",
              "      <td>3</td>\n",
              "      <td>54</td>\n",
              "      <td>55</td>\n",
              "      <td>25</td>\n",
              "      <td>17</td>\n",
              "      <td>0</td>\n",
              "      <td>0</td>\n",
              "      <td>0</td>\n",
              "      <td>0</td>\n",
              "    </tr>\n",
              "    <tr>\n",
              "      <th>5</th>\n",
              "      <td>2</td>\n",
              "      <td>34</td>\n",
              "      <td>1</td>\n",
              "      <td>4</td>\n",
              "      <td>0</td>\n",
              "      <td>0</td>\n",
              "      <td>0</td>\n",
              "      <td>0</td>\n",
              "      <td>0</td>\n",
              "      <td>0</td>\n",
              "    </tr>\n",
              "  </tbody>\n",
              "</table>\n",
              "</div>"
            ],
            "text/plain": [
              "     0   1   2   3   4   5   6   7   8   9\n",
              "3   13  12   1   4  30   0   0   0   0   0\n",
              "0    2  12  18  28   3  19  20   1   4   0\n",
              "12   6   3  10   1   5  11  51  24   0   0\n",
              "18   2   7   9  61  62   1   5  26   0   0\n",
              "8   14  39  40   1   4  15   0   0   0   0\n",
              "20   6  14   8  10  20   1   5  11  27  24\n",
              "10   8  43  44  13  45   3  19  46  22   0\n",
              "14   2  17  52  16  53   0   0   0   0   0\n",
              "16   6   3  54  55  25  17   0   0   0   0\n",
              "5    2  34   1   4   0   0   0   0   0   0"
            ]
          },
          "execution_count": 52,
          "metadata": {},
          "output_type": "execute_result"
        }
      ],
      "source": [
        "X_test"
      ]
    },
    {
      "cell_type": "code",
      "execution_count": 53,
      "metadata": {
        "colab": {
          "base_uri": "https://localhost:8080/",
          "height": 418
        },
        "id": "bZyNYXsjfY2y",
        "outputId": "6e462b54-5e0c-45d6-a911-e361be113c6c"
      },
      "outputs": [
        {
          "data": {
            "text/html": [
              "<div>\n",
              "<style scoped>\n",
              "    .dataframe tbody tr th:only-of-type {\n",
              "        vertical-align: middle;\n",
              "    }\n",
              "\n",
              "    .dataframe tbody tr th {\n",
              "        vertical-align: top;\n",
              "    }\n",
              "\n",
              "    .dataframe thead th {\n",
              "        text-align: right;\n",
              "    }\n",
              "</style>\n",
              "<table border=\"1\" class=\"dataframe\">\n",
              "  <thead>\n",
              "    <tr style=\"text-align: right;\">\n",
              "      <th></th>\n",
              "      <th>0</th>\n",
              "      <th>1</th>\n",
              "      <th>2</th>\n",
              "      <th>3</th>\n",
              "      <th>4</th>\n",
              "      <th>5</th>\n",
              "      <th>6</th>\n",
              "      <th>7</th>\n",
              "      <th>8</th>\n",
              "      <th>9</th>\n",
              "    </tr>\n",
              "  </thead>\n",
              "  <tbody>\n",
              "    <tr>\n",
              "      <th>1</th>\n",
              "      <td>2</td>\n",
              "      <td>7</td>\n",
              "      <td>1</td>\n",
              "      <td>5</td>\n",
              "      <td>4</td>\n",
              "      <td>0</td>\n",
              "      <td>0</td>\n",
              "      <td>0</td>\n",
              "      <td>0</td>\n",
              "      <td>0</td>\n",
              "    </tr>\n",
              "    <tr>\n",
              "      <th>2</th>\n",
              "      <td>29</td>\n",
              "      <td>1</td>\n",
              "      <td>5</td>\n",
              "      <td>4</td>\n",
              "      <td>0</td>\n",
              "      <td>0</td>\n",
              "      <td>0</td>\n",
              "      <td>0</td>\n",
              "      <td>0</td>\n",
              "      <td>0</td>\n",
              "    </tr>\n",
              "    <tr>\n",
              "      <th>4</th>\n",
              "      <td>13</td>\n",
              "      <td>7</td>\n",
              "      <td>31</td>\n",
              "      <td>32</td>\n",
              "      <td>33</td>\n",
              "      <td>4</td>\n",
              "      <td>0</td>\n",
              "      <td>0</td>\n",
              "      <td>0</td>\n",
              "      <td>0</td>\n",
              "    </tr>\n",
              "    <tr>\n",
              "      <th>6</th>\n",
              "      <td>2</td>\n",
              "      <td>35</td>\n",
              "      <td>3</td>\n",
              "      <td>1</td>\n",
              "      <td>4</td>\n",
              "      <td>0</td>\n",
              "      <td>0</td>\n",
              "      <td>0</td>\n",
              "      <td>0</td>\n",
              "      <td>0</td>\n",
              "    </tr>\n",
              "    <tr>\n",
              "      <th>7</th>\n",
              "      <td>6</td>\n",
              "      <td>12</td>\n",
              "      <td>21</td>\n",
              "      <td>36</td>\n",
              "      <td>37</td>\n",
              "      <td>38</td>\n",
              "      <td>0</td>\n",
              "      <td>0</td>\n",
              "      <td>0</td>\n",
              "      <td>0</td>\n",
              "    </tr>\n",
              "    <tr>\n",
              "      <th>9</th>\n",
              "      <td>7</td>\n",
              "      <td>18</td>\n",
              "      <td>41</td>\n",
              "      <td>3</td>\n",
              "      <td>15</td>\n",
              "      <td>42</td>\n",
              "      <td>1</td>\n",
              "      <td>4</td>\n",
              "      <td>0</td>\n",
              "      <td>0</td>\n",
              "    </tr>\n",
              "    <tr>\n",
              "      <th>11</th>\n",
              "      <td>2</td>\n",
              "      <td>16</td>\n",
              "      <td>9</td>\n",
              "      <td>47</td>\n",
              "      <td>3</td>\n",
              "      <td>48</td>\n",
              "      <td>49</td>\n",
              "      <td>50</td>\n",
              "      <td>23</td>\n",
              "      <td>22</td>\n",
              "    </tr>\n",
              "    <tr>\n",
              "      <th>13</th>\n",
              "      <td>6</td>\n",
              "      <td>3</td>\n",
              "      <td>10</td>\n",
              "      <td>1</td>\n",
              "      <td>5</td>\n",
              "      <td>11</td>\n",
              "      <td>0</td>\n",
              "      <td>0</td>\n",
              "      <td>0</td>\n",
              "      <td>0</td>\n",
              "    </tr>\n",
              "    <tr>\n",
              "      <th>15</th>\n",
              "      <td>6</td>\n",
              "      <td>14</td>\n",
              "      <td>21</td>\n",
              "      <td>15</td>\n",
              "      <td>0</td>\n",
              "      <td>0</td>\n",
              "      <td>0</td>\n",
              "      <td>0</td>\n",
              "      <td>0</td>\n",
              "      <td>0</td>\n",
              "    </tr>\n",
              "    <tr>\n",
              "      <th>17</th>\n",
              "      <td>2</td>\n",
              "      <td>56</td>\n",
              "      <td>8</td>\n",
              "      <td>57</td>\n",
              "      <td>25</td>\n",
              "      <td>58</td>\n",
              "      <td>59</td>\n",
              "      <td>8</td>\n",
              "      <td>60</td>\n",
              "      <td>17</td>\n",
              "    </tr>\n",
              "    <tr>\n",
              "      <th>19</th>\n",
              "      <td>2</td>\n",
              "      <td>16</td>\n",
              "      <td>9</td>\n",
              "      <td>63</td>\n",
              "      <td>64</td>\n",
              "      <td>23</td>\n",
              "      <td>1</td>\n",
              "      <td>5</td>\n",
              "      <td>26</td>\n",
              "      <td>65</td>\n",
              "    </tr>\n",
              "    <tr>\n",
              "      <th>21</th>\n",
              "      <td>6</td>\n",
              "      <td>3</td>\n",
              "      <td>10</td>\n",
              "      <td>9</td>\n",
              "      <td>27</td>\n",
              "      <td>1</td>\n",
              "      <td>5</td>\n",
              "      <td>11</td>\n",
              "      <td>0</td>\n",
              "      <td>0</td>\n",
              "    </tr>\n",
              "  </tbody>\n",
              "</table>\n",
              "</div>"
            ],
            "text/plain": [
              "     0   1   2   3   4   5   6   7   8   9\n",
              "1    2   7   1   5   4   0   0   0   0   0\n",
              "2   29   1   5   4   0   0   0   0   0   0\n",
              "4   13   7  31  32  33   4   0   0   0   0\n",
              "6    2  35   3   1   4   0   0   0   0   0\n",
              "7    6  12  21  36  37  38   0   0   0   0\n",
              "9    7  18  41   3  15  42   1   4   0   0\n",
              "11   2  16   9  47   3  48  49  50  23  22\n",
              "13   6   3  10   1   5  11   0   0   0   0\n",
              "15   6  14  21  15   0   0   0   0   0   0\n",
              "17   2  56   8  57  25  58  59   8  60  17\n",
              "19   2  16   9  63  64  23   1   5  26  65\n",
              "21   6   3  10   9  27   1   5  11   0   0"
            ]
          },
          "execution_count": 53,
          "metadata": {},
          "output_type": "execute_result"
        }
      ],
      "source": [
        "X_train"
      ]
    },
    {
      "cell_type": "code",
      "execution_count": 54,
      "metadata": {
        "colab": {
          "base_uri": "https://localhost:8080/"
        },
        "id": "wWFWgav5B-pH",
        "outputId": "cb4ed15f-5382-476e-a2f8-cf55f306ae84"
      },
      "outputs": [
        {
          "data": {
            "text/plain": [
              "array([[0, 1, 0, 0, 0, 0, 0, 0, 0, 0],\n",
              "       [0, 1, 0, 0, 0, 0, 0, 0, 0, 0],\n",
              "       [1, 0, 0, 0, 0, 0, 0, 0, 0, 0],\n",
              "       [0, 0, 0, 0, 0, 0, 0, 0, 0, 1],\n",
              "       [0, 0, 0, 0, 0, 0, 0, 0, 0, 1],\n",
              "       [0, 0, 0, 0, 1, 0, 0, 0, 0, 0],\n",
              "       [0, 0, 0, 0, 0, 0, 1, 0, 0, 0],\n",
              "       [0, 0, 1, 0, 0, 0, 0, 0, 0, 0],\n",
              "       [0, 0, 0, 0, 0, 0, 0, 1, 0, 0],\n",
              "       [0, 0, 0, 0, 0, 0, 0, 0, 1, 0],\n",
              "       [0, 0, 0, 1, 0, 0, 0, 0, 0, 0],\n",
              "       [0, 0, 0, 0, 0, 1, 0, 0, 0, 0]], dtype=uint8)"
            ]
          },
          "execution_count": 54,
          "metadata": {},
          "output_type": "execute_result"
        }
      ],
      "source": [
        "y_train"
      ]
    },
    {
      "cell_type": "code",
      "execution_count": 55,
      "metadata": {
        "colab": {
          "base_uri": "https://localhost:8080/"
        },
        "id": "xvhKy5u6mM0k",
        "outputId": "2c3889ca-337e-4cad-be92-984234f8ed31"
      },
      "outputs": [
        {
          "data": {
            "text/plain": [
              "array([0, 1, 0, 0, 0, 0, 0, 0, 0, 0], dtype=uint8)"
            ]
          },
          "execution_count": 55,
          "metadata": {},
          "output_type": "execute_result"
        }
      ],
      "source": [
        "y_train[0]"
      ]
    },
    {
      "cell_type": "code",
      "execution_count": 56,
      "metadata": {
        "colab": {
          "base_uri": "https://localhost:8080/"
        },
        "id": "pPZDWFkBmOdx",
        "outputId": "5ae5e495-7ca3-4f7c-8ed7-4d6af7a3413b"
      },
      "outputs": [
        {
          "data": {
            "text/plain": [
              "array([[1, 0, 0, 0, 0, 0, 0, 0, 0, 0],\n",
              "       [0, 1, 0, 0, 0, 0, 0, 0, 0, 0],\n",
              "       [0, 0, 1, 0, 0, 0, 0, 0, 0, 0],\n",
              "       [0, 0, 0, 1, 0, 0, 0, 0, 0, 0],\n",
              "       [0, 0, 0, 0, 1, 0, 0, 0, 0, 0],\n",
              "       [0, 0, 0, 0, 0, 1, 0, 0, 0, 0],\n",
              "       [0, 0, 0, 0, 0, 0, 1, 0, 0, 0],\n",
              "       [0, 0, 0, 0, 0, 0, 0, 1, 0, 0],\n",
              "       [0, 0, 0, 0, 0, 0, 0, 0, 1, 0],\n",
              "       [0, 0, 0, 0, 0, 0, 0, 0, 0, 1]], dtype=uint8)"
            ]
          },
          "execution_count": 56,
          "metadata": {},
          "output_type": "execute_result"
        }
      ],
      "source": [
        "y_test"
      ]
    },
    {
      "cell_type": "code",
      "execution_count": 57,
      "metadata": {
        "colab": {
          "base_uri": "https://localhost:8080/"
        },
        "id": "X_urYiDyXtn5",
        "outputId": "bd674f43-900b-410a-d670-309243eac8ae"
      },
      "outputs": [
        {
          "data": {
            "text/plain": [
              "((10,), (10,))"
            ]
          },
          "execution_count": 57,
          "metadata": {},
          "output_type": "execute_result"
        }
      ],
      "source": [
        "y_train[0].shape,y_test[0].shape"
      ]
    },
    {
      "cell_type": "code",
      "execution_count": 58,
      "metadata": {
        "colab": {
          "base_uri": "https://localhost:8080/"
        },
        "id": "0jMrfnwKX1DC",
        "outputId": "832af3f7-4495-4c08-b90c-c97eff02dabf"
      },
      "outputs": [
        {
          "data": {
            "text/plain": [
              "(12, 10)"
            ]
          },
          "execution_count": 58,
          "metadata": {},
          "output_type": "execute_result"
        }
      ],
      "source": [
        "X_train.shape"
      ]
    },
    {
      "cell_type": "code",
      "execution_count": 59,
      "metadata": {
        "colab": {
          "base_uri": "https://localhost:8080/"
        },
        "id": "Yf1it_OmmurY",
        "outputId": "d3e15ac4-58c1-4ce6-d228-7b380c988c78"
      },
      "outputs": [
        {
          "data": {
            "text/plain": [
              "(10, 10)"
            ]
          },
          "execution_count": 59,
          "metadata": {},
          "output_type": "execute_result"
        }
      ],
      "source": [
        "X_test.shape"
      ]
    },
    {
      "cell_type": "code",
      "execution_count": 60,
      "metadata": {
        "id": "fJHi-DiIX0_D"
      },
      "outputs": [],
      "source": [
        "max_length = X_train.shape[1]\n",
        "output = 16                  # no of classes"
      ]
    },
    {
      "cell_type": "code",
      "execution_count": 61,
      "metadata": {
        "id": "QtCFWykAX08b"
      },
      "outputs": [],
      "source": [
        "early_stopping = EarlyStopping(monitor='val_loss',patience=10) #patience\n",
        "\n",
        "checkpoint = ModelCheckpoint(\"model-v1.h5\",\n",
        "                             monitor=\"val_loss\",\n",
        "                             mode=\"min\",\n",
        "                             save_best_only = True,\n",
        "                             verbose=1)\n",
        "\n",
        "reduce_lr = ReduceLROnPlateau(monitor = 'val_loss', factor = 0.2, patience = 3, verbose = 1, min_delta = 0.0001)\n",
        "\n",
        "callbacks = [early_stopping,checkpoint,reduce_lr]"
      ]
    },
    {
      "cell_type": "markdown",
      "metadata": {
        "id": "5zfZy2tABMkl"
      },
      "source": [
        "## Vanilla RNN"
      ]
    },
    {
      "cell_type": "code",
      "execution_count": 62,
      "metadata": {
        "id": "AOvE1ucyMcUZ"
      },
      "outputs": [],
      "source": [
        "def define_model1(vocab_size, max_length):\n",
        "    model1 = Sequential()\n",
        "    model1.add(Embedding(vocab_size,100, input_length=max_length))\n",
        "    model1.add(SimpleRNN(100))\n",
        "    model1.add(Dense(10, activation='softmax'))   \n",
        "    \n",
        "    model1.compile(loss = 'categorical_crossentropy',optimizer = 'adam',metrics = ['accuracy'])\n",
        "    \n",
        "    # summarize defined model\n",
        "    model1.summary()\n",
        "    plot_model(model1, to_file='model_1.png', show_shapes=True)\n",
        "    return model1"
      ]
    },
    {
      "cell_type": "code",
      "execution_count": 63,
      "metadata": {
        "colab": {
          "base_uri": "https://localhost:8080/"
        },
        "id": "Toir2G_NNEsX",
        "outputId": "98112820-925a-41a4-eea9-28ac0da91f8d"
      },
      "outputs": [
        {
          "name": "stdout",
          "output_type": "stream",
          "text": [
            "WARNING:tensorflow:From c:\\Users\\user\\AppData\\Local\\Programs\\Python\\Python311\\Lib\\site-packages\\keras\\src\\backend.py:873: The name tf.get_default_graph is deprecated. Please use tf.compat.v1.get_default_graph instead.\n",
            "\n",
            "WARNING:tensorflow:From c:\\Users\\user\\AppData\\Local\\Programs\\Python\\Python311\\Lib\\site-packages\\keras\\src\\optimizers\\__init__.py:309: The name tf.train.Optimizer is deprecated. Please use tf.compat.v1.train.Optimizer instead.\n",
            "\n",
            "Model: \"sequential\"\n",
            "_________________________________________________________________\n",
            " Layer (type)                Output Shape              Param #   \n",
            "=================================================================\n",
            " embedding (Embedding)       (None, 10, 100)           6600      \n",
            "                                                                 \n",
            " simple_rnn (SimpleRNN)      (None, 100)               20100     \n",
            "                                                                 \n",
            " dense (Dense)               (None, 10)                1010      \n",
            "                                                                 \n",
            "=================================================================\n",
            "Total params: 27710 (108.24 KB)\n",
            "Trainable params: 27710 (108.24 KB)\n",
            "Non-trainable params: 0 (0.00 Byte)\n",
            "_________________________________________________________________\n",
            "You must install pydot (`pip install pydot`) and install graphviz (see instructions at https://graphviz.gitlab.io/download/) for plot_model to work.\n"
          ]
        }
      ],
      "source": [
        "model1 = define_model1(vocab_size, max_length)"
      ]
    },
    {
      "cell_type": "code",
      "execution_count": 64,
      "metadata": {
        "colab": {
          "base_uri": "https://localhost:8080/"
        },
        "id": "pTFpfCkUNEpg",
        "outputId": "9191868b-6612-4c08-c99b-1babf28333bb"
      },
      "outputs": [
        {
          "name": "stdout",
          "output_type": "stream",
          "text": [
            "Epoch 1/50\n",
            "WARNING:tensorflow:From c:\\Users\\user\\AppData\\Local\\Programs\\Python\\Python311\\Lib\\site-packages\\keras\\src\\utils\\tf_utils.py:492: The name tf.ragged.RaggedTensorValue is deprecated. Please use tf.compat.v1.ragged.RaggedTensorValue instead.\n",
            "\n",
            "WARNING:tensorflow:From c:\\Users\\user\\AppData\\Local\\Programs\\Python\\Python311\\Lib\\site-packages\\keras\\src\\engine\\base_layer_utils.py:384: The name tf.executing_eagerly_outside_functions is deprecated. Please use tf.compat.v1.executing_eagerly_outside_functions instead.\n",
            "\n"
          ]
        },
        {
          "name": "stdout",
          "output_type": "stream",
          "text": [
            "1/1 [==============================] - ETA: 0s - loss: 2.3348 - accuracy: 0.0000e+00\n",
            "Epoch 1: val_loss improved from inf to 2.30011, saving model to model-v1.h5\n",
            "1/1 [==============================] - 2s 2s/step - loss: 2.3348 - accuracy: 0.0000e+00 - val_loss: 2.3001 - val_accuracy: 0.2000 - lr: 0.0010\n",
            "Epoch 2/50\n",
            "1/1 [==============================] - ETA: 0s - loss: 2.1994 - accuracy: 0.4167\n",
            "Epoch 2: val_loss improved from 2.30011 to 2.28784, saving model to model-v1.h5\n",
            "1/1 [==============================] - 0s 42ms/step - loss: 2.1994 - accuracy: 0.4167 - val_loss: 2.2878 - val_accuracy: 0.0000e+00 - lr: 0.0010\n",
            "Epoch 3/50\n",
            "1/1 [==============================] - ETA: 0s - loss: 2.0687 - accuracy: 0.7500\n",
            "Epoch 3: val_loss improved from 2.28784 to 2.27736, saving model to model-v1.h5\n",
            "1/1 [==============================] - 0s 44ms/step - loss: 2.0687 - accuracy: 0.7500 - val_loss: 2.2774 - val_accuracy: 0.1000 - lr: 0.0010\n",
            "Epoch 4/50\n",
            "1/1 [==============================] - ETA: 0s - loss: 1.9403 - accuracy: 0.7500\n",
            "Epoch 4: val_loss improved from 2.27736 to 2.26853, saving model to model-v1.h5\n",
            "1/1 [==============================] - 0s 42ms/step - loss: 1.9403 - accuracy: 0.7500 - val_loss: 2.2685 - val_accuracy: 0.1000 - lr: 0.0010\n",
            "Epoch 5/50\n",
            "1/1 [==============================] - ETA: 0s - loss: 1.8127 - accuracy: 0.9167\n",
            "Epoch 5: val_loss improved from 2.26853 to 2.26148, saving model to model-v1.h5\n"
          ]
        },
        {
          "name": "stderr",
          "output_type": "stream",
          "text": [
            "c:\\Users\\user\\AppData\\Local\\Programs\\Python\\Python311\\Lib\\site-packages\\keras\\src\\engine\\training.py:3103: UserWarning: You are saving your model as an HDF5 file via `model.save()`. This file format is considered legacy. We recommend using instead the native Keras format, e.g. `model.save('my_model.keras')`.\n",
            "  saving_api.save_model(\n"
          ]
        },
        {
          "name": "stdout",
          "output_type": "stream",
          "text": [
            "1/1 [==============================] - 0s 41ms/step - loss: 1.8127 - accuracy: 0.9167 - val_loss: 2.2615 - val_accuracy: 0.1000 - lr: 0.0010\n",
            "Epoch 6/50\n",
            "1/1 [==============================] - ETA: 0s - loss: 1.6850 - accuracy: 0.9167\n",
            "Epoch 6: val_loss improved from 2.26148 to 2.25627, saving model to model-v1.h5\n",
            "1/1 [==============================] - 0s 42ms/step - loss: 1.6850 - accuracy: 0.9167 - val_loss: 2.2563 - val_accuracy: 0.1000 - lr: 0.0010\n",
            "Epoch 7/50\n",
            "1/1 [==============================] - ETA: 0s - loss: 1.5566 - accuracy: 0.9167\n",
            "Epoch 7: val_loss improved from 2.25627 to 2.25263, saving model to model-v1.h5\n",
            "1/1 [==============================] - 0s 50ms/step - loss: 1.5566 - accuracy: 0.9167 - val_loss: 2.2526 - val_accuracy: 0.1000 - lr: 0.0010\n",
            "Epoch 8/50\n",
            "1/1 [==============================] - ETA: 0s - loss: 1.4274 - accuracy: 0.9167\n",
            "Epoch 8: val_loss improved from 2.25263 to 2.24986, saving model to model-v1.h5\n",
            "1/1 [==============================] - 0s 42ms/step - loss: 1.4274 - accuracy: 0.9167 - val_loss: 2.2499 - val_accuracy: 0.1000 - lr: 0.0010\n",
            "Epoch 9/50\n",
            "1/1 [==============================] - ETA: 0s - loss: 1.2973 - accuracy: 0.9167\n",
            "Epoch 9: val_loss improved from 2.24986 to 2.24713, saving model to model-v1.h5\n",
            "1/1 [==============================] - 0s 39ms/step - loss: 1.2973 - accuracy: 0.9167 - val_loss: 2.2471 - val_accuracy: 0.2000 - lr: 0.0010\n",
            "Epoch 10/50\n",
            "1/1 [==============================] - ETA: 0s - loss: 1.1668 - accuracy: 1.0000\n",
            "Epoch 10: val_loss improved from 2.24713 to 2.24384, saving model to model-v1.h5\n",
            "1/1 [==============================] - 0s 39ms/step - loss: 1.1668 - accuracy: 1.0000 - val_loss: 2.2438 - val_accuracy: 0.2000 - lr: 0.0010\n",
            "Epoch 11/50\n",
            "1/1 [==============================] - ETA: 0s - loss: 1.0368 - accuracy: 1.0000\n",
            "Epoch 11: val_loss improved from 2.24384 to 2.23997, saving model to model-v1.h5\n",
            "1/1 [==============================] - 0s 39ms/step - loss: 1.0368 - accuracy: 1.0000 - val_loss: 2.2400 - val_accuracy: 0.3000 - lr: 0.0010\n",
            "Epoch 12/50\n",
            "1/1 [==============================] - ETA: 0s - loss: 0.9095 - accuracy: 1.0000\n",
            "Epoch 12: val_loss improved from 2.23997 to 2.23613, saving model to model-v1.h5\n",
            "1/1 [==============================] - 0s 40ms/step - loss: 0.9095 - accuracy: 1.0000 - val_loss: 2.2361 - val_accuracy: 0.3000 - lr: 0.0010\n",
            "Epoch 13/50\n",
            "1/1 [==============================] - ETA: 0s - loss: 0.7875 - accuracy: 1.0000\n",
            "Epoch 13: val_loss improved from 2.23613 to 2.23355, saving model to model-v1.h5\n",
            "1/1 [==============================] - 0s 45ms/step - loss: 0.7875 - accuracy: 1.0000 - val_loss: 2.2336 - val_accuracy: 0.3000 - lr: 0.0010\n",
            "Epoch 14/50\n",
            "1/1 [==============================] - ETA: 0s - loss: 0.6736 - accuracy: 1.0000\n",
            "Epoch 14: val_loss did not improve from 2.23355\n",
            "1/1 [==============================] - 0s 28ms/step - loss: 0.6736 - accuracy: 1.0000 - val_loss: 2.2339 - val_accuracy: 0.3000 - lr: 0.0010\n",
            "Epoch 15/50\n",
            "1/1 [==============================] - ETA: 0s - loss: 0.5702 - accuracy: 1.0000\n",
            "Epoch 15: val_loss did not improve from 2.23355\n",
            "1/1 [==============================] - 0s 30ms/step - loss: 0.5702 - accuracy: 1.0000 - val_loss: 2.2388 - val_accuracy: 0.3000 - lr: 0.0010\n",
            "Epoch 16/50\n",
            "1/1 [==============================] - ETA: 0s - loss: 0.4789 - accuracy: 1.0000\n",
            "Epoch 16: val_loss did not improve from 2.23355\n",
            "\n",
            "Epoch 16: ReduceLROnPlateau reducing learning rate to 0.00020000000949949026.\n",
            "1/1 [==============================] - 0s 27ms/step - loss: 0.4789 - accuracy: 1.0000 - val_loss: 2.2498 - val_accuracy: 0.3000 - lr: 0.0010\n",
            "Epoch 17/50\n",
            "1/1 [==============================] - ETA: 0s - loss: 0.4000 - accuracy: 1.0000\n",
            "Epoch 17: val_loss did not improve from 2.23355\n",
            "1/1 [==============================] - 0s 28ms/step - loss: 0.4000 - accuracy: 1.0000 - val_loss: 2.2530 - val_accuracy: 0.3000 - lr: 2.0000e-04\n",
            "Epoch 18/50\n",
            "1/1 [==============================] - ETA: 0s - loss: 0.3857 - accuracy: 1.0000\n",
            "Epoch 18: val_loss did not improve from 2.23355\n",
            "1/1 [==============================] - 0s 29ms/step - loss: 0.3857 - accuracy: 1.0000 - val_loss: 2.2567 - val_accuracy: 0.3000 - lr: 2.0000e-04\n",
            "Epoch 19/50\n",
            "1/1 [==============================] - ETA: 0s - loss: 0.3718 - accuracy: 1.0000\n",
            "Epoch 19: val_loss did not improve from 2.23355\n",
            "\n",
            "Epoch 19: ReduceLROnPlateau reducing learning rate to 4.0000001899898055e-05.\n",
            "1/1 [==============================] - 0s 30ms/step - loss: 0.3718 - accuracy: 1.0000 - val_loss: 2.2610 - val_accuracy: 0.3000 - lr: 2.0000e-04\n",
            "Epoch 20/50\n",
            "1/1 [==============================] - ETA: 0s - loss: 0.3583 - accuracy: 1.0000\n",
            "Epoch 20: val_loss did not improve from 2.23355\n",
            "1/1 [==============================] - 0s 36ms/step - loss: 0.3583 - accuracy: 1.0000 - val_loss: 2.2619 - val_accuracy: 0.3000 - lr: 4.0000e-05\n",
            "Epoch 21/50\n",
            "1/1 [==============================] - ETA: 0s - loss: 0.3556 - accuracy: 1.0000\n",
            "Epoch 21: val_loss did not improve from 2.23355\n",
            "1/1 [==============================] - 0s 30ms/step - loss: 0.3556 - accuracy: 1.0000 - val_loss: 2.2629 - val_accuracy: 0.3000 - lr: 4.0000e-05\n",
            "Epoch 22/50\n",
            "1/1 [==============================] - ETA: 0s - loss: 0.3530 - accuracy: 1.0000\n",
            "Epoch 22: val_loss did not improve from 2.23355\n",
            "\n",
            "Epoch 22: ReduceLROnPlateau reducing learning rate to 8.000000525498762e-06.\n",
            "1/1 [==============================] - 0s 31ms/step - loss: 0.3530 - accuracy: 1.0000 - val_loss: 2.2640 - val_accuracy: 0.3000 - lr: 4.0000e-05\n",
            "Epoch 23/50\n",
            "1/1 [==============================] - ETA: 0s - loss: 0.3503 - accuracy: 1.0000\n",
            "Epoch 23: val_loss did not improve from 2.23355\n",
            "1/1 [==============================] - 0s 28ms/step - loss: 0.3503 - accuracy: 1.0000 - val_loss: 2.2642 - val_accuracy: 0.3000 - lr: 8.0000e-06\n",
            "1/1 [==============================] - 0s 132ms/step\n",
            "Precision: 0.18\n",
            "Recall: 0.30\n",
            "F1 Score: 0.22\n",
            "Accuracy: 0.30\n"
          ]
        },
        {
          "name": "stderr",
          "output_type": "stream",
          "text": [
            "c:\\Users\\user\\AppData\\Local\\Programs\\Python\\Python311\\Lib\\site-packages\\sklearn\\metrics\\_classification.py:1344: UndefinedMetricWarning: Precision is ill-defined and being set to 0.0 in labels with no predicted samples. Use `zero_division` parameter to control this behavior.\n",
            "  _warn_prf(average, modifier, msg_start, len(result))\n"
          ]
        }
      ],
      "source": [
        "history1 = model1.fit(X_train, y_train, epochs=50, verbose=1,validation_data=(X_test,y_test),callbacks=callbacks)#,callbacks=callbacks)\n",
        "\n",
        "from sklearn.metrics import precision_score, recall_score, f1_score, accuracy_score\n",
        "\n",
        "# Assuming model1.predict returns the predicted labels\n",
        "y_pred = np.argmax(model1.predict(X_test), axis=1)\n",
        "\n",
        "# Assuming y_test contains the actual labels\n",
        "y_test_labels = np.argmax(y_test, axis=1)\n",
        "\n",
        "# Calculate precision, recall, F1-score, and accuracy\n",
        "precision = precision_score(y_test_labels, y_pred, average='weighted')\n",
        "recall = recall_score(y_test_labels, y_pred, average='weighted')\n",
        "f1 = f1_score(y_test_labels, y_pred, average='weighted')\n",
        "accuracy = accuracy_score(y_test_labels, y_pred)\n",
        "\n",
        "print(f\"Precision: {precision:.2f}\")\n",
        "print(f\"Recall: {recall:.2f}\")\n",
        "print(f\"F1 Score: {f1:.2f}\")\n",
        "print(f\"Accuracy: {accuracy:.2f}\")"
      ]
    },
    {
      "cell_type": "code",
      "execution_count": 65,
      "metadata": {
        "colab": {
          "base_uri": "https://localhost:8080/",
          "height": 513
        },
        "id": "k0I_FjV6mDQR",
        "outputId": "647955ed-729d-432f-b78f-52d08bf8798d"
      },
      "outputs": [
        {
          "data": {
            "image/png": "[encoded data removed]",
            "text/plain": [
              "<Figure size 1600x800 with 2 Axes>"
            ]
          },
          "metadata": {},
          "output_type": "display_data"
        }
      ],
      "source": [
        "# Learning curves \n",
        "\n",
        "acc = history1.history['accuracy']\n",
        "val_acc = history1.history['val_accuracy']\n",
        "loss=history1.history['loss']\n",
        "val_loss=history1.history['val_loss']\n",
        "\n",
        "plt.figure(figsize=(16,8))\n",
        "plt.subplot(1, 2, 1)\n",
        "plt.plot(acc, label='Training Accuracy')\n",
        "plt.plot(val_acc, label='Validation Accuracy')\n",
        "plt.legend(loc='lower right')\n",
        "plt.title('Training and Validation Accuracy')\n",
        "plt.xlabel(\"epochs\")\n",
        "plt.ylabel(\"accuracy\")\n",
        "\n",
        "plt.subplot(1, 2, 2)\n",
        "plt.plot(loss, label='Training Loss')\n",
        "plt.plot(val_loss, label='Validation Loss')\n",
        "plt.legend(loc='upper right')\n",
        "plt.title('Training and Validation Loss')\n",
        "plt.xlabel(\"epochs\")\n",
        "plt.ylabel(\"loss\")\n",
        "plt.show()"
      ]
    },
    {
      "cell_type": "markdown",
      "metadata": {
        "id": "mdIDkqyABJbr"
      },
      "source": [
        "## CNN"
      ]
    },
    {
      "cell_type": "code",
      "execution_count": 66,
      "metadata": {
        "id": "0sR_Z8kDX8VD"
      },
      "outputs": [],
      "source": [
        "def define_model2(vocab_size, max_length):\n",
        "    model2 = Sequential()\n",
        "    model2.add(Embedding(vocab_size,300, input_length=max_length))\n",
        "    model2.add(Conv1D(filters=32, kernel_size=2, activation='relu'))\n",
        "    model2.add(MaxPooling1D(pool_size = 4))\n",
        "    model2.add(Flatten())\n",
        "    model2.add(Dense(32, activation='relu'))\n",
        "    model2.add(Dense(10, activation='softmax'))\n",
        "    \n",
        "    model2.compile(loss = 'categorical_crossentropy',optimizer = 'adam',metrics = ['accuracy'])\n",
        "    \n",
        "    # summarize defined model\n",
        "    model2.summary()\n",
        "    return model2"
      ]
    },
    {
      "cell_type": "code",
      "execution_count": 67,
      "metadata": {
        "colab": {
          "base_uri": "https://localhost:8080/"
        },
        "id": "n1ePmE7PX8R0",
        "outputId": "94070aba-3771-4325-e72a-27f8f9475f7d"
      },
      "outputs": [
        {
          "name": "stdout",
          "output_type": "stream",
          "text": [
            "WARNING:tensorflow:From c:\\Users\\user\\AppData\\Local\\Programs\\Python\\Python311\\Lib\\site-packages\\keras\\src\\backend.py:6642: The name tf.nn.max_pool is deprecated. Please use tf.nn.max_pool2d instead.\n",
            "\n",
            "Model: \"sequential_1\"\n",
            "_________________________________________________________________\n",
            " Layer (type)                Output Shape              Param #   \n",
            "=================================================================\n",
            " embedding_1 (Embedding)     (None, 10, 300)           19800     \n",
            "                                                                 \n",
            " conv1d (Conv1D)             (None, 9, 32)             19232     \n",
            "                                                                 \n",
            " max_pooling1d (MaxPooling1  (None, 2, 32)             0         \n",
            " D)                                                              \n",
            "                                                                 \n",
            " flatten (Flatten)           (None, 64)                0         \n",
            "                                                                 \n",
            " dense_1 (Dense)             (None, 32)                2080      \n",
            "                                                                 \n",
            " dense_2 (Dense)             (None, 10)                330       \n",
            "                                                                 \n",
            "=================================================================\n",
            "Total params: 41442 (161.88 KB)\n",
            "Trainable params: 41442 (161.88 KB)\n",
            "Non-trainable params: 0 (0.00 Byte)\n",
            "_________________________________________________________________\n"
          ]
        }
      ],
      "source": [
        "model2 = define_model2(vocab_size, max_length)"
      ]
    },
    {
      "cell_type": "code",
      "execution_count": 68,
      "metadata": {
        "colab": {
          "base_uri": "https://localhost:8080/"
        },
        "id": "CnC_x02JX8Pd",
        "outputId": "93ae2b41-a447-4a9d-fa8b-952ceea4b9f6"
      },
      "outputs": [
        {
          "name": "stdout",
          "output_type": "stream",
          "text": [
            "Epoch 1/50\n",
            "1/1 [==============================] - ETA: 0s - loss: 2.3135 - accuracy: 0.0833\n",
            "Epoch 1: val_loss did not improve from 2.23355\n",
            "1/1 [==============================] - 1s 767ms/step - loss: 2.3135 - accuracy: 0.0833 - val_loss: 2.3076 - val_accuracy: 0.2000 - lr: 0.0010\n",
            "Epoch 2/50\n",
            "1/1 [==============================] - ETA: 0s - loss: 2.2665 - accuracy: 0.4167\n",
            "Epoch 2: val_loss did not improve from 2.23355\n",
            "1/1 [==============================] - 0s 28ms/step - loss: 2.2665 - accuracy: 0.4167 - val_loss: 2.3060 - val_accuracy: 0.1000 - lr: 0.0010\n",
            "Epoch 3/50\n",
            "1/1 [==============================] - ETA: 0s - loss: 2.2332 - accuracy: 0.4167\n",
            "Epoch 3: val_loss did not improve from 2.23355\n",
            "1/1 [==============================] - 0s 27ms/step - loss: 2.2332 - accuracy: 0.4167 - val_loss: 2.3043 - val_accuracy: 0.1000 - lr: 0.0010\n",
            "Epoch 4/50\n",
            "1/1 [==============================] - ETA: 0s - loss: 2.2046 - accuracy: 0.6667\n",
            "Epoch 4: val_loss did not improve from 2.23355\n",
            "1/1 [==============================] - 0s 27ms/step - loss: 2.2046 - accuracy: 0.6667 - val_loss: 2.3028 - val_accuracy: 0.1000 - lr: 0.0010\n",
            "Epoch 5/50\n",
            "1/1 [==============================] - ETA: 0s - loss: 2.1780 - accuracy: 0.6667\n",
            "Epoch 5: val_loss did not improve from 2.23355\n",
            "1/1 [==============================] - 0s 27ms/step - loss: 2.1780 - accuracy: 0.6667 - val_loss: 2.3011 - val_accuracy: 0.0000e+00 - lr: 0.0010\n",
            "Epoch 6/50\n",
            "1/1 [==============================] - ETA: 0s - loss: 2.1513 - accuracy: 0.7500\n",
            "Epoch 6: val_loss did not improve from 2.23355\n",
            "1/1 [==============================] - 0s 29ms/step - loss: 2.1513 - accuracy: 0.7500 - val_loss: 2.2993 - val_accuracy: 0.0000e+00 - lr: 0.0010\n",
            "Epoch 7/50\n",
            "1/1 [==============================] - ETA: 0s - loss: 2.1235 - accuracy: 0.7500\n",
            "Epoch 7: val_loss did not improve from 2.23355\n",
            "1/1 [==============================] - 0s 28ms/step - loss: 2.1235 - accuracy: 0.7500 - val_loss: 2.2973 - val_accuracy: 0.0000e+00 - lr: 0.0010\n",
            "Epoch 8/50\n",
            "1/1 [==============================] - ETA: 0s - loss: 2.0946 - accuracy: 0.7500\n",
            "Epoch 8: val_loss did not improve from 2.23355\n",
            "1/1 [==============================] - 0s 28ms/step - loss: 2.0946 - accuracy: 0.7500 - val_loss: 2.2950 - val_accuracy: 0.0000e+00 - lr: 0.0010\n",
            "Epoch 9/50\n",
            "1/1 [==============================] - ETA: 0s - loss: 2.0647 - accuracy: 0.7500\n",
            "Epoch 9: val_loss did not improve from 2.23355\n",
            "1/1 [==============================] - 0s 30ms/step - loss: 2.0647 - accuracy: 0.7500 - val_loss: 2.2924 - val_accuracy: 0.0000e+00 - lr: 0.0010\n",
            "Epoch 10/50\n",
            "1/1 [==============================] - ETA: 0s - loss: 2.0338 - accuracy: 0.7500\n",
            "Epoch 10: val_loss did not improve from 2.23355\n",
            "1/1 [==============================] - 0s 28ms/step - loss: 2.0338 - accuracy: 0.7500 - val_loss: 2.2904 - val_accuracy: 0.0000e+00 - lr: 0.0010\n",
            "Epoch 11/50\n",
            "1/1 [==============================] - ETA: 0s - loss: 2.0016 - accuracy: 0.8333\n",
            "Epoch 11: val_loss did not improve from 2.23355\n",
            "1/1 [==============================] - 0s 30ms/step - loss: 2.0016 - accuracy: 0.8333 - val_loss: 2.2881 - val_accuracy: 0.0000e+00 - lr: 0.0010\n",
            "Epoch 12/50\n",
            "1/1 [==============================] - ETA: 0s - loss: 1.9683 - accuracy: 0.8333\n",
            "Epoch 12: val_loss did not improve from 2.23355\n",
            "1/1 [==============================] - 0s 29ms/step - loss: 1.9683 - accuracy: 0.8333 - val_loss: 2.2859 - val_accuracy: 0.0000e+00 - lr: 0.0010\n",
            "Epoch 13/50\n",
            "1/1 [==============================] - ETA: 0s - loss: 1.9338 - accuracy: 0.8333\n",
            "Epoch 13: val_loss did not improve from 2.23355\n",
            "1/1 [==============================] - 0s 29ms/step - loss: 1.9338 - accuracy: 0.8333 - val_loss: 2.2841 - val_accuracy: 0.0000e+00 - lr: 0.0010\n",
            "Epoch 14/50\n",
            "1/1 [==============================] - ETA: 0s - loss: 1.8984 - accuracy: 0.8333\n",
            "Epoch 14: val_loss did not improve from 2.23355\n",
            "1/1 [==============================] - 0s 27ms/step - loss: 1.8984 - accuracy: 0.8333 - val_loss: 2.2818 - val_accuracy: 0.1000 - lr: 0.0010\n",
            "Epoch 15/50\n",
            "1/1 [==============================] - ETA: 0s - loss: 1.8612 - accuracy: 0.8333\n",
            "Epoch 15: val_loss did not improve from 2.23355\n",
            "1/1 [==============================] - 0s 28ms/step - loss: 1.8612 - accuracy: 0.8333 - val_loss: 2.2798 - val_accuracy: 0.1000 - lr: 0.0010\n",
            "Epoch 16/50\n",
            "1/1 [==============================] - ETA: 0s - loss: 1.8225 - accuracy: 0.8333\n",
            "Epoch 16: val_loss did not improve from 2.23355\n",
            "1/1 [==============================] - 0s 29ms/step - loss: 1.8225 - accuracy: 0.8333 - val_loss: 2.2778 - val_accuracy: 0.1000 - lr: 0.0010\n",
            "Epoch 17/50\n",
            "1/1 [==============================] - ETA: 0s - loss: 1.7829 - accuracy: 0.8333\n",
            "Epoch 17: val_loss did not improve from 2.23355\n",
            "1/1 [==============================] - 0s 27ms/step - loss: 1.7829 - accuracy: 0.8333 - val_loss: 2.2757 - val_accuracy: 0.1000 - lr: 0.0010\n",
            "Epoch 18/50\n",
            "1/1 [==============================] - ETA: 0s - loss: 1.7420 - accuracy: 0.8333\n",
            "Epoch 18: val_loss did not improve from 2.23355\n",
            "1/1 [==============================] - 0s 27ms/step - loss: 1.7420 - accuracy: 0.8333 - val_loss: 2.2736 - val_accuracy: 0.1000 - lr: 0.0010\n",
            "Epoch 19/50\n",
            "1/1 [==============================] - ETA: 0s - loss: 1.7000 - accuracy: 0.8333\n",
            "Epoch 19: val_loss did not improve from 2.23355\n",
            "1/1 [==============================] - 0s 26ms/step - loss: 1.7000 - accuracy: 0.8333 - val_loss: 2.2715 - val_accuracy: 0.1000 - lr: 0.0010\n",
            "Epoch 20/50\n",
            "1/1 [==============================] - ETA: 0s - loss: 1.6567 - accuracy: 0.8333\n",
            "Epoch 20: val_loss did not improve from 2.23355\n",
            "1/1 [==============================] - 0s 27ms/step - loss: 1.6567 - accuracy: 0.8333 - val_loss: 2.2691 - val_accuracy: 0.1000 - lr: 0.0010\n",
            "Epoch 21/50\n",
            "1/1 [==============================] - ETA: 0s - loss: 1.6119 - accuracy: 0.8333\n",
            "Epoch 21: val_loss did not improve from 2.23355\n",
            "1/1 [==============================] - 0s 27ms/step - loss: 1.6119 - accuracy: 0.8333 - val_loss: 2.2665 - val_accuracy: 0.1000 - lr: 0.0010\n",
            "Epoch 22/50\n",
            "1/1 [==============================] - ETA: 0s - loss: 1.5665 - accuracy: 0.8333\n",
            "Epoch 22: val_loss did not improve from 2.23355\n",
            "1/1 [==============================] - 0s 26ms/step - loss: 1.5665 - accuracy: 0.8333 - val_loss: 2.2641 - val_accuracy: 0.1000 - lr: 0.0010\n",
            "Epoch 23/50\n",
            "1/1 [==============================] - ETA: 0s - loss: 1.5203 - accuracy: 0.8333\n",
            "Epoch 23: val_loss did not improve from 2.23355\n",
            "1/1 [==============================] - 0s 27ms/step - loss: 1.5203 - accuracy: 0.8333 - val_loss: 2.2625 - val_accuracy: 0.1000 - lr: 0.0010\n",
            "Epoch 24/50\n",
            "1/1 [==============================] - ETA: 0s - loss: 1.4730 - accuracy: 0.7500\n",
            "Epoch 24: val_loss did not improve from 2.23355\n",
            "1/1 [==============================] - 0s 26ms/step - loss: 1.4730 - accuracy: 0.7500 - val_loss: 2.2612 - val_accuracy: 0.1000 - lr: 0.0010\n",
            "Epoch 25/50\n",
            "1/1 [==============================] - ETA: 0s - loss: 1.4248 - accuracy: 0.8333\n",
            "Epoch 25: val_loss did not improve from 2.23355\n",
            "1/1 [==============================] - 0s 27ms/step - loss: 1.4248 - accuracy: 0.8333 - val_loss: 2.2598 - val_accuracy: 0.1000 - lr: 0.0010\n",
            "Epoch 26/50\n",
            "1/1 [==============================] - ETA: 0s - loss: 1.3763 - accuracy: 0.8333\n",
            "Epoch 26: val_loss did not improve from 2.23355\n",
            "1/1 [==============================] - 0s 28ms/step - loss: 1.3763 - accuracy: 0.8333 - val_loss: 2.2587 - val_accuracy: 0.1000 - lr: 0.0010\n",
            "Epoch 27/50\n",
            "1/1 [==============================] - ETA: 0s - loss: 1.3271 - accuracy: 0.8333\n",
            "Epoch 27: val_loss did not improve from 2.23355\n",
            "1/1 [==============================] - 0s 27ms/step - loss: 1.3271 - accuracy: 0.8333 - val_loss: 2.2575 - val_accuracy: 0.1000 - lr: 0.0010\n",
            "Epoch 28/50\n",
            "1/1 [==============================] - ETA: 0s - loss: 1.2777 - accuracy: 0.8333\n",
            "Epoch 28: val_loss did not improve from 2.23355\n",
            "1/1 [==============================] - 0s 26ms/step - loss: 1.2777 - accuracy: 0.8333 - val_loss: 2.2567 - val_accuracy: 0.1000 - lr: 0.0010\n",
            "Epoch 29/50\n",
            "1/1 [==============================] - ETA: 0s - loss: 1.2279 - accuracy: 0.8333\n",
            "Epoch 29: val_loss did not improve from 2.23355\n",
            "1/1 [==============================] - 0s 31ms/step - loss: 1.2279 - accuracy: 0.8333 - val_loss: 2.2550 - val_accuracy: 0.1000 - lr: 0.0010\n",
            "Epoch 30/50\n",
            "1/1 [==============================] - ETA: 0s - loss: 1.1783 - accuracy: 0.8333\n",
            "Epoch 30: val_loss did not improve from 2.23355\n",
            "1/1 [==============================] - 0s 27ms/step - loss: 1.1783 - accuracy: 0.8333 - val_loss: 2.2528 - val_accuracy: 0.1000 - lr: 0.0010\n",
            "Epoch 31/50\n",
            "1/1 [==============================] - ETA: 0s - loss: 1.1287 - accuracy: 0.9167\n",
            "Epoch 31: val_loss did not improve from 2.23355\n",
            "1/1 [==============================] - 0s 26ms/step - loss: 1.1287 - accuracy: 0.9167 - val_loss: 2.2507 - val_accuracy: 0.1000 - lr: 0.0010\n",
            "Epoch 32/50\n",
            "1/1 [==============================] - ETA: 0s - loss: 1.0797 - accuracy: 0.9167\n",
            "Epoch 32: val_loss did not improve from 2.23355\n",
            "1/1 [==============================] - 0s 27ms/step - loss: 1.0797 - accuracy: 0.9167 - val_loss: 2.2484 - val_accuracy: 0.2000 - lr: 0.0010\n",
            "Epoch 33/50\n",
            "1/1 [==============================] - ETA: 0s - loss: 1.0310 - accuracy: 0.9167\n",
            "Epoch 33: val_loss did not improve from 2.23355\n",
            "1/1 [==============================] - 0s 27ms/step - loss: 1.0310 - accuracy: 0.9167 - val_loss: 2.2459 - val_accuracy: 0.3000 - lr: 0.0010\n",
            "Epoch 34/50\n",
            "1/1 [==============================] - ETA: 0s - loss: 0.9826 - accuracy: 0.9167\n",
            "Epoch 34: val_loss did not improve from 2.23355\n",
            "1/1 [==============================] - 0s 27ms/step - loss: 0.9826 - accuracy: 0.9167 - val_loss: 2.2424 - val_accuracy: 0.3000 - lr: 0.0010\n",
            "Epoch 35/50\n",
            "1/1 [==============================] - ETA: 0s - loss: 0.9351 - accuracy: 0.9167\n",
            "Epoch 35: val_loss did not improve from 2.23355\n",
            "1/1 [==============================] - 0s 26ms/step - loss: 0.9351 - accuracy: 0.9167 - val_loss: 2.2386 - val_accuracy: 0.3000 - lr: 0.0010\n",
            "Epoch 36/50\n",
            "1/1 [==============================] - ETA: 0s - loss: 0.8884 - accuracy: 0.9167\n",
            "Epoch 36: val_loss did not improve from 2.23355\n",
            "1/1 [==============================] - 0s 27ms/step - loss: 0.8884 - accuracy: 0.9167 - val_loss: 2.2346 - val_accuracy: 0.3000 - lr: 0.0010\n",
            "Epoch 37/50\n",
            "1/1 [==============================] - ETA: 0s - loss: 0.8423 - accuracy: 0.9167\n",
            "Epoch 37: val_loss improved from 2.23355 to 2.23070, saving model to model-v1.h5\n",
            "1/1 [==============================] - 0s 44ms/step - loss: 0.8423 - accuracy: 0.9167 - val_loss: 2.2307 - val_accuracy: 0.3000 - lr: 0.0010\n",
            "Epoch 38/50\n",
            "1/1 [==============================] - ETA: 0s - loss: 0.7974 - accuracy: 0.9167\n",
            "Epoch 38: val_loss improved from 2.23070 to 2.22647, saving model to model-v1.h5\n",
            "1/1 [==============================] - 0s 39ms/step - loss: 0.7974 - accuracy: 0.9167 - val_loss: 2.2265 - val_accuracy: 0.3000 - lr: 0.0010\n",
            "Epoch 39/50\n",
            "1/1 [==============================] - ETA: 0s - loss: 0.7533 - accuracy: 0.9167\n",
            "Epoch 39: val_loss improved from 2.22647 to 2.22097, saving model to model-v1.h5\n",
            "1/1 [==============================] - 0s 40ms/step - loss: 0.7533 - accuracy: 0.9167 - val_loss: 2.2210 - val_accuracy: 0.3000 - lr: 0.0010\n",
            "Epoch 40/50\n",
            "1/1 [==============================] - ETA: 0s - loss: 0.7106 - accuracy: 0.9167\n",
            "Epoch 40: val_loss improved from 2.22097 to 2.21472, saving model to model-v1.h5\n",
            "1/1 [==============================] - 0s 40ms/step - loss: 0.7106 - accuracy: 0.9167 - val_loss: 2.2147 - val_accuracy: 0.3000 - lr: 0.0010\n",
            "Epoch 41/50\n",
            "1/1 [==============================] - ETA: 0s - loss: 0.6694 - accuracy: 0.9167\n",
            "Epoch 41: val_loss improved from 2.21472 to 2.20848, saving model to model-v1.h5\n",
            "1/1 [==============================] - 0s 39ms/step - loss: 0.6694 - accuracy: 0.9167 - val_loss: 2.2085 - val_accuracy: 0.3000 - lr: 0.0010\n"
          ]
        },
        {
          "name": "stderr",
          "output_type": "stream",
          "text": [
            "c:\\Users\\user\\AppData\\Local\\Programs\\Python\\Python311\\Lib\\site-packages\\keras\\src\\engine\\training.py:3103: UserWarning: You are saving your model as an HDF5 file via `model.save()`. This file format is considered legacy. We recommend using instead the native Keras format, e.g. `model.save('my_model.keras')`.\n",
            "  saving_api.save_model(\n"
          ]
        },
        {
          "name": "stdout",
          "output_type": "stream",
          "text": [
            "Epoch 42/50\n",
            "1/1 [==============================] - ETA: 0s - loss: 0.6288 - accuracy: 0.9167\n",
            "Epoch 42: val_loss improved from 2.20848 to 2.20253, saving model to model-v1.h5\n",
            "1/1 [==============================] - 0s 40ms/step - loss: 0.6288 - accuracy: 0.9167 - val_loss: 2.2025 - val_accuracy: 0.3000 - lr: 0.0010\n",
            "Epoch 43/50\n",
            "1/1 [==============================] - ETA: 0s - loss: 0.5890 - accuracy: 0.9167\n",
            "Epoch 43: val_loss improved from 2.20253 to 2.19610, saving model to model-v1.h5\n",
            "1/1 [==============================] - 0s 41ms/step - loss: 0.5890 - accuracy: 0.9167 - val_loss: 2.1961 - val_accuracy: 0.3000 - lr: 0.0010\n",
            "Epoch 44/50\n",
            "1/1 [==============================] - ETA: 0s - loss: 0.5501 - accuracy: 0.9167\n",
            "Epoch 44: val_loss improved from 2.19610 to 2.18899, saving model to model-v1.h5\n",
            "1/1 [==============================] - 0s 43ms/step - loss: 0.5501 - accuracy: 0.9167 - val_loss: 2.1890 - val_accuracy: 0.3000 - lr: 0.0010\n",
            "Epoch 45/50\n",
            "1/1 [==============================] - ETA: 0s - loss: 0.5125 - accuracy: 0.9167\n",
            "Epoch 45: val_loss improved from 2.18899 to 2.18194, saving model to model-v1.h5\n",
            "1/1 [==============================] - 0s 40ms/step - loss: 0.5125 - accuracy: 0.9167 - val_loss: 2.1819 - val_accuracy: 0.3000 - lr: 0.0010\n",
            "Epoch 46/50\n",
            "1/1 [==============================] - ETA: 0s - loss: 0.4767 - accuracy: 1.0000\n",
            "Epoch 46: val_loss improved from 2.18194 to 2.17539, saving model to model-v1.h5\n",
            "1/1 [==============================] - 0s 40ms/step - loss: 0.4767 - accuracy: 1.0000 - val_loss: 2.1754 - val_accuracy: 0.3000 - lr: 0.0010\n",
            "Epoch 47/50\n",
            "1/1 [==============================] - ETA: 0s - loss: 0.4417 - accuracy: 1.0000\n",
            "Epoch 47: val_loss improved from 2.17539 to 2.16910, saving model to model-v1.h5\n",
            "1/1 [==============================] - 0s 40ms/step - loss: 0.4417 - accuracy: 1.0000 - val_loss: 2.1691 - val_accuracy: 0.2000 - lr: 0.0010\n",
            "Epoch 48/50\n",
            "1/1 [==============================] - ETA: 0s - loss: 0.4083 - accuracy: 1.0000\n",
            "Epoch 48: val_loss improved from 2.16910 to 2.16288, saving model to model-v1.h5\n",
            "1/1 [==============================] - 0s 40ms/step - loss: 0.4083 - accuracy: 1.0000 - val_loss: 2.1629 - val_accuracy: 0.2000 - lr: 0.0010\n",
            "Epoch 49/50\n",
            "1/1 [==============================] - ETA: 0s - loss: 0.3766 - accuracy: 1.0000\n",
            "Epoch 49: val_loss improved from 2.16288 to 2.15625, saving model to model-v1.h5\n",
            "1/1 [==============================] - 0s 40ms/step - loss: 0.3766 - accuracy: 1.0000 - val_loss: 2.1563 - val_accuracy: 0.2000 - lr: 0.0010\n",
            "Epoch 50/50\n",
            "1/1 [==============================] - ETA: 0s - loss: 0.3467 - accuracy: 1.0000\n",
            "Epoch 50: val_loss improved from 2.15625 to 2.14929, saving model to model-v1.h5\n",
            "1/1 [==============================] - 0s 43ms/step - loss: 0.3467 - accuracy: 1.0000 - val_loss: 2.1493 - val_accuracy: 0.2000 - lr: 0.0010\n",
            "1/1 [==============================] - 0s 69ms/step\n",
            "Precision: 0.15\n",
            "Recall: 0.20\n",
            "F1 Score: 0.17\n",
            "Accuracy: 0.20\n"
          ]
        },
        {
          "name": "stderr",
          "output_type": "stream",
          "text": [
            "c:\\Users\\user\\AppData\\Local\\Programs\\Python\\Python311\\Lib\\site-packages\\sklearn\\metrics\\_classification.py:1344: UndefinedMetricWarning: Precision is ill-defined and being set to 0.0 in labels with no predicted samples. Use `zero_division` parameter to control this behavior.\n",
            "  _warn_prf(average, modifier, msg_start, len(result))\n"
          ]
        }
      ],
      "source": [
        "history = model2.fit(X_train, y_train, epochs=50, verbose=1,validation_data=(X_test,y_test),callbacks=callbacks)\n",
        "\n",
        "from sklearn.metrics import precision_score, recall_score, f1_score, accuracy_score\n",
        "\n",
        "# Assuming model1.predict returns the predicted labels\n",
        "y_pred = np.argmax(model2.predict(X_test), axis=1)\n",
        "\n",
        "# Assuming y_test contains the actual labels\n",
        "y_test_labels = np.argmax(y_test, axis=1)\n",
        "\n",
        "# Calculate precision, recall, F1-score, and accuracy\n",
        "precision = precision_score(y_test_labels, y_pred, average='weighted')\n",
        "recall = recall_score(y_test_labels, y_pred, average='weighted')\n",
        "f1 = f1_score(y_test_labels, y_pred, average='weighted')\n",
        "accuracy = accuracy_score(y_test_labels, y_pred)\n",
        "\n",
        "print(f\"Precision: {precision:.2f}\")\n",
        "print(f\"Recall: {recall:.2f}\")\n",
        "print(f\"F1 Score: {f1:.2f}\")\n",
        "print(f\"Accuracy: {accuracy:.2f}\")"
      ]
    },
    {
      "cell_type": "code",
      "execution_count": 69,
      "metadata": {
        "colab": {
          "base_uri": "https://localhost:8080/",
          "height": 513
        },
        "id": "SMNZHhfqYEQ9",
        "outputId": "0c81da43-c58a-419d-b477-9afb5cb5c262"
      },
      "outputs": [
        {
          "data": {
            "image/png": "[encoded data removed]",
            "text/plain": [
              "<Figure size 1600x800 with 2 Axes>"
            ]
          },
          "metadata": {},
          "output_type": "display_data"
        }
      ],
      "source": [
        "# Learning curves \n",
        "\n",
        "acc = history.history['accuracy']\n",
        "val_acc = history.history['val_accuracy']\n",
        "loss=history.history['loss']\n",
        "val_loss=history.history['val_loss']\n",
        "\n",
        "plt.figure(figsize=(16,8))\n",
        "plt.subplot(1, 2, 1)\n",
        "plt.plot(acc, label='Training Accuracy')\n",
        "plt.plot(val_acc, label='Validation Accuracy')\n",
        "plt.legend(loc='lower right')\n",
        "plt.title('Training and Validation Accuracy')\n",
        "plt.xlabel(\"epochs\")\n",
        "plt.ylabel(\"accuracy\")\n",
        "\n",
        "plt.subplot(1, 2, 2)\n",
        "plt.plot(loss, label='Training Loss')\n",
        "plt.plot(val_loss, label='Validation Loss')\n",
        "plt.legend(loc='upper right')\n",
        "plt.title('Training and Validation Loss')\n",
        "plt.xlabel(\"epochs\")\n",
        "plt.ylabel(\"loss\")\n",
        "plt.show()"
      ]
    },
    {
      "cell_type": "markdown",
      "metadata": {
        "id": "I_PRZPplHqmV"
      },
      "source": [
        "## LSTM"
      ]
    },
    {
      "cell_type": "code",
      "execution_count": 70,
      "metadata": {
        "id": "-T3A0-TWmDS8"
      },
      "outputs": [],
      "source": [
        "def define_model3(vocab_size, max_length):\n",
        "    model3 = Sequential()\n",
        "    model3.add(Embedding(vocab_size,300, input_length=max_length))\n",
        "    model3.add(LSTM(500))\n",
        "    model3.add(Dense(10, activation='softmax'))\n",
        "    \n",
        "    model3.compile(loss = 'categorical_crossentropy',optimizer = 'adam',metrics = ['accuracy'])\n",
        "    \n",
        "    # summarize defined model\n",
        "    model3.summary()\n",
        "    return model3"
      ]
    },
    {
      "cell_type": "code",
      "execution_count": 71,
      "metadata": {
        "colab": {
          "base_uri": "https://localhost:8080/"
        },
        "id": "iNtO1edjHxt6",
        "outputId": "649205f4-53fa-4ba1-909b-827dab404f80"
      },
      "outputs": [
        {
          "name": "stdout",
          "output_type": "stream",
          "text": [
            "Model: \"sequential_2\"\n",
            "_________________________________________________________________\n",
            " Layer (type)                Output Shape              Param #   \n",
            "=================================================================\n",
            " embedding_2 (Embedding)     (None, 10, 300)           19800     \n",
            "                                                                 \n",
            " lstm (LSTM)                 (None, 500)               1602000   \n",
            "                                                                 \n",
            " dense_3 (Dense)             (None, 10)                5010      \n",
            "                                                                 \n",
            "=================================================================\n",
            "Total params: 1626810 (6.21 MB)\n",
            "Trainable params: 1626810 (6.21 MB)\n",
            "Non-trainable params: 0 (0.00 Byte)\n",
            "_________________________________________________________________\n"
          ]
        }
      ],
      "source": [
        "model3 = define_model3(vocab_size, max_length)"
      ]
    },
    {
      "cell_type": "code",
      "execution_count": 72,
      "metadata": {
        "colab": {
          "base_uri": "https://localhost:8080/"
        },
        "id": "FGq3NSaJCoJg",
        "outputId": "8bbbeb09-6b9c-45c8-ef4e-38beb1ffa860"
      },
      "outputs": [
        {
          "name": "stdout",
          "output_type": "stream",
          "text": [
            "Epoch 1/50\n",
            "1/1 [==============================] - 2s 2s/step - loss: 2.3018 - accuracy: 0.1667 - val_loss: 2.2928 - val_accuracy: 0.0000e+00\n",
            "Epoch 2/50\n",
            "1/1 [==============================] - 0s 62ms/step - loss: 2.2452 - accuracy: 0.3333 - val_loss: 2.2851 - val_accuracy: 0.0000e+00\n",
            "Epoch 3/50\n",
            "1/1 [==============================] - 0s 62ms/step - loss: 2.1866 - accuracy: 0.4167 - val_loss: 2.2806 - val_accuracy: 0.1000\n",
            "Epoch 4/50\n",
            "1/1 [==============================] - 0s 57ms/step - loss: 2.1186 - accuracy: 0.4167 - val_loss: 2.2846 - val_accuracy: 0.1000\n",
            "Epoch 5/50\n",
            "1/1 [==============================] - 0s 69ms/step - loss: 2.0362 - accuracy: 0.4167 - val_loss: 2.3129 - val_accuracy: 0.1000\n",
            "Epoch 6/50\n",
            "1/1 [==============================] - 0s 56ms/step - loss: 1.9419 - accuracy: 0.4167 - val_loss: 2.3883 - val_accuracy: 0.1000\n",
            "Epoch 7/50\n",
            "1/1 [==============================] - 0s 59ms/step - loss: 1.8503 - accuracy: 0.4167 - val_loss: 2.4718 - val_accuracy: 0.0000e+00\n",
            "Epoch 8/50\n",
            "1/1 [==============================] - 0s 58ms/step - loss: 1.7521 - accuracy: 0.4167 - val_loss: 2.4786 - val_accuracy: 0.0000e+00\n",
            "Epoch 9/50\n",
            "1/1 [==============================] - 0s 56ms/step - loss: 1.6093 - accuracy: 0.5833 - val_loss: 2.4375 - val_accuracy: 0.2000\n",
            "Epoch 10/50\n",
            "1/1 [==============================] - 0s 57ms/step - loss: 1.4478 - accuracy: 0.7500 - val_loss: 2.4153 - val_accuracy: 0.2000\n",
            "Epoch 11/50\n",
            "1/1 [==============================] - 0s 72ms/step - loss: 1.3206 - accuracy: 0.6667 - val_loss: 2.4561 - val_accuracy: 0.2000\n",
            "Epoch 12/50\n",
            "1/1 [==============================] - 0s 62ms/step - loss: 1.2669 - accuracy: 0.6667 - val_loss: 2.5744 - val_accuracy: 0.2000\n",
            "Epoch 13/50\n",
            "1/1 [==============================] - 0s 62ms/step - loss: 1.1917 - accuracy: 0.6667 - val_loss: 2.7116 - val_accuracy: 0.1000\n",
            "Epoch 14/50\n",
            "1/1 [==============================] - 0s 67ms/step - loss: 1.0327 - accuracy: 0.8333 - val_loss: 2.8954 - val_accuracy: 0.1000\n",
            "Epoch 15/50\n",
            "1/1 [==============================] - 0s 70ms/step - loss: 0.8592 - accuracy: 0.9167 - val_loss: 3.1405 - val_accuracy: 0.1000\n",
            "Epoch 16/50\n",
            "1/1 [==============================] - 0s 72ms/step - loss: 0.7254 - accuracy: 0.8333 - val_loss: 3.3683 - val_accuracy: 0.1000\n",
            "Epoch 17/50\n",
            "1/1 [==============================] - 0s 65ms/step - loss: 0.6127 - accuracy: 0.9167 - val_loss: 3.4653 - val_accuracy: 0.1000\n",
            "Epoch 18/50\n",
            "1/1 [==============================] - 0s 60ms/step - loss: 0.4652 - accuracy: 0.9167 - val_loss: 3.4910 - val_accuracy: 0.0000e+00\n",
            "Epoch 19/50\n",
            "1/1 [==============================] - 0s 54ms/step - loss: 0.3139 - accuracy: 1.0000 - val_loss: 3.5553 - val_accuracy: 0.0000e+00\n",
            "Epoch 20/50\n",
            "1/1 [==============================] - 0s 67ms/step - loss: 0.1990 - accuracy: 1.0000 - val_loss: 3.7013 - val_accuracy: 0.0000e+00\n",
            "Epoch 21/50\n",
            "1/1 [==============================] - 0s 55ms/step - loss: 0.1308 - accuracy: 1.0000 - val_loss: 3.9130 - val_accuracy: 0.0000e+00\n",
            "Epoch 22/50\n",
            "1/1 [==============================] - 0s 54ms/step - loss: 0.0944 - accuracy: 1.0000 - val_loss: 4.1427 - val_accuracy: 0.1000\n",
            "Epoch 23/50\n",
            "1/1 [==============================] - 0s 54ms/step - loss: 0.0695 - accuracy: 1.0000 - val_loss: 4.3570 - val_accuracy: 0.1000\n",
            "Epoch 24/50\n",
            "1/1 [==============================] - 0s 60ms/step - loss: 0.0495 - accuracy: 1.0000 - val_loss: 4.5836 - val_accuracy: 0.2000\n",
            "Epoch 25/50\n",
            "1/1 [==============================] - 0s 68ms/step - loss: 0.0352 - accuracy: 1.0000 - val_loss: 4.8573 - val_accuracy: 0.2000\n",
            "Epoch 26/50\n",
            "1/1 [==============================] - 0s 60ms/step - loss: 0.0255 - accuracy: 1.0000 - val_loss: 5.1491 - val_accuracy: 0.2000\n",
            "Epoch 27/50\n",
            "1/1 [==============================] - 0s 64ms/step - loss: 0.0163 - accuracy: 1.0000 - val_loss: 5.4283 - val_accuracy: 0.2000\n",
            "Epoch 28/50\n",
            "1/1 [==============================] - 0s 62ms/step - loss: 0.0092 - accuracy: 1.0000 - val_loss: 5.6877 - val_accuracy: 0.2000\n",
            "Epoch 29/50\n",
            "1/1 [==============================] - 0s 69ms/step - loss: 0.0056 - accuracy: 1.0000 - val_loss: 5.9315 - val_accuracy: 0.2000\n",
            "Epoch 30/50\n",
            "1/1 [==============================] - 0s 60ms/step - loss: 0.0038 - accuracy: 1.0000 - val_loss: 6.1590 - val_accuracy: 0.2000\n",
            "Epoch 31/50\n",
            "1/1 [==============================] - 0s 56ms/step - loss: 0.0027 - accuracy: 1.0000 - val_loss: 6.3664 - val_accuracy: 0.2000\n",
            "Epoch 32/50\n",
            "1/1 [==============================] - 0s 65ms/step - loss: 0.0019 - accuracy: 1.0000 - val_loss: 6.5522 - val_accuracy: 0.2000\n",
            "Epoch 33/50\n",
            "1/1 [==============================] - 0s 56ms/step - loss: 0.0014 - accuracy: 1.0000 - val_loss: 6.7193 - val_accuracy: 0.2000\n",
            "Epoch 34/50\n",
            "1/1 [==============================] - 0s 54ms/step - loss: 9.9915e-04 - accuracy: 1.0000 - val_loss: 6.8725 - val_accuracy: 0.2000\n",
            "Epoch 35/50\n",
            "1/1 [==============================] - 0s 61ms/step - loss: 7.4386e-04 - accuracy: 1.0000 - val_loss: 7.0158 - val_accuracy: 0.2000\n",
            "Epoch 36/50\n",
            "1/1 [==============================] - 0s 63ms/step - loss: 5.7481e-04 - accuracy: 1.0000 - val_loss: 7.1504 - val_accuracy: 0.2000\n",
            "Epoch 37/50\n",
            "1/1 [==============================] - 0s 55ms/step - loss: 4.6137e-04 - accuracy: 1.0000 - val_loss: 7.2760 - val_accuracy: 0.2000\n",
            "Epoch 38/50\n",
            "1/1 [==============================] - 0s 65ms/step - loss: 3.8328e-04 - accuracy: 1.0000 - val_loss: 7.3918 - val_accuracy: 0.2000\n",
            "Epoch 39/50\n",
            "1/1 [==============================] - 0s 57ms/step - loss: 3.2773e-04 - accuracy: 1.0000 - val_loss: 7.4972 - val_accuracy: 0.2000\n",
            "Epoch 40/50\n",
            "1/1 [==============================] - 0s 54ms/step - loss: 2.8706e-04 - accuracy: 1.0000 - val_loss: 7.5922 - val_accuracy: 0.2000\n",
            "Epoch 41/50\n",
            "1/1 [==============================] - 0s 57ms/step - loss: 2.5639e-04 - accuracy: 1.0000 - val_loss: 7.6773 - val_accuracy: 0.2000\n",
            "Epoch 42/50\n",
            "1/1 [==============================] - 0s 56ms/step - loss: 2.3271e-04 - accuracy: 1.0000 - val_loss: 7.7531 - val_accuracy: 0.2000\n",
            "Epoch 43/50\n",
            "1/1 [==============================] - 0s 59ms/step - loss: 2.1394e-04 - accuracy: 1.0000 - val_loss: 7.8202 - val_accuracy: 0.2000\n",
            "Epoch 44/50\n",
            "1/1 [==============================] - 0s 54ms/step - loss: 1.9891e-04 - accuracy: 1.0000 - val_loss: 7.8795 - val_accuracy: 0.2000\n",
            "Epoch 45/50\n",
            "1/1 [==============================] - 0s 53ms/step - loss: 1.8662e-04 - accuracy: 1.0000 - val_loss: 7.9317 - val_accuracy: 0.2000\n",
            "Epoch 46/50\n",
            "1/1 [==============================] - 0s 53ms/step - loss: 1.7633e-04 - accuracy: 1.0000 - val_loss: 7.9776 - val_accuracy: 0.2000\n",
            "Epoch 47/50\n",
            "1/1 [==============================] - 0s 56ms/step - loss: 1.6763e-04 - accuracy: 1.0000 - val_loss: 8.0179 - val_accuracy: 0.2000\n",
            "Epoch 48/50\n",
            "1/1 [==============================] - 0s 54ms/step - loss: 1.6022e-04 - accuracy: 1.0000 - val_loss: 8.0533 - val_accuracy: 0.2000\n",
            "Epoch 49/50\n",
            "1/1 [==============================] - 0s 52ms/step - loss: 1.5381e-04 - accuracy: 1.0000 - val_loss: 8.0844 - val_accuracy: 0.2000\n",
            "Epoch 50/50\n",
            "1/1 [==============================] - 0s 56ms/step - loss: 1.4815e-04 - accuracy: 1.0000 - val_loss: 8.1117 - val_accuracy: 0.2000\n",
            "1/1 [==============================] - 0s 349ms/step\n",
            "Precision: 0.20\n",
            "Recall: 0.20\n",
            "F1 Score: 0.20\n",
            "Accuracy: 0.20\n"
          ]
        },
        {
          "name": "stderr",
          "output_type": "stream",
          "text": [
            "c:\\Users\\user\\AppData\\Local\\Programs\\Python\\Python311\\Lib\\site-packages\\sklearn\\metrics\\_classification.py:1344: UndefinedMetricWarning: Precision is ill-defined and being set to 0.0 in labels with no predicted samples. Use `zero_division` parameter to control this behavior.\n",
            "  _warn_prf(average, modifier, msg_start, len(result))\n"
          ]
        }
      ],
      "source": [
        "history = model3.fit(X_train, y_train, epochs=50, verbose=1,validation_data=(X_test,y_test))\n",
        "\n",
        "from sklearn.metrics import precision_score, recall_score, f1_score, accuracy_score\n",
        "\n",
        "# Assuming model1.predict returns the predicted labels\n",
        "y_pred = np.argmax(model3.predict(X_test), axis=1)\n",
        "\n",
        "# Assuming y_test contains the actual labels\n",
        "y_test_labels = np.argmax(y_test, axis=1)\n",
        "\n",
        "# Calculate precision, recall, F1-score, and accuracy\n",
        "precision = precision_score(y_test_labels, y_pred, average='weighted')\n",
        "recall = recall_score(y_test_labels, y_pred, average='weighted')\n",
        "f1 = f1_score(y_test_labels, y_pred, average='weighted')\n",
        "accuracy = accuracy_score(y_test_labels, y_pred)\n",
        "\n",
        "print(f\"Precision: {precision:.2f}\")\n",
        "print(f\"Recall: {recall:.2f}\")\n",
        "print(f\"F1 Score: {f1:.2f}\")\n",
        "print(f\"Accuracy: {accuracy:.2f}\")"
      ]
    },
    {
      "cell_type": "code",
      "execution_count": 73,
      "metadata": {
        "colab": {
          "base_uri": "https://localhost:8080/",
          "height": 513
        },
        "id": "36X8FbbgOhTf",
        "outputId": "d559e43f-df22-46de-a7a1-ec3c9cab5e07"
      },
      "outputs": [
        {
          "data": {
            "image/png": "[encoded data removed]",
            "text/plain": [
              "<Figure size 1600x800 with 2 Axes>"
            ]
          },
          "metadata": {},
          "output_type": "display_data"
        }
      ],
      "source": [
        "# Learning curves \n",
        "\n",
        "acc = history.history['accuracy']\n",
        "val_acc = history.history['val_accuracy']\n",
        "loss=history.history['loss']\n",
        "val_loss=history.history['val_loss']\n",
        "\n",
        "plt.figure(figsize=(16,8))\n",
        "plt.subplot(1, 2, 1)\n",
        "plt.plot(acc, label='Training Accuracy')\n",
        "plt.plot(val_acc, label='Validation Accuracy')\n",
        "plt.legend(loc='lower right')\n",
        "plt.title('Training and Validation Accuracy')\n",
        "plt.xlabel(\"epochs\")\n",
        "plt.ylabel(\"accuracy\")\n",
        "\n",
        "plt.subplot(1, 2, 2)\n",
        "plt.plot(loss, label='Training Loss')\n",
        "plt.plot(val_loss, label='Validation Loss')\n",
        "plt.legend(loc='upper right')\n",
        "plt.title('Training and Validation Loss')\n",
        "plt.xlabel(\"epochs\")\n",
        "plt.ylabel(\"loss\")\n",
        "plt.show()"
      ]
    },
    {
      "cell_type": "markdown",
      "metadata": {
        "id": "qBmXCUoUct-Y"
      },
      "source": [
        "## GRU"
      ]
    },
    {
      "cell_type": "code",
      "execution_count": 74,
      "metadata": {
        "id": "xzIyloY3cyoD"
      },
      "outputs": [],
      "source": [
        "def define_model4(vocab_size, max_length):\n",
        "    model4 = Sequential()\n",
        "    model4.add(Embedding(vocab_size,300, input_length=max_length))\n",
        "    model4.add(GRU(500))\n",
        "    model4.add(Dense(10, activation='softmax'))\n",
        "    \n",
        "    model4.compile(loss = 'categorical_crossentropy',optimizer = 'adam',metrics = ['accuracy'])\n",
        "    \n",
        "    # summarize defined model\n",
        "    model4.summary()\n",
        "    return model4"
      ]
    },
    {
      "cell_type": "code",
      "execution_count": 75,
      "metadata": {
        "colab": {
          "base_uri": "https://localhost:8080/"
        },
        "id": "qEXaR-g4cylS",
        "outputId": "b8071e06-098e-4878-fae7-84a628aa0673"
      },
      "outputs": [
        {
          "name": "stdout",
          "output_type": "stream",
          "text": [
            "Model: \"sequential_3\"\n",
            "_________________________________________________________________\n",
            " Layer (type)                Output Shape              Param #   \n",
            "=================================================================\n",
            " embedding_3 (Embedding)     (None, 10, 300)           19800     \n",
            "                                                                 \n",
            " gru (GRU)                   (None, 500)               1203000   \n",
            "                                                                 \n",
            " dense_4 (Dense)             (None, 10)                5010      \n",
            "                                                                 \n",
            "=================================================================\n",
            "Total params: 1227810 (4.68 MB)\n",
            "Trainable params: 1227810 (4.68 MB)\n",
            "Non-trainable params: 0 (0.00 Byte)\n",
            "_________________________________________________________________\n"
          ]
        }
      ],
      "source": [
        "model4 = define_model4(vocab_size, max_length)"
      ]
    },
    {
      "cell_type": "code",
      "execution_count": 76,
      "metadata": {
        "colab": {
          "base_uri": "https://localhost:8080/"
        },
        "id": "49hqm9sWc1ED",
        "outputId": "b5da6e36-1690-4bd7-9f26-4706bf58a724"
      },
      "outputs": [
        {
          "name": "stdout",
          "output_type": "stream",
          "text": [
            "Epoch 1/50\n",
            "1/1 [==============================] - 2s 2s/step - loss: 2.3006 - accuracy: 0.0833 - val_loss: 2.2961 - val_accuracy: 0.2000\n",
            "Epoch 2/50\n",
            "1/1 [==============================] - 0s 46ms/step - loss: 2.2375 - accuracy: 0.3333 - val_loss: 2.2965 - val_accuracy: 0.1000\n",
            "Epoch 3/50\n",
            "1/1 [==============================] - 0s 45ms/step - loss: 2.1749 - accuracy: 0.4167 - val_loss: 2.3029 - val_accuracy: 0.1000\n",
            "Epoch 4/50\n",
            "1/1 [==============================] - 0s 47ms/step - loss: 2.1083 - accuracy: 0.4167 - val_loss: 2.3208 - val_accuracy: 0.1000\n",
            "Epoch 5/50\n",
            "1/1 [==============================] - 0s 46ms/step - loss: 2.0360 - accuracy: 0.4167 - val_loss: 2.3592 - val_accuracy: 0.1000\n",
            "Epoch 6/50\n",
            "1/1 [==============================] - 0s 51ms/step - loss: 1.9603 - accuracy: 0.4167 - val_loss: 2.4252 - val_accuracy: 0.1000\n",
            "Epoch 7/50\n",
            "1/1 [==============================] - 0s 50ms/step - loss: 1.8857 - accuracy: 0.4167 - val_loss: 2.4959 - val_accuracy: 0.1000\n",
            "Epoch 8/50\n",
            "1/1 [==============================] - 0s 51ms/step - loss: 1.8044 - accuracy: 0.4167 - val_loss: 2.5220 - val_accuracy: 0.1000\n",
            "Epoch 9/50\n",
            "1/1 [==============================] - 0s 51ms/step - loss: 1.6918 - accuracy: 0.4167 - val_loss: 2.4907 - val_accuracy: 0.0000e+00\n",
            "Epoch 10/50\n",
            "1/1 [==============================] - 0s 50ms/step - loss: 1.5408 - accuracy: 0.4167 - val_loss: 2.4197 - val_accuracy: 0.1000\n",
            "Epoch 11/50\n",
            "1/1 [==============================] - 0s 50ms/step - loss: 1.3767 - accuracy: 0.6667 - val_loss: 2.3574 - val_accuracy: 0.1000\n",
            "Epoch 12/50\n",
            "1/1 [==============================] - 0s 45ms/step - loss: 1.2713 - accuracy: 0.6667 - val_loss: 2.3871 - val_accuracy: 0.1000\n",
            "Epoch 13/50\n",
            "1/1 [==============================] - 0s 48ms/step - loss: 1.2582 - accuracy: 0.4167 - val_loss: 2.4537 - val_accuracy: 0.1000\n",
            "Epoch 14/50\n",
            "1/1 [==============================] - 0s 51ms/step - loss: 1.1476 - accuracy: 0.5000 - val_loss: 2.5894 - val_accuracy: 0.0000e+00\n",
            "Epoch 15/50\n",
            "1/1 [==============================] - 0s 49ms/step - loss: 1.0065 - accuracy: 0.5833 - val_loss: 2.8082 - val_accuracy: 0.1000\n",
            "Epoch 16/50\n",
            "1/1 [==============================] - 0s 46ms/step - loss: 0.9188 - accuracy: 0.7500 - val_loss: 3.0261 - val_accuracy: 0.1000\n",
            "Epoch 17/50\n",
            "1/1 [==============================] - 0s 50ms/step - loss: 0.8595 - accuracy: 0.8333 - val_loss: 3.1961 - val_accuracy: 0.1000\n",
            "Epoch 18/50\n",
            "1/1 [==============================] - 0s 49ms/step - loss: 0.7652 - accuracy: 0.7500 - val_loss: 3.3237 - val_accuracy: 0.1000\n",
            "Epoch 19/50\n",
            "1/1 [==============================] - 0s 48ms/step - loss: 0.6318 - accuracy: 0.8333 - val_loss: 3.4672 - val_accuracy: 0.1000\n",
            "Epoch 20/50\n",
            "1/1 [==============================] - 0s 49ms/step - loss: 0.5214 - accuracy: 0.9167 - val_loss: 3.7062 - val_accuracy: 0.1000\n",
            "Epoch 21/50\n",
            "1/1 [==============================] - 0s 48ms/step - loss: 0.4509 - accuracy: 0.8333 - val_loss: 4.0629 - val_accuracy: 0.0000e+00\n",
            "Epoch 22/50\n",
            "1/1 [==============================] - 0s 46ms/step - loss: 0.3638 - accuracy: 0.9167 - val_loss: 4.5146 - val_accuracy: 0.0000e+00\n",
            "Epoch 23/50\n",
            "1/1 [==============================] - 0s 45ms/step - loss: 0.2666 - accuracy: 1.0000 - val_loss: 5.0648 - val_accuracy: 0.0000e+00\n",
            "Epoch 24/50\n",
            "1/1 [==============================] - 0s 43ms/step - loss: 0.1995 - accuracy: 0.9167 - val_loss: 5.7031 - val_accuracy: 0.1000\n",
            "Epoch 25/50\n",
            "1/1 [==============================] - 0s 44ms/step - loss: 0.1601 - accuracy: 0.9167 - val_loss: 6.3706 - val_accuracy: 0.1000\n",
            "Epoch 26/50\n",
            "1/1 [==============================] - 0s 45ms/step - loss: 0.1213 - accuracy: 1.0000 - val_loss: 6.9890 - val_accuracy: 0.1000\n",
            "Epoch 27/50\n",
            "1/1 [==============================] - 0s 46ms/step - loss: 0.0839 - accuracy: 1.0000 - val_loss: 7.5359 - val_accuracy: 0.1000\n",
            "Epoch 28/50\n",
            "1/1 [==============================] - 0s 47ms/step - loss: 0.0565 - accuracy: 1.0000 - val_loss: 8.0478 - val_accuracy: 0.2000\n",
            "Epoch 29/50\n",
            "1/1 [==============================] - 0s 45ms/step - loss: 0.0355 - accuracy: 1.0000 - val_loss: 8.5462 - val_accuracy: 0.2000\n",
            "Epoch 30/50\n",
            "1/1 [==============================] - 0s 46ms/step - loss: 0.0218 - accuracy: 1.0000 - val_loss: 9.0198 - val_accuracy: 0.2000\n",
            "Epoch 31/50\n",
            "1/1 [==============================] - 0s 57ms/step - loss: 0.0145 - accuracy: 1.0000 - val_loss: 9.4255 - val_accuracy: 0.2000\n",
            "Epoch 32/50\n",
            "1/1 [==============================] - 0s 51ms/step - loss: 0.0110 - accuracy: 1.0000 - val_loss: 9.8501 - val_accuracy: 0.1000\n",
            "Epoch 33/50\n",
            "1/1 [==============================] - 0s 50ms/step - loss: 0.0094 - accuracy: 1.0000 - val_loss: 10.2609 - val_accuracy: 0.1000\n",
            "Epoch 34/50\n",
            "1/1 [==============================] - 0s 49ms/step - loss: 0.0090 - accuracy: 1.0000 - val_loss: 10.5898 - val_accuracy: 0.0000e+00\n",
            "Epoch 35/50\n",
            "1/1 [==============================] - 0s 59ms/step - loss: 0.0079 - accuracy: 1.0000 - val_loss: 10.8744 - val_accuracy: 0.0000e+00\n",
            "Epoch 36/50\n",
            "1/1 [==============================] - 0s 53ms/step - loss: 0.0057 - accuracy: 1.0000 - val_loss: 11.1396 - val_accuracy: 0.0000e+00\n",
            "Epoch 37/50\n",
            "1/1 [==============================] - 0s 50ms/step - loss: 0.0044 - accuracy: 1.0000 - val_loss: 11.3884 - val_accuracy: 0.0000e+00\n",
            "Epoch 38/50\n",
            "1/1 [==============================] - 0s 59ms/step - loss: 0.0033 - accuracy: 1.0000 - val_loss: 11.6201 - val_accuracy: 0.0000e+00\n",
            "Epoch 39/50\n",
            "1/1 [==============================] - 0s 63ms/step - loss: 0.0026 - accuracy: 1.0000 - val_loss: 11.8351 - val_accuracy: 0.0000e+00\n",
            "Epoch 40/50\n",
            "1/1 [==============================] - 0s 54ms/step - loss: 0.0021 - accuracy: 1.0000 - val_loss: 12.0336 - val_accuracy: 0.0000e+00\n",
            "Epoch 41/50\n",
            "1/1 [==============================] - 0s 54ms/step - loss: 0.0017 - accuracy: 1.0000 - val_loss: 12.2165 - val_accuracy: 0.0000e+00\n",
            "Epoch 42/50\n",
            "1/1 [==============================] - 0s 59ms/step - loss: 0.0014 - accuracy: 1.0000 - val_loss: 12.3848 - val_accuracy: 0.0000e+00\n",
            "Epoch 43/50\n",
            "1/1 [==============================] - 0s 54ms/step - loss: 0.0011 - accuracy: 1.0000 - val_loss: 12.5401 - val_accuracy: 0.0000e+00\n",
            "Epoch 44/50\n",
            "1/1 [==============================] - 0s 47ms/step - loss: 9.5821e-04 - accuracy: 1.0000 - val_loss: 12.6847 - val_accuracy: 0.0000e+00\n",
            "Epoch 45/50\n",
            "1/1 [==============================] - 0s 47ms/step - loss: 8.7453e-04 - accuracy: 1.0000 - val_loss: 12.8212 - val_accuracy: 0.0000e+00\n",
            "Epoch 46/50\n",
            "1/1 [==============================] - 0s 50ms/step - loss: 8.3504e-04 - accuracy: 1.0000 - val_loss: 12.9504 - val_accuracy: 0.0000e+00\n",
            "Epoch 47/50\n",
            "1/1 [==============================] - 0s 46ms/step - loss: 7.9685e-04 - accuracy: 1.0000 - val_loss: 13.0712 - val_accuracy: 0.0000e+00\n",
            "Epoch 48/50\n",
            "1/1 [==============================] - 0s 56ms/step - loss: 7.3035e-04 - accuracy: 1.0000 - val_loss: 13.1814 - val_accuracy: 0.0000e+00\n",
            "Epoch 49/50\n",
            "1/1 [==============================] - 0s 59ms/step - loss: 6.4598e-04 - accuracy: 1.0000 - val_loss: 13.2797 - val_accuracy: 0.0000e+00\n",
            "Epoch 50/50\n",
            "1/1 [==============================] - 0s 49ms/step - loss: 5.6710e-04 - accuracy: 1.0000 - val_loss: 13.3660 - val_accuracy: 0.0000e+00\n",
            "1/1 [==============================] - 0s 285ms/step\n",
            "Precision: 0.00\n",
            "Recall: 0.00\n",
            "F1 Score: 0.00\n",
            "Accuracy: 0.00\n"
          ]
        },
        {
          "name": "stderr",
          "output_type": "stream",
          "text": [
            "c:\\Users\\user\\AppData\\Local\\Programs\\Python\\Python311\\Lib\\site-packages\\sklearn\\metrics\\_classification.py:1344: UndefinedMetricWarning: Precision is ill-defined and being set to 0.0 in labels with no predicted samples. Use `zero_division` parameter to control this behavior.\n",
            "  _warn_prf(average, modifier, msg_start, len(result))\n"
          ]
        }
      ],
      "source": [
        "history = model4.fit(X_train, y_train, epochs=50, verbose=1,validation_data=(X_test,y_test))\n",
        "\n",
        "from sklearn.metrics import precision_score, recall_score, f1_score, accuracy_score\n",
        "\n",
        "# Assuming model1.predict returns the predicted labels\n",
        "y_pred = np.argmax(model4.predict(X_test), axis=1)\n",
        "\n",
        "# Assuming y_test contains the actual labels\n",
        "y_test_labels = np.argmax(y_test, axis=1)\n",
        "\n",
        "# Calculate precision, recall, F1-score, and accuracy\n",
        "precision = precision_score(y_test_labels, y_pred, average='weighted')\n",
        "recall = recall_score(y_test_labels, y_pred, average='weighted')\n",
        "f1 = f1_score(y_test_labels, y_pred, average='weighted')\n",
        "accuracy = accuracy_score(y_test_labels, y_pred)\n",
        "\n",
        "print(f\"Precision: {precision:.2f}\")\n",
        "print(f\"Recall: {recall:.2f}\")\n",
        "print(f\"F1 Score: {f1:.2f}\")\n",
        "print(f\"Accuracy: {accuracy:.2f}\")"
      ]
    },
    {
      "cell_type": "code",
      "execution_count": 77,
      "metadata": {
        "colab": {
          "base_uri": "https://localhost:8080/",
          "height": 513
        },
        "id": "xDKC13iBc3Bw",
        "outputId": "fb4ff52f-419b-4d2f-d781-446632aa796d"
      },
      "outputs": [
        {
          "data": {
            "image/png": "[encoded data removed]",
            "text/plain": [
              "<Figure size 1600x800 with 2 Axes>"
            ]
          },
          "metadata": {},
          "output_type": "display_data"
        }
      ],
      "source": [
        "# Learning curves \n",
        "\n",
        "acc = history.history['accuracy']\n",
        "val_acc = history.history['val_accuracy']\n",
        "loss=history.history['loss']\n",
        "val_loss=history.history['val_loss']\n",
        "\n",
        "plt.figure(figsize=(16,8))\n",
        "plt.subplot(1, 2, 1)\n",
        "plt.plot(acc, label='Training Accuracy')\n",
        "plt.plot(val_acc, label='Validation Accuracy')\n",
        "plt.legend(loc='lower right')\n",
        "plt.title('Training and Validation Accuracy')\n",
        "plt.xlabel(\"epochs\")\n",
        "plt.ylabel(\"accuracy\")\n",
        "\n",
        "plt.subplot(1, 2, 2)\n",
        "plt.plot(loss, label='Training Loss')\n",
        "plt.plot(val_loss, label='Validation Loss')\n",
        "plt.legend(loc='upper right')\n",
        "plt.title('Training and Validation Loss')\n",
        "plt.xlabel(\"epochs\")\n",
        "plt.ylabel(\"loss\")\n",
        "plt.show()"
      ]
    },
    {
      "cell_type": "markdown",
      "metadata": {
        "id": "YJ2romsAsshs"
      },
      "source": [
        "## BiLSTM\n"
      ]
    },
    {
      "cell_type": "code",
      "execution_count": 78,
      "metadata": {
        "id": "b02HsFGVs0WV"
      },
      "outputs": [],
      "source": [
        "def define_model5(vocab_size, max_length):\n",
        "    model5 = Sequential()\n",
        "    model5.add(Embedding(vocab_size,300, input_length=max_length))\n",
        "    model5.add(Bidirectional(LSTM(500)))\n",
        "    model5.add(Dense(10, activation='softmax'))\n",
        "    \n",
        "    model5.compile(loss = 'categorical_crossentropy',optimizer = 'adam',metrics = ['accuracy'])\n",
        "    \n",
        "    # summarize defined model\n",
        "    model5.summary()\n",
        "    return model5"
      ]
    },
    {
      "cell_type": "code",
      "execution_count": 79,
      "metadata": {
        "colab": {
          "base_uri": "https://localhost:8080/"
        },
        "id": "I4VV9MlFs1Va",
        "outputId": "2c1f7a8a-5f09-4d3c-aa1d-86adb03de019"
      },
      "outputs": [
        {
          "name": "stdout",
          "output_type": "stream",
          "text": [
            "Model: \"sequential_4\"\n",
            "_________________________________________________________________\n",
            " Layer (type)                Output Shape              Param #   \n",
            "=================================================================\n",
            " embedding_4 (Embedding)     (None, 10, 300)           19800     \n",
            "                                                                 \n",
            " bidirectional (Bidirection  (None, 1000)              3204000   \n",
            " al)                                                             \n",
            "                                                                 \n",
            " dense_5 (Dense)             (None, 10)                10010     \n",
            "                                                                 \n",
            "=================================================================\n",
            "Total params: 3233810 (12.34 MB)\n",
            "Trainable params: 3233810 (12.34 MB)\n",
            "Non-trainable params: 0 (0.00 Byte)\n",
            "_________________________________________________________________\n"
          ]
        }
      ],
      "source": [
        "model5 = define_model5(vocab_size, max_length)"
      ]
    },
    {
      "cell_type": "code",
      "execution_count": 80,
      "metadata": {},
      "outputs": [
        {
          "data": {
            "text/plain": [
              "(12, 10)"
            ]
          },
          "execution_count": 80,
          "metadata": {},
          "output_type": "execute_result"
        }
      ],
      "source": [
        "X_train.shape"
      ]
    },
    {
      "cell_type": "code",
      "execution_count": 81,
      "metadata": {},
      "outputs": [
        {
          "data": {
            "text/plain": [
              "(12, 10)"
            ]
          },
          "execution_count": 81,
          "metadata": {},
          "output_type": "execute_result"
        }
      ],
      "source": [
        "y_train.shape"
      ]
    },
    {
      "cell_type": "code",
      "execution_count": 82,
      "metadata": {
        "colab": {
          "base_uri": "https://localhost:8080/"
        },
        "id": "xfNlWQazs1Sa",
        "outputId": "34d4b707-9efd-4f6f-de1c-af46e0b2950a"
      },
      "outputs": [
        {
          "name": "stdout",
          "output_type": "stream",
          "text": [
            "Epoch 1/50\n"
          ]
        },
        {
          "name": "stdout",
          "output_type": "stream",
          "text": [
            "1/1 [==============================] - 3s 3s/step - loss: 2.3046 - accuracy: 0.0833 - val_loss: 2.2913 - val_accuracy: 0.0000e+00\n",
            "Epoch 2/50\n",
            "1/1 [==============================] - 0s 81ms/step - loss: 2.2359 - accuracy: 0.5000 - val_loss: 2.2813 - val_accuracy: 0.0000e+00\n",
            "Epoch 3/50\n",
            "1/1 [==============================] - 0s 84ms/step - loss: 2.1641 - accuracy: 0.5000 - val_loss: 2.2751 - val_accuracy: 0.0000e+00\n",
            "Epoch 4/50\n",
            "1/1 [==============================] - 0s 83ms/step - loss: 2.0803 - accuracy: 0.5000 - val_loss: 2.2814 - val_accuracy: 0.0000e+00\n",
            "Epoch 5/50\n",
            "1/1 [==============================] - 0s 82ms/step - loss: 1.9790 - accuracy: 0.5000 - val_loss: 2.3299 - val_accuracy: 0.0000e+00\n",
            "Epoch 6/50\n",
            "1/1 [==============================] - 0s 82ms/step - loss: 1.8683 - accuracy: 0.5000 - val_loss: 2.4621 - val_accuracy: 0.0000e+00\n",
            "Epoch 7/50\n",
            "1/1 [==============================] - 0s 82ms/step - loss: 1.7766 - accuracy: 0.5000 - val_loss: 2.5144 - val_accuracy: 0.0000e+00\n",
            "Epoch 8/50\n",
            "1/1 [==============================] - 0s 81ms/step - loss: 1.6492 - accuracy: 0.5000 - val_loss: 2.4626 - val_accuracy: 0.1000\n",
            "Epoch 9/50\n",
            "1/1 [==============================] - 0s 83ms/step - loss: 1.4707 - accuracy: 0.5833 - val_loss: 2.4154 - val_accuracy: 0.1000\n",
            "Epoch 10/50\n",
            "1/1 [==============================] - 0s 82ms/step - loss: 1.2930 - accuracy: 0.7500 - val_loss: 2.4281 - val_accuracy: 0.1000\n",
            "Epoch 11/50\n",
            "1/1 [==============================] - 0s 81ms/step - loss: 1.1272 - accuracy: 1.0000 - val_loss: 2.5071 - val_accuracy: 0.0000e+00\n",
            "Epoch 12/50\n",
            "1/1 [==============================] - 0s 82ms/step - loss: 0.9578 - accuracy: 1.0000 - val_loss: 2.7015 - val_accuracy: 0.0000e+00\n",
            "Epoch 13/50\n",
            "1/1 [==============================] - 0s 83ms/step - loss: 0.7836 - accuracy: 0.9167 - val_loss: 3.1552 - val_accuracy: 0.0000e+00\n",
            "Epoch 14/50\n",
            "1/1 [==============================] - 0s 82ms/step - loss: 0.6231 - accuracy: 0.9167 - val_loss: 3.7968 - val_accuracy: 0.0000e+00\n",
            "Epoch 15/50\n",
            "1/1 [==============================] - 0s 82ms/step - loss: 0.4983 - accuracy: 1.0000 - val_loss: 4.0876 - val_accuracy: 0.0000e+00\n",
            "Epoch 16/50\n",
            "1/1 [==============================] - 0s 86ms/step - loss: 0.3882 - accuracy: 1.0000 - val_loss: 4.2447 - val_accuracy: 0.0000e+00\n",
            "Epoch 17/50\n",
            "1/1 [==============================] - 0s 82ms/step - loss: 0.2559 - accuracy: 1.0000 - val_loss: 4.5472 - val_accuracy: 0.0000e+00\n",
            "Epoch 18/50\n",
            "1/1 [==============================] - 0s 83ms/step - loss: 0.1657 - accuracy: 1.0000 - val_loss: 4.9166 - val_accuracy: 0.0000e+00\n",
            "Epoch 19/50\n",
            "1/1 [==============================] - 0s 83ms/step - loss: 0.1025 - accuracy: 1.0000 - val_loss: 5.1022 - val_accuracy: 0.0000e+00\n",
            "Epoch 20/50\n",
            "1/1 [==============================] - 0s 87ms/step - loss: 0.0587 - accuracy: 1.0000 - val_loss: 5.1788 - val_accuracy: 0.0000e+00\n",
            "Epoch 21/50\n",
            "1/1 [==============================] - 0s 87ms/step - loss: 0.0324 - accuracy: 1.0000 - val_loss: 5.2491 - val_accuracy: 0.1000\n",
            "Epoch 22/50\n",
            "1/1 [==============================] - 0s 88ms/step - loss: 0.0180 - accuracy: 1.0000 - val_loss: 5.3572 - val_accuracy: 0.1000\n",
            "Epoch 23/50\n",
            "1/1 [==============================] - 0s 83ms/step - loss: 0.0104 - accuracy: 1.0000 - val_loss: 5.5149 - val_accuracy: 0.1000\n",
            "Epoch 24/50\n",
            "1/1 [==============================] - 0s 84ms/step - loss: 0.0066 - accuracy: 1.0000 - val_loss: 5.7127 - val_accuracy: 0.0000e+00\n",
            "Epoch 25/50\n",
            "1/1 [==============================] - 0s 89ms/step - loss: 0.0046 - accuracy: 1.0000 - val_loss: 5.9194 - val_accuracy: 0.0000e+00\n",
            "Epoch 26/50\n",
            "1/1 [==============================] - 0s 81ms/step - loss: 0.0035 - accuracy: 1.0000 - val_loss: 6.1046 - val_accuracy: 0.0000e+00\n",
            "Epoch 27/50\n",
            "1/1 [==============================] - 0s 81ms/step - loss: 0.0028 - accuracy: 1.0000 - val_loss: 6.2560 - val_accuracy: 0.0000e+00\n",
            "Epoch 28/50\n",
            "1/1 [==============================] - 0s 86ms/step - loss: 0.0023 - accuracy: 1.0000 - val_loss: 6.3770 - val_accuracy: 0.0000e+00\n",
            "Epoch 29/50\n",
            "1/1 [==============================] - 0s 83ms/step - loss: 0.0018 - accuracy: 1.0000 - val_loss: 6.4776 - val_accuracy: 0.0000e+00\n",
            "Epoch 30/50\n",
            "1/1 [==============================] - 0s 82ms/step - loss: 0.0015 - accuracy: 1.0000 - val_loss: 6.5673 - val_accuracy: 0.1000\n",
            "Epoch 31/50\n",
            "1/1 [==============================] - 0s 82ms/step - loss: 0.0012 - accuracy: 1.0000 - val_loss: 6.6512 - val_accuracy: 0.1000\n",
            "Epoch 32/50\n",
            "1/1 [==============================] - 0s 84ms/step - loss: 9.3700e-04 - accuracy: 1.0000 - val_loss: 6.7301 - val_accuracy: 0.1000\n",
            "Epoch 33/50\n",
            "1/1 [==============================] - 0s 90ms/step - loss: 7.6631e-04 - accuracy: 1.0000 - val_loss: 6.8031 - val_accuracy: 0.1000\n",
            "Epoch 34/50\n",
            "1/1 [==============================] - 0s 90ms/step - loss: 6.3800e-04 - accuracy: 1.0000 - val_loss: 6.8694 - val_accuracy: 0.1000\n",
            "Epoch 35/50\n",
            "1/1 [==============================] - 0s 83ms/step - loss: 5.4139e-04 - accuracy: 1.0000 - val_loss: 6.9292 - val_accuracy: 0.1000\n",
            "Epoch 36/50\n",
            "1/1 [==============================] - 0s 83ms/step - loss: 4.6821e-04 - accuracy: 1.0000 - val_loss: 6.9827 - val_accuracy: 0.1000\n",
            "Epoch 37/50\n",
            "1/1 [==============================] - 0s 83ms/step - loss: 4.1223e-04 - accuracy: 1.0000 - val_loss: 7.0308 - val_accuracy: 0.1000\n",
            "Epoch 38/50\n",
            "1/1 [==============================] - 0s 88ms/step - loss: 3.6885e-04 - accuracy: 1.0000 - val_loss: 7.0740 - val_accuracy: 0.1000\n",
            "Epoch 39/50\n",
            "1/1 [==============================] - 0s 85ms/step - loss: 3.3468e-04 - accuracy: 1.0000 - val_loss: 7.1132 - val_accuracy: 0.1000\n",
            "Epoch 40/50\n",
            "1/1 [==============================] - 0s 90ms/step - loss: 3.0719e-04 - accuracy: 1.0000 - val_loss: 7.1490 - val_accuracy: 0.1000\n",
            "Epoch 41/50\n",
            "1/1 [==============================] - 0s 86ms/step - loss: 2.8441e-04 - accuracy: 1.0000 - val_loss: 7.1819 - val_accuracy: 0.1000\n",
            "Epoch 42/50\n",
            "1/1 [==============================] - 0s 87ms/step - loss: 2.6497e-04 - accuracy: 1.0000 - val_loss: 7.2123 - val_accuracy: 0.1000\n",
            "Epoch 43/50\n",
            "1/1 [==============================] - 0s 86ms/step - loss: 2.4775e-04 - accuracy: 1.0000 - val_loss: 7.2407 - val_accuracy: 0.1000\n",
            "Epoch 44/50\n",
            "1/1 [==============================] - 0s 85ms/step - loss: 2.3204e-04 - accuracy: 1.0000 - val_loss: 7.2672 - val_accuracy: 0.1000\n",
            "Epoch 45/50\n",
            "1/1 [==============================] - 0s 93ms/step - loss: 2.1752e-04 - accuracy: 1.0000 - val_loss: 7.2920 - val_accuracy: 0.1000\n",
            "Epoch 46/50\n",
            "1/1 [==============================] - 0s 83ms/step - loss: 2.0396e-04 - accuracy: 1.0000 - val_loss: 7.3154 - val_accuracy: 0.1000\n",
            "Epoch 47/50\n",
            "1/1 [==============================] - 0s 83ms/step - loss: 1.9140e-04 - accuracy: 1.0000 - val_loss: 7.3373 - val_accuracy: 0.1000\n",
            "Epoch 48/50\n",
            "1/1 [==============================] - 0s 83ms/step - loss: 1.7973e-04 - accuracy: 1.0000 - val_loss: 7.3579 - val_accuracy: 0.1000\n",
            "Epoch 49/50\n",
            "1/1 [==============================] - 0s 82ms/step - loss: 1.6890e-04 - accuracy: 1.0000 - val_loss: 7.3772 - val_accuracy: 0.1000\n",
            "Epoch 50/50\n",
            "1/1 [==============================] - 0s 93ms/step - loss: 1.5888e-04 - accuracy: 1.0000 - val_loss: 7.3954 - val_accuracy: 0.1000\n",
            "WARNING:tensorflow:5 out of the last 5 calls to <function Model.make_predict_function.<locals>.predict_function at 0x000001C1E819D760> triggered tf.function retracing. Tracing is expensive and the excessive number of tracings could be due to (1) creating @tf.function repeatedly in a loop, (2) passing tensors with different shapes, (3) passing Python objects instead of tensors. For (1), please define your @tf.function outside of the loop. For (2), @tf.function has reduce_retracing=True option that can avoid unnecessary retracing. For (3), please refer to https://www.tensorflow.org/guide/function#controlling_retracing and https://www.tensorflow.org/api_docs/python/tf/function for  more details.\n",
            "1/1 [==============================] - 0s 495ms/step\n",
            "Precision: 0.10\n",
            "Recall: 0.10\n",
            "F1 Score: 0.10\n",
            "Accuracy: 0.10\n"
          ]
        },
        {
          "name": "stderr",
          "output_type": "stream",
          "text": [
            "c:\\Users\\user\\AppData\\Local\\Programs\\Python\\Python311\\Lib\\site-packages\\sklearn\\metrics\\_classification.py:1344: UndefinedMetricWarning: Precision is ill-defined and being set to 0.0 in labels with no predicted samples. Use `zero_division` parameter to control this behavior.\n",
            "  _warn_prf(average, modifier, msg_start, len(result))\n"
          ]
        }
      ],
      "source": [
        "history = model5.fit(X_train, y_train, epochs=50, verbose=1,validation_data=(X_test,y_test))\n",
        "\n",
        "from sklearn.metrics import precision_score, recall_score, f1_score, accuracy_score\n",
        "\n",
        "# Assuming model1.predict returns the predicted labels\n",
        "y_pred = np.argmax(model5.predict(X_test), axis=1)\n",
        "\n",
        "# Assuming y_test contains the actual labels\n",
        "y_test_labels = np.argmax(y_test, axis=1)\n",
        "\n",
        "# Calculate precision, recall, F1-score, and accuracy\n",
        "precision = precision_score(y_test_labels, y_pred, average='weighted')\n",
        "recall = recall_score(y_test_labels, y_pred, average='weighted')\n",
        "f1 = f1_score(y_test_labels, y_pred, average='weighted')\n",
        "accuracy = accuracy_score(y_test_labels, y_pred)\n",
        "\n",
        "print(f\"Precision: {precision:.2f}\")\n",
        "print(f\"Recall: {recall:.2f}\")\n",
        "print(f\"F1 Score: {f1:.2f}\")\n",
        "print(f\"Accuracy: {accuracy:.2f}\")"
      ]
    },
    {
      "cell_type": "code",
      "execution_count": 83,
      "metadata": {
        "colab": {
          "base_uri": "https://localhost:8080/",
          "height": 513
        },
        "id": "_XGvXqCfs1Qf",
        "outputId": "45e3d1d9-1171-4f92-9a6e-53c29ff8583e"
      },
      "outputs": [
        {
          "data": {
            "image/png": "[encoded data removed]",
            "text/plain": [
              "<Figure size 1600x800 with 2 Axes>"
            ]
          },
          "metadata": {},
          "output_type": "display_data"
        }
      ],
      "source": [
        "# Learning curves \n",
        "\n",
        "acc = history.history['accuracy']\n",
        "val_acc = history.history['val_accuracy']\n",
        "loss=history.history['loss']\n",
        "val_loss=history.history['val_loss']\n",
        "\n",
        "plt.figure(figsize=(16,8))\n",
        "plt.subplot(1, 2, 1)\n",
        "plt.plot(acc, label='Training Accuracy')\n",
        "plt.plot(val_acc, label='Validation Accuracy')\n",
        "plt.legend(loc='lower right')\n",
        "plt.title('Training and Validation Accuracy')\n",
        "plt.xlabel(\"epochs\")\n",
        "plt.ylabel(\"accuracy\")\n",
        "\n",
        "plt.subplot(1, 2, 2)\n",
        "plt.plot(loss, label='Training Loss')\n",
        "plt.plot(val_loss, label='Validation Loss')\n",
        "plt.legend(loc='upper right')\n",
        "plt.title('Training and Validation Loss')\n",
        "plt.xlabel(\"epochs\")\n",
        "plt.ylabel(\"loss\")\n",
        "plt.show()"
      ]
    },
    {
      "cell_type": "markdown",
      "metadata": {
        "id": "xL1vugJNLy5x"
      },
      "source": [
        "## Predictions"
      ]
    },
    {
      "cell_type": "code",
      "execution_count": 84,
      "metadata": {
        "id": "SnWEw7d5TcOv"
      },
      "outputs": [],
      "source": [
        "tf.get_logger().setLevel('ERROR')"
      ]
    },
    {
      "cell_type": "code",
      "execution_count": 85,
      "metadata": {
        "id": "rnB6-nG6SelW"
      },
      "outputs": [],
      "source": [
        "def get_text(str_text):\n",
        "    # print(str_text)\n",
        "    input_text  = [str_text]\n",
        "    df_input = pd.DataFrame(input_text,columns=['questions'])\n",
        "    df_input\n",
        "    return df_input"
      ]
    },
    {
      "cell_type": "code",
      "execution_count": 86,
      "metadata": {
        "id": "1101EozZSefs"
      },
      "outputs": [],
      "source": [
        "model = model2 = model3 = model4 = model5\n",
        "tokenizer_t = joblib.load(path_to_dumps+'tokenizer_t.pkl')\n",
        "vocab = joblib.load(path_to_dumps+'vocab.pkl')"
      ]
    },
    {
      "cell_type": "code",
      "execution_count": 87,
      "metadata": {
        "id": "c51lst4wSedH"
      },
      "outputs": [],
      "source": [
        "def tokenizer(entry):\n",
        "    tokens = entry.split()\n",
        "    re_punc = re.compile('[%s]' % re.escape(string.punctuation))\n",
        "    tokens = [re_punc.sub('', w) for w in tokens]\n",
        "    tokens = [word for word in tokens if word.isalpha()]\n",
        "    tokens = [lemmatizer.lemmatize(w.lower()) for w in tokens]\n",
        "    # stop_words = set(stopwords.words('english'))\n",
        "    # tokens = [w for w in tokens if not w in stop_words]\n",
        "    tokens = [word.lower() for word in tokens if len(word) > 1]\n",
        "    return tokens"
      ]
    },
    {
      "cell_type": "code",
      "execution_count": 88,
      "metadata": {
        "id": "FK79K154Sp4y"
      },
      "outputs": [],
      "source": [
        "def remove_stop_words_for_input(tokenizer,df,feature):\n",
        "    doc_without_stopwords = []\n",
        "    entry = df[feature][0]\n",
        "    tokens = tokenizer(entry)\n",
        "    doc_without_stopwords.append(' '.join(tokens))\n",
        "    df[feature] = doc_without_stopwords\n",
        "    return df"
      ]
    },
    {
      "cell_type": "code",
      "execution_count": 89,
      "metadata": {
        "id": "afJXXfckSp1u"
      },
      "outputs": [],
      "source": [
        "def encode_input_text(tokenizer_t,df,feature):\n",
        "    t = tokenizer_t\n",
        "    entry = entry = [df[feature][0]]\n",
        "    encoded = t.texts_to_sequences(entry)\n",
        "    padded = pad_sequences(encoded, maxlen=10, padding='post')\n",
        "    return padded"
      ]
    },
    {
      "cell_type": "code",
      "execution_count": 90,
      "metadata": {
        "id": "aVfxwXqFSpzc"
      },
      "outputs": [],
      "source": [
        "def get_pred(model,encoded_input):\n",
        "    pred = np.argmax(model.predict(encoded_input))\n",
        "    return pred"
      ]
    },
    {
      "cell_type": "code",
      "execution_count": 91,
      "metadata": {
        "id": "hoq7PSF6Sea4"
      },
      "outputs": [],
      "source": [
        "def bot_precausion(df_input,pred):\n",
        "    words = df_input.questions[0].split()\n",
        "    if len([w for w in words if w in vocab])==0 :\n",
        "        pred = 1\n",
        "    return pred"
      ]
    },
    {
      "cell_type": "code",
      "execution_count": 92,
      "metadata": {
        "id": "TVP1uNDjS1D2"
      },
      "outputs": [],
      "source": [
        "def get_response(df2,pred):\n",
        "    upper_bound = df2.groupby('labels').get_group(pred).shape[0]\n",
        "    r = np.random.randint(0,upper_bound)\n",
        "    responses = list(df2.groupby('labels').get_group(pred).response)\n",
        "    return responses[r]"
      ]
    },
    {
      "cell_type": "code",
      "execution_count": 93,
      "metadata": {
        "id": "AeKrDXvxS1A9"
      },
      "outputs": [],
      "source": [
        "def bot_response(response,):\n",
        "    print(response)"
      ]
    },
    {
      "cell_type": "code",
      "execution_count": 94,
      "metadata": {
        "colab": {
          "base_uri": "https://localhost:8080/"
        },
        "id": "7hLqCtf2Su8W",
        "outputId": "45fce787-be44-4006-96b2-0d3a1e2bc785"
      },
      "outputs": [
        {
          "name": "stdout",
          "output_type": "stream",
          "text": [
            "1/1 [==============================] - 0s 18ms/step\n",
            "1/1 [==============================] - 0s 22ms/step\n",
            "1/1 [==============================] - 0s 20ms/step\n",
            "1/1 [==============================] - 0s 21ms/step\n",
            "1/1 [==============================] - 0s 29ms/step\n"
          ]
        },
        {
          "name": "stdout",
          "output_type": "stream",
          "text": [
            "1/1 [==============================] - 0s 18ms/step\n",
            "Model1: It is estimated that mental illness affects 1 in 5 adults in America, and that 1 in 24 adults have a serious mental illness.\n",
            "1/1 [==============================] - 0s 20ms/step\n",
            "Model2: Just as there are different types of medications for physical illness, different treatment options are available for individuals with mental illness. Treatment works differently for different people. It is important to find what works best for you or your child.\n",
            "1/1 [==============================] - 0s 19ms/step\n",
            "Model3: Just as there are different types of medications for physical illness, different treatment options are available for individuals with mental illness. Treatment works differently for different people. It is important to find what works best for you or your child.\n",
            "1/1 [==============================] - 0s 19ms/step\n",
            "Model4: Just as there are different types of medications for physical illness, different treatment options are available for individuals with mental illness. Treatment works differently for different people. It is important to find what works best for you or your child.\n",
            "1/1 [==============================] - 0s 19ms/step\n",
            "Model5: Just as there are different types of medications for physical illness, different treatment options are available for individuals with mental illness. Treatment works differently for different people. It is important to find what works best for you or your child.\n",
            "1/1 [==============================] - 0s 17ms/step\n",
            "1/1 [==============================] - 0s 19ms/step\n",
            "1/1 [==============================] - 0s 18ms/step\n",
            "1/1 [==============================] - 0s 19ms/step\n",
            "1/1 [==============================] - 0s 19ms/step\n",
            "Final Response: Just as there are different types of medications for physical illness, different treatment options are available for individuals with mental illness. Treatment works differently for different people. It is important to find what works best for you or your child.\n"
          ]
        }
      ],
      "source": [
        "from collections import Counter\n",
        "\n",
        "\n",
        "input_text = \"Can people recover from mental illness?\"\n",
        "\n",
        "# Create a new DataFrame with the new input\n",
        "df_input = get_text(input_text)\n",
        "\n",
        "#load artifacts \n",
        "tokenizer_t = joblib.load(r'C:\\Users\\user\\OneDrive\\Desktop\\University\\Sem_5\\SKIH3013 PATTERN REGOGNITION\\mentalhealth - Copy\\Dumps\\tokenizer_t.pkl')\n",
        "vocab = joblib.load(r'C:\\Users\\user\\OneDrive\\Desktop\\University\\Sem_5\\SKIH3013 PATTERN REGOGNITION\\mentalhealth - Copy\\Dumps\\vocab.pkl')\n",
        "\n",
        "\n",
        "df_input = remove_stop_words_for_input(tokenizer,df_input,'questions')\n",
        "encoded_input = encode_input_text(tokenizer_t,df_input,'questions')\n",
        "\n",
        "pred1 = get_pred(model1,encoded_input)\n",
        "pred2 = get_pred(model2,encoded_input)\n",
        "pred3 = get_pred(model3,encoded_input)\n",
        "pred4 = get_pred(model4,encoded_input)\n",
        "pred5 = get_pred(model5,encoded_input)\n",
        "\n",
        "pred1 = bot_precausion(df_input,pred1)\n",
        "pred2 = bot_precausion(df_input,pred2)\n",
        "pred3 = bot_precausion(df_input,pred3)\n",
        "pred4 = bot_precausion(df_input,pred4)\n",
        "pred5 = bot_precausion(df_input,pred5)\n",
        "\n",
        "response1 = get_response(df2,pred1)\n",
        "response2 = get_response(df2,pred2)\n",
        "response3 = get_response(df2,pred3)\n",
        "response4 = get_response(df2,pred4)\n",
        "response5 = get_response(df2,pred5)\n",
        "\n",
        "models = [model1, model2, model3, model4, model5]\n",
        "\n",
        "# Display the input and responses\n",
        "for i, model in enumerate(models, start=1):\n",
        "    model_pred = get_pred(model, encoded_input)\n",
        "    model_pred = bot_precausion(df_input, model_pred)\n",
        "    model_response = get_response(df2, model_pred)\n",
        "    bot_response(f\"Model{i}: {model_response}\")\n",
        "\n",
        "# Get predictions from all models for the new input\n",
        "all_predictions = [get_pred(model, encoded_input) for model in models]\n",
        "\n",
        "# Use Counter to find the most common prediction\n",
        "final_prediction = Counter(all_predictions).most_common(1)[0][0]\n",
        "\n",
        "# Get response based on the final prediction\n",
        "final_response = get_response(df2, final_prediction)\n",
        "\n",
        "# Display the final response\n",
        "bot_response(\"Final Response: \" + final_response)"
      ]
    },
    {
      "cell_type": "code",
      "execution_count": 95,
      "metadata": {},
      "outputs": [
        {
          "name": "stdout",
          "output_type": "stream",
          "text": [
            "1/1 [==============================] - 0s 22ms/step\n",
            "1/1 [==============================] - 0s 19ms/step\n",
            "1/1 [==============================] - 0s 18ms/step\n",
            "1/1 [==============================] - 0s 18ms/step\n",
            "1/1 [==============================] - 0s 19ms/step\n",
            "1/1 [==============================] - 0s 17ms/step\n",
            "Model1: Feeling comfortable with the professional you or your child is working with is critical to the success of your treatment. Finding the professional who best fits your needs may require some research.\n",
            "1/1 [==============================] - 0s 19ms/step\n",
            "Model2: Just as there are different types of medications for physical illness, different treatment options are available for individuals with mental illness. Treatment works differently for different people. It is important to find what works best for you or your child.\n",
            "1/1 [==============================] - 0s 20ms/step\n",
            "Model3: Just as there are different types of medications for physical illness, different treatment options are available for individuals with mental illness. Treatment works differently for different people. It is important to find what works best for you or your child.\n",
            "1/1 [==============================] - 0s 19ms/step\n",
            "Model4: Just as there are different types of medications for physical illness, different treatment options are available for individuals with mental illness. Treatment works differently for different people. It is important to find what works best for you or your child.\n",
            "1/1 [==============================] - 0s 21ms/step\n",
            "Model5: Just as there are different types of medications for physical illness, different treatment options are available for individuals with mental illness. Treatment works differently for different people. It is important to find what works best for you or your child.\n",
            "1/1 [==============================] - 0s 17ms/step\n",
            "1/1 [==============================] - 0s 20ms/step\n",
            "1/1 [==============================] - 0s 19ms/step\n",
            "1/1 [==============================] - 0s 18ms/step\n",
            "1/1 [==============================] - 0s 19ms/step\n",
            "Final Response: Just as there are different types of medications for physical illness, different treatment options are available for individuals with mental illness. Treatment works differently for different people. It is important to find what works best for you or your child.\n"
          ]
        }
      ],
      "source": [
        "from collections import Counter\n",
        "\n",
        "\n",
        "input_text = \"How can someone find a mental health professional for themselves?\"\n",
        "\n",
        "# Create a new DataFrame with the new input\n",
        "df_input = get_text(input_text)\n",
        "\n",
        "#load artifacts \n",
        "tokenizer_t = joblib.load(r'C:\\Users\\user\\OneDrive\\Desktop\\University\\Sem_5\\SKIH3013 PATTERN REGOGNITION\\mentalhealth - Copy\\Dumps\\tokenizer_t.pkl')\n",
        "vocab = joblib.load(r'C:\\Users\\user\\OneDrive\\Desktop\\University\\Sem_5\\SKIH3013 PATTERN REGOGNITION\\mentalhealth - Copy\\Dumps\\vocab.pkl')\n",
        "\n",
        "\n",
        "df_input = remove_stop_words_for_input(tokenizer,df_input,'questions')\n",
        "encoded_input = encode_input_text(tokenizer_t,df_input,'questions')\n",
        "\n",
        "pred1 = get_pred(model1,encoded_input)\n",
        "pred2 = get_pred(model2,encoded_input)\n",
        "pred3 = get_pred(model3,encoded_input)\n",
        "pred4 = get_pred(model4,encoded_input)\n",
        "pred5 = get_pred(model5,encoded_input)\n",
        "\n",
        "pred1 = bot_precausion(df_input,pred1)\n",
        "pred2 = bot_precausion(df_input,pred2)\n",
        "pred3 = bot_precausion(df_input,pred3)\n",
        "pred4 = bot_precausion(df_input,pred4)\n",
        "pred5 = bot_precausion(df_input,pred5)\n",
        "\n",
        "response1 = get_response(df2,pred1)\n",
        "response2 = get_response(df2,pred2)\n",
        "response3 = get_response(df2,pred3)\n",
        "response4 = get_response(df2,pred4)\n",
        "response5 = get_response(df2,pred5)\n",
        "\n",
        "models = [model1, model2, model3, model4, model5]\n",
        "\n",
        "# Display the input and responses\n",
        "for i, model in enumerate(models, start=1):\n",
        "    model_pred = get_pred(model, encoded_input)\n",
        "    model_pred = bot_precausion(df_input, model_pred)\n",
        "    model_response = get_response(df2, model_pred)\n",
        "    bot_response(f\"Model{i}: {model_response}\")\n",
        "\n",
        "# Get predictions from all models for the new input\n",
        "all_predictions = [get_pred(model, encoded_input) for model in models]\n",
        "\n",
        "# Use Counter to find the most common prediction\n",
        "final_prediction = Counter(all_predictions).most_common(1)[0][0]\n",
        "\n",
        "# Get response based on the final prediction\n",
        "final_response = get_response(df2, final_prediction)\n",
        "\n",
        "# Display the final response\n",
        "bot_response(\"Final Response: \" + final_response)"
      ]
    },
    {
      "cell_type": "code",
      "execution_count": 96,
      "metadata": {},
      "outputs": [
        {
          "name": "stdout",
          "output_type": "stream",
          "text": [
            "1/1 [==============================] - 0s 18ms/step\n",
            "1/1 [==============================] - 0s 19ms/step\n",
            "1/1 [==============================] - 0s 18ms/step\n",
            "1/1 [==============================] - 0s 20ms/step\n",
            "1/1 [==============================] - 0s 19ms/step\n",
            "1/1 [==============================] - 0s 17ms/step\n",
            "Model1: Feeling comfortable with the professional you or your child is working with is critical to the success of the treatment. Finding the professional who best fits your needs may require research. Start by searching for providers in your area.\n",
            "1/1 [==============================] - 0s 19ms/step\n",
            "Model2: Mental illnesses are health conditions that disrupt a person's thoughts, emotions, relationships, and daily functioning.\n",
            "1/1 [==============================] - 0s 19ms/step\n",
            "Model3: Mental illnesses are health conditions that disrupt a person's thoughts, emotions, relationships, and daily functioning.\n",
            "1/1 [==============================] - 0s 19ms/step\n",
            "Model4: Mental illnesses are health conditions that disrupt a person's thoughts, emotions, relationships, and daily functioning.\n",
            "1/1 [==============================] - 0s 19ms/step\n",
            "Model5: Mental illnesses are health conditions that disrupt a person's thoughts, emotions, relationships, and daily functioning.\n",
            "1/1 [==============================] - 0s 18ms/step\n",
            "1/1 [==============================] - 0s 19ms/step\n",
            "1/1 [==============================] - 0s 18ms/step\n",
            "1/1 [==============================] - 0s 19ms/step\n",
            "1/1 [==============================] - 0s 19ms/step\n",
            "Final Response: Mental illnesses are health conditions that disrupt a person's thoughts, emotions, relationships, and daily functioning.\n"
          ]
        }
      ],
      "source": [
        "from collections import Counter\n",
        "\n",
        "\n",
        "input_text = \"Can you describe common symptoms of specific mental health disorders?\"\n",
        "\n",
        "# Create a new DataFrame with the new input\n",
        "df_input = get_text(input_text)\n",
        "\n",
        "#load artifacts \n",
        "tokenizer_t = joblib.load(r'C:\\Users\\user\\OneDrive\\Desktop\\University\\Sem_5\\SKIH3013 PATTERN REGOGNITION\\mentalhealth - Copy\\Dumps\\tokenizer_t.pkl')\n",
        "vocab = joblib.load(r'C:\\Users\\user\\OneDrive\\Desktop\\University\\Sem_5\\SKIH3013 PATTERN REGOGNITION\\mentalhealth - Copy\\Dumps\\vocab.pkl')\n",
        "\n",
        "\n",
        "df_input = remove_stop_words_for_input(tokenizer,df_input,'questions')\n",
        "encoded_input = encode_input_text(tokenizer_t,df_input,'questions')\n",
        "\n",
        "pred1 = get_pred(model1,encoded_input)\n",
        "pred2 = get_pred(model2,encoded_input)\n",
        "pred3 = get_pred(model3,encoded_input)\n",
        "pred4 = get_pred(model4,encoded_input)\n",
        "pred5 = get_pred(model5,encoded_input)\n",
        "\n",
        "pred1 = bot_precausion(df_input,pred1)\n",
        "pred2 = bot_precausion(df_input,pred2)\n",
        "pred3 = bot_precausion(df_input,pred3)\n",
        "pred4 = bot_precausion(df_input,pred4)\n",
        "pred5 = bot_precausion(df_input,pred5)\n",
        "\n",
        "response1 = get_response(df2,pred1)\n",
        "response2 = get_response(df2,pred2)\n",
        "response3 = get_response(df2,pred3)\n",
        "response4 = get_response(df2,pred4)\n",
        "response5 = get_response(df2,pred5)\n",
        "\n",
        "models = [model1, model2, model3, model4, model5]\n",
        "\n",
        "# Display the input and responses\n",
        "for i, model in enumerate(models, start=1):\n",
        "    model_pred = get_pred(model, encoded_input)\n",
        "    model_pred = bot_precausion(df_input, model_pred)\n",
        "    model_response = get_response(df2, model_pred)\n",
        "    bot_response(f\"Model{i}: {model_response}\")\n",
        "\n",
        "# Get predictions from all models for the new input\n",
        "all_predictions = [get_pred(model, encoded_input) for model in models]\n",
        "\n",
        "# Use Counter to find the most common prediction\n",
        "final_prediction = Counter(all_predictions).most_common(1)[0][0]\n",
        "\n",
        "# Get response based on the final prediction\n",
        "final_response = get_response(df2, final_prediction)\n",
        "\n",
        "# Display the final response\n",
        "bot_response(\"Final Response: \" + final_response)"
      ]
    },
    {
      "cell_type": "code",
      "execution_count": 97,
      "metadata": {},
      "outputs": [
        {
          "name": "stderr",
          "output_type": "stream",
          "text": [
            "c:\\Users\\user\\AppData\\Local\\Programs\\Python\\Python311\\Lib\\site-packages\\keras\\src\\engine\\training.py:3103: UserWarning: You are saving your model as an HDF5 file via `model.save()`. This file format is considered legacy. We recommend using instead the native Keras format, e.g. `model.save('my_model.keras')`.\n",
            "  saving_api.save_model(\n"
          ]
        }
      ],
      "source": [
        "# Save Model Weights\n",
        "model1.save('model1_weights.h5')\n",
        "model2.save('model2_weights.h5')\n",
        "model3.save('model3_weights.h5')\n",
        "model4.save('model4_weights.h5')\n",
        "model5.save('model5_weights.h5')\n",
        "# Save Label Encoder Mapping\n",
        "joblib.dump(mapper, 'label_encoder_mapping.pkl')\n",
        "\n",
        "# Save Training Data Indices\n",
        "joblib.dump(train_index, 'train_index.pkl')\n",
        "joblib.dump(test_index, 'test_index.pkl')\n",
        "\n",
        "# Save Training History\n",
        "with open('history1.pkl', 'wb') as f:\n",
        "    pickle.dump(history1.history, f)\n",
        "\n",
        "from sklearn.feature_extraction.text import CountVectorizer, TfidfVectorizer\n",
        "\n",
        "# Assuming X_train and X_test are your tokenized and padded text data\n",
        "cv = CountVectorizer()\n",
        "df_bow = pd.DataFrame(cv.fit_transform(X_train.astype(str).apply(' '.join)).toarray(), columns=cv.get_feature_names_out())\n",
        "\n",
        "tfidf = TfidfVectorizer()\n",
        "df_tfidf = pd.DataFrame(tfidf.fit_transform(X_train.astype(str).apply(' '.join)).toarray(), columns=tfidf.get_feature_names_out())\n",
        "\n",
        "\n",
        "\n",
        "\n",
        "# Save Artifacts for Retrieval\n",
        "joblib.dump(cv, 'count_vectorizer_retrievalbased.pkl')\n",
        "joblib.dump(tfidf, 'tfidf_vectorizer_retrievalbased.pkl')\n",
        "df_bow.to_csv('df_bow_retrievalbased.csv', index=False)\n",
        "df_tfidf.to_csv('df_tfidf_retrievalbased.csv', index=False)"
      ]
    },
    {
      "cell_type": "code",
      "execution_count": 98,
      "metadata": {},
      "outputs": [
        {
          "name": "stdout",
          "output_type": "stream",
          "text": [
            "1/1 [==============================] - 0s 109ms/step\n",
            "Confusion Matrix - Model 1:\n",
            "[[0 1 0 0 0 0 0 0 0 0]\n",
            " [0 0 0 0 0 0 1 0 0 0]\n",
            " [0 0 1 0 0 0 0 0 0 0]\n",
            " [0 0 0 0 0 0 1 0 0 0]\n",
            " [0 1 0 0 0 0 0 0 0 0]\n",
            " [0 0 0 0 0 1 0 0 0 0]\n",
            " [0 0 0 0 0 0 1 0 0 0]\n",
            " [0 1 0 0 0 0 0 0 0 0]\n",
            " [0 0 1 0 0 0 0 0 0 0]\n",
            " [0 1 0 0 0 0 0 0 0 0]]\n",
            "Classification Report - Model 1:\n",
            "              precision    recall  f1-score   support\n",
            "\n",
            "           0       0.00      0.00      0.00         1\n",
            "           1       0.00      0.00      0.00         1\n",
            "           2       0.50      1.00      0.67         1\n",
            "           3       0.00      0.00      0.00         1\n",
            "           4       0.00      0.00      0.00         1\n",
            "           5       1.00      1.00      1.00         1\n",
            "           6       0.33      1.00      0.50         1\n",
            "           7       0.00      0.00      0.00         1\n",
            "           8       0.00      0.00      0.00         1\n",
            "           9       0.00      0.00      0.00         1\n",
            "\n",
            "    accuracy                           0.30        10\n",
            "   macro avg       0.18      0.30      0.22        10\n",
            "weighted avg       0.18      0.30      0.22        10\n",
            "\n"
          ]
        },
        {
          "name": "stderr",
          "output_type": "stream",
          "text": [
            "c:\\Users\\user\\AppData\\Local\\Programs\\Python\\Python311\\Lib\\site-packages\\sklearn\\metrics\\_classification.py:1344: UndefinedMetricWarning: Precision and F-score are ill-defined and being set to 0.0 in labels with no predicted samples. Use `zero_division` parameter to control this behavior.\n",
            "  _warn_prf(average, modifier, msg_start, len(result))\n",
            "c:\\Users\\user\\AppData\\Local\\Programs\\Python\\Python311\\Lib\\site-packages\\sklearn\\metrics\\_classification.py:1344: UndefinedMetricWarning: Precision and F-score are ill-defined and being set to 0.0 in labels with no predicted samples. Use `zero_division` parameter to control this behavior.\n",
            "  _warn_prf(average, modifier, msg_start, len(result))\n",
            "c:\\Users\\user\\AppData\\Local\\Programs\\Python\\Python311\\Lib\\site-packages\\sklearn\\metrics\\_classification.py:1344: UndefinedMetricWarning: Precision and F-score are ill-defined and being set to 0.0 in labels with no predicted samples. Use `zero_division` parameter to control this behavior.\n",
            "  _warn_prf(average, modifier, msg_start, len(result))\n"
          ]
        }
      ],
      "source": [
        "from sklearn.metrics import confusion_matrix, classification_report\n",
        "\n",
        "# Load the saved model\n",
        "model1 = load_model('model1_weights.h5')\n",
        "\n",
        "# Make predictions on the test set\n",
        "y_pred_model1 = model1.predict(X_test)\n",
        "\n",
        "# Convert predictions to labels\n",
        "y_pred_labels_model1 = np.argmax(y_pred_model1, axis=1)\n",
        "\n",
        "# Convert one-hot encoded true labels to labels\n",
        "y_true_labels = np.argmax(y_test, axis=1)\n",
        "\n",
        "# Calculate confusion matrix\n",
        "conf_matrix_model1 = confusion_matrix(y_true_labels, y_pred_labels_model1)\n",
        "\n",
        "# Display confusion matrix\n",
        "print(\"Confusion Matrix - Model 1:\")\n",
        "print(conf_matrix_model1)\n",
        "\n",
        "# Display classification report\n",
        "print(\"Classification Report - Model 1:\")\n",
        "print(classification_report(y_true_labels, y_pred_labels_model1))\n"
      ]
    },
    {
      "cell_type": "code",
      "execution_count": 99,
      "metadata": {},
      "outputs": [
        {
          "name": "stdout",
          "output_type": "stream",
          "text": [
            "1/1 [==============================] - 1s 509ms/step\n",
            "Confusion Matrix - Model 2:\n",
            "[[1 0 0 0 0 0 0 0 0 0]\n",
            " [0 0 0 0 0 0 0 0 0 1]\n",
            " [0 0 0 0 0 1 0 0 0 0]\n",
            " [0 0 0 0 0 0 0 0 1 0]\n",
            " [0 0 0 0 0 0 0 1 0 0]\n",
            " [0 0 0 0 0 0 0 1 0 0]\n",
            " [0 0 0 0 0 0 0 0 1 0]\n",
            " [0 0 0 0 0 0 0 0 0 1]\n",
            " [0 0 0 0 0 0 0 0 0 1]\n",
            " [0 0 0 0 0 0 0 1 0 0]]\n",
            "Classification Report - Model 2:\n",
            "              precision    recall  f1-score   support\n",
            "\n",
            "           0       1.00      1.00      1.00         1\n",
            "           1       0.00      0.00      0.00         1\n",
            "           2       0.00      0.00      0.00         1\n",
            "           3       0.00      0.00      0.00         1\n",
            "           4       0.00      0.00      0.00         1\n",
            "           5       0.00      0.00      0.00         1\n",
            "           6       0.00      0.00      0.00         1\n",
            "           7       0.00      0.00      0.00         1\n",
            "           8       0.00      0.00      0.00         1\n",
            "           9       0.00      0.00      0.00         1\n",
            "\n",
            "    accuracy                           0.10        10\n",
            "   macro avg       0.10      0.10      0.10        10\n",
            "weighted avg       0.10      0.10      0.10        10\n",
            "\n"
          ]
        },
        {
          "name": "stderr",
          "output_type": "stream",
          "text": [
            "c:\\Users\\user\\AppData\\Local\\Programs\\Python\\Python311\\Lib\\site-packages\\sklearn\\metrics\\_classification.py:1344: UndefinedMetricWarning: Precision and F-score are ill-defined and being set to 0.0 in labels with no predicted samples. Use `zero_division` parameter to control this behavior.\n",
            "  _warn_prf(average, modifier, msg_start, len(result))\n",
            "c:\\Users\\user\\AppData\\Local\\Programs\\Python\\Python311\\Lib\\site-packages\\sklearn\\metrics\\_classification.py:1344: UndefinedMetricWarning: Precision and F-score are ill-defined and being set to 0.0 in labels with no predicted samples. Use `zero_division` parameter to control this behavior.\n",
            "  _warn_prf(average, modifier, msg_start, len(result))\n",
            "c:\\Users\\user\\AppData\\Local\\Programs\\Python\\Python311\\Lib\\site-packages\\sklearn\\metrics\\_classification.py:1344: UndefinedMetricWarning: Precision and F-score are ill-defined and being set to 0.0 in labels with no predicted samples. Use `zero_division` parameter to control this behavior.\n",
            "  _warn_prf(average, modifier, msg_start, len(result))\n"
          ]
        }
      ],
      "source": [
        "from sklearn.metrics import confusion_matrix, classification_report\n",
        "\n",
        "# Load the saved model\n",
        "model2 = load_model('model2_weights.h5')\n",
        "\n",
        "# Make predictions on the test set\n",
        "y_pred_model2 = model2.predict(X_test)\n",
        "\n",
        "# Convert predictions to labels\n",
        "y_pred_labels_model2 = np.argmax(y_pred_model2, axis=1)\n",
        "\n",
        "# Convert one-hot encoded true labels to labels\n",
        "y_true_labels = np.argmax(y_test, axis=1)\n",
        "\n",
        "# Calculate confusion matrix\n",
        "conf_matrix_model2 = confusion_matrix(y_true_labels, y_pred_labels_model2)\n",
        "\n",
        "# Display confusion matrix\n",
        "print(\"Confusion Matrix - Model 2:\")\n",
        "print(conf_matrix_model2)\n",
        "\n",
        "# Display classification report\n",
        "print(\"Classification Report - Model 2:\")\n",
        "print(classification_report(y_true_labels, y_pred_labels_model2))\n"
      ]
    },
    {
      "cell_type": "code",
      "execution_count": 100,
      "metadata": {},
      "outputs": [
        {
          "name": "stdout",
          "output_type": "stream",
          "text": [
            "1/1 [==============================] - 0s 499ms/step\n",
            "Confusion Matrix - Model 3:\n",
            "[[1 0 0 0 0 0 0 0 0 0]\n",
            " [0 0 0 0 0 0 0 0 0 1]\n",
            " [0 0 0 0 0 1 0 0 0 0]\n",
            " [0 0 0 0 0 0 0 0 1 0]\n",
            " [0 0 0 0 0 0 0 1 0 0]\n",
            " [0 0 0 0 0 0 0 1 0 0]\n",
            " [0 0 0 0 0 0 0 0 1 0]\n",
            " [0 0 0 0 0 0 0 0 0 1]\n",
            " [0 0 0 0 0 0 0 0 0 1]\n",
            " [0 0 0 0 0 0 0 1 0 0]]\n",
            "Classification Report - Model 3:\n",
            "              precision    recall  f1-score   support\n",
            "\n",
            "           0       1.00      1.00      1.00         1\n",
            "           1       0.00      0.00      0.00         1\n",
            "           2       0.00      0.00      0.00         1\n",
            "           3       0.00      0.00      0.00         1\n",
            "           4       0.00      0.00      0.00         1\n",
            "           5       0.00      0.00      0.00         1\n",
            "           6       0.00      0.00      0.00         1\n",
            "           7       0.00      0.00      0.00         1\n",
            "           8       0.00      0.00      0.00         1\n",
            "           9       0.00      0.00      0.00         1\n",
            "\n",
            "    accuracy                           0.10        10\n",
            "   macro avg       0.10      0.10      0.10        10\n",
            "weighted avg       0.10      0.10      0.10        10\n",
            "\n"
          ]
        },
        {
          "name": "stderr",
          "output_type": "stream",
          "text": [
            "c:\\Users\\user\\AppData\\Local\\Programs\\Python\\Python311\\Lib\\site-packages\\sklearn\\metrics\\_classification.py:1344: UndefinedMetricWarning: Precision and F-score are ill-defined and being set to 0.0 in labels with no predicted samples. Use `zero_division` parameter to control this behavior.\n",
            "  _warn_prf(average, modifier, msg_start, len(result))\n",
            "c:\\Users\\user\\AppData\\Local\\Programs\\Python\\Python311\\Lib\\site-packages\\sklearn\\metrics\\_classification.py:1344: UndefinedMetricWarning: Precision and F-score are ill-defined and being set to 0.0 in labels with no predicted samples. Use `zero_division` parameter to control this behavior.\n",
            "  _warn_prf(average, modifier, msg_start, len(result))\n",
            "c:\\Users\\user\\AppData\\Local\\Programs\\Python\\Python311\\Lib\\site-packages\\sklearn\\metrics\\_classification.py:1344: UndefinedMetricWarning: Precision and F-score are ill-defined and being set to 0.0 in labels with no predicted samples. Use `zero_division` parameter to control this behavior.\n",
            "  _warn_prf(average, modifier, msg_start, len(result))\n"
          ]
        }
      ],
      "source": [
        "from sklearn.metrics import confusion_matrix, classification_report\n",
        "\n",
        "# Load the saved model\n",
        "model3 = load_model('model3_weights.h5')\n",
        "\n",
        "# Make predictions on the test set\n",
        "y_pred_model3 = model3.predict(X_test)\n",
        "\n",
        "# Convert predictions to labels\n",
        "y_pred_labels_model3 = np.argmax(y_pred_model3, axis=1)\n",
        "\n",
        "# Convert one-hot encoded true labels to labels\n",
        "y_true_labels = np.argmax(y_test, axis=1)\n",
        "\n",
        "# Calculate confusion matrix\n",
        "conf_matrix_model3 = confusion_matrix(y_true_labels, y_pred_labels_model3)\n",
        "\n",
        "# Display confusion matrix\n",
        "print(\"Confusion Matrix - Model 3:\")\n",
        "print(conf_matrix_model3)\n",
        "\n",
        "# Display classification report\n",
        "print(\"Classification Report - Model 3:\")\n",
        "print(classification_report(y_true_labels, y_pred_labels_model3))\n"
      ]
    },
    {
      "cell_type": "code",
      "execution_count": 101,
      "metadata": {},
      "outputs": [
        {
          "name": "stdout",
          "output_type": "stream",
          "text": [
            "1/1 [==============================] - 1s 510ms/step\n",
            "Confusion Matrix - Model 4:\n",
            "[[1 0 0 0 0 0 0 0 0 0]\n",
            " [0 0 0 0 0 0 0 0 0 1]\n",
            " [0 0 0 0 0 1 0 0 0 0]\n",
            " [0 0 0 0 0 0 0 0 1 0]\n",
            " [0 0 0 0 0 0 0 1 0 0]\n",
            " [0 0 0 0 0 0 0 1 0 0]\n",
            " [0 0 0 0 0 0 0 0 1 0]\n",
            " [0 0 0 0 0 0 0 0 0 1]\n",
            " [0 0 0 0 0 0 0 0 0 1]\n",
            " [0 0 0 0 0 0 0 1 0 0]]\n",
            "Classification Report - Model 4:\n",
            "              precision    recall  f1-score   support\n",
            "\n",
            "           0       1.00      1.00      1.00         1\n",
            "           1       0.00      0.00      0.00         1\n",
            "           2       0.00      0.00      0.00         1\n",
            "           3       0.00      0.00      0.00         1\n",
            "           4       0.00      0.00      0.00         1\n",
            "           5       0.00      0.00      0.00         1\n",
            "           6       0.00      0.00      0.00         1\n",
            "           7       0.00      0.00      0.00         1\n",
            "           8       0.00      0.00      0.00         1\n",
            "           9       0.00      0.00      0.00         1\n",
            "\n",
            "    accuracy                           0.10        10\n",
            "   macro avg       0.10      0.10      0.10        10\n",
            "weighted avg       0.10      0.10      0.10        10\n",
            "\n"
          ]
        },
        {
          "name": "stderr",
          "output_type": "stream",
          "text": [
            "c:\\Users\\user\\AppData\\Local\\Programs\\Python\\Python311\\Lib\\site-packages\\sklearn\\metrics\\_classification.py:1344: UndefinedMetricWarning: Precision and F-score are ill-defined and being set to 0.0 in labels with no predicted samples. Use `zero_division` parameter to control this behavior.\n",
            "  _warn_prf(average, modifier, msg_start, len(result))\n",
            "c:\\Users\\user\\AppData\\Local\\Programs\\Python\\Python311\\Lib\\site-packages\\sklearn\\metrics\\_classification.py:1344: UndefinedMetricWarning: Precision and F-score are ill-defined and being set to 0.0 in labels with no predicted samples. Use `zero_division` parameter to control this behavior.\n",
            "  _warn_prf(average, modifier, msg_start, len(result))\n",
            "c:\\Users\\user\\AppData\\Local\\Programs\\Python\\Python311\\Lib\\site-packages\\sklearn\\metrics\\_classification.py:1344: UndefinedMetricWarning: Precision and F-score are ill-defined and being set to 0.0 in labels with no predicted samples. Use `zero_division` parameter to control this behavior.\n",
            "  _warn_prf(average, modifier, msg_start, len(result))\n"
          ]
        }
      ],
      "source": [
        "from sklearn.metrics import confusion_matrix, classification_report\n",
        "\n",
        "# Load the saved model\n",
        "model4 = load_model('model4_weights.h5')\n",
        "\n",
        "# Make predictions on the test set\n",
        "y_pred_model4 = model4.predict(X_test)\n",
        "\n",
        "# Convert predictions to labels\n",
        "y_pred_labels_model4 = np.argmax(y_pred_model4, axis=1)\n",
        "\n",
        "# Convert one-hot encoded true labels to labels\n",
        "y_true_labels = np.argmax(y_test, axis=1)\n",
        "\n",
        "# Calculate confusion matrix\n",
        "conf_matrix_model4 = confusion_matrix(y_true_labels, y_pred_labels_model4)\n",
        "\n",
        "# Display confusion matrix\n",
        "print(\"Confusion Matrix - Model 4:\")\n",
        "print(conf_matrix_model4)\n",
        "\n",
        "# Display classification report\n",
        "print(\"Classification Report - Model 4:\")\n",
        "print(classification_report(y_true_labels, y_pred_labels_model4))\n"
      ]
    },
    {
      "cell_type": "code",
      "execution_count": 102,
      "metadata": {},
      "outputs": [
        {
          "name": "stdout",
          "output_type": "stream",
          "text": [
            "1/1 [==============================] - 0s 41ms/step\n",
            "Confusion Matrix - Model 5:\n",
            "[[1 0 0 0 0 0 0 0 0 0]\n",
            " [0 0 0 0 0 0 0 0 0 1]\n",
            " [0 0 0 0 0 1 0 0 0 0]\n",
            " [0 0 0 0 0 0 0 0 1 0]\n",
            " [0 0 0 0 0 0 0 1 0 0]\n",
            " [0 0 0 0 0 0 0 1 0 0]\n",
            " [0 0 0 0 0 0 0 0 1 0]\n",
            " [0 0 0 0 0 0 0 0 0 1]\n",
            " [0 0 0 0 0 0 0 0 0 1]\n",
            " [0 0 0 0 0 0 0 1 0 0]]\n",
            "Classification Report - Model 5:\n",
            "              precision    recall  f1-score   support\n",
            "\n",
            "           0       1.00      1.00      1.00         1\n",
            "           1       0.00      0.00      0.00         1\n",
            "           2       0.00      0.00      0.00         1\n",
            "           3       0.00      0.00      0.00         1\n",
            "           4       0.00      0.00      0.00         1\n",
            "           5       0.00      0.00      0.00         1\n",
            "           6       0.00      0.00      0.00         1\n",
            "           7       0.00      0.00      0.00         1\n",
            "           8       0.00      0.00      0.00         1\n",
            "           9       0.00      0.00      0.00         1\n",
            "\n",
            "    accuracy                           0.10        10\n",
            "   macro avg       0.10      0.10      0.10        10\n",
            "weighted avg       0.10      0.10      0.10        10\n",
            "\n"
          ]
        },
        {
          "name": "stderr",
          "output_type": "stream",
          "text": [
            "c:\\Users\\user\\AppData\\Local\\Programs\\Python\\Python311\\Lib\\site-packages\\sklearn\\metrics\\_classification.py:1344: UndefinedMetricWarning: Precision and F-score are ill-defined and being set to 0.0 in labels with no predicted samples. Use `zero_division` parameter to control this behavior.\n",
            "  _warn_prf(average, modifier, msg_start, len(result))\n",
            "c:\\Users\\user\\AppData\\Local\\Programs\\Python\\Python311\\Lib\\site-packages\\sklearn\\metrics\\_classification.py:1344: UndefinedMetricWarning: Precision and F-score are ill-defined and being set to 0.0 in labels with no predicted samples. Use `zero_division` parameter to control this behavior.\n",
            "  _warn_prf(average, modifier, msg_start, len(result))\n",
            "c:\\Users\\user\\AppData\\Local\\Programs\\Python\\Python311\\Lib\\site-packages\\sklearn\\metrics\\_classification.py:1344: UndefinedMetricWarning: Precision and F-score are ill-defined and being set to 0.0 in labels with no predicted samples. Use `zero_division` parameter to control this behavior.\n",
            "  _warn_prf(average, modifier, msg_start, len(result))\n"
          ]
        }
      ],
      "source": [
        "from sklearn.metrics import confusion_matrix, classification_report\n",
        "\n",
        "# Load the saved model\n",
        "model5 = load_model('model5_weights.h5')\n",
        "\n",
        "# Make predictions on the test set\n",
        "y_pred_model5 = model3.predict(X_test)\n",
        "\n",
        "# Convert predictions to labels\n",
        "y_pred_labels_model5 = np.argmax(y_pred_model5, axis=1)\n",
        "\n",
        "# Convert one-hot encoded true labels to labels\n",
        "y_true_labels = np.argmax(y_test, axis=1)\n",
        "\n",
        "# Calculate confusion matrix\n",
        "conf_matrix_model5 = confusion_matrix(y_true_labels, y_pred_labels_model5)\n",
        "\n",
        "# Display confusion matrix\n",
        "print(\"Confusion Matrix - Model 5:\")\n",
        "print(conf_matrix_model5)\n",
        "\n",
        "# Display classification report\n",
        "print(\"Classification Report - Model 5:\")\n",
        "print(classification_report(y_true_labels, y_pred_labels_model5))\n"
      ]
    },
    {
      "cell_type": "code",
      "execution_count": 103,
      "metadata": {},
      "outputs": [
        {
          "data": {
            "image/png": "[encoded data removed]",
            "text/plain": [
              "<Figure size 1500x1000 with 5 Axes>"
            ]
          },
          "metadata": {},
          "output_type": "display_data"
        }
      ],
      "source": [
        "import matplotlib.pyplot as plt\n",
        "import seaborn as sns\n",
        "from sklearn.metrics import confusion_matrix\n",
        "\n",
        "# Assuming you have results for all five models (confusion matrices)\n",
        "conf_matrix_model1 = confusion_matrix(y_true_labels, y_pred_labels_model1)\n",
        "conf_matrix_model2 = confusion_matrix(y_true_labels, y_pred_labels_model2)\n",
        "conf_matrix_model3 = confusion_matrix(y_true_labels, y_pred_labels_model3)\n",
        "conf_matrix_model4 = confusion_matrix(y_true_labels, y_pred_labels_model4)\n",
        "conf_matrix_model5 = confusion_matrix(y_true_labels, y_pred_labels_model5)\n",
        "\n",
        "# Combine all confusion matrices into a list\n",
        "conf_matrices = [conf_matrix_model1, conf_matrix_model2, conf_matrix_model3, conf_matrix_model4, conf_matrix_model5]\n",
        "\n",
        "# Determine the number of rows and columns for subplots\n",
        "num_rows = 2  # Adjust as needed\n",
        "num_cols = 3  # Adjust as needed\n",
        "\n",
        "# Plotting\n",
        "plt.figure(figsize=(15, 10))\n",
        "\n",
        "for i, conf_matrix in enumerate(conf_matrices, 1):\n",
        "    plt.subplot(num_rows, num_cols, i)\n",
        "    sns.heatmap(conf_matrix, annot=True, fmt=\".2f\", cmap=\"Blues\", cbar=False)\n",
        "    plt.title(f\"Model {i}\")\n",
        "\n",
        "plt.suptitle(\"Confusion Matrices for Model Evaluation\")\n",
        "plt.show()\n"
      ]
    }
  ],
  "metadata": {
    "colab": {
      "collapsed_sections": [],
      "name": "Retrieval based",
      "provenance": []
    },
    "kernelspec": {
      "display_name": "Python 3",
      "name": "python3"
    },
    "language_info": {
      "codemirror_mode": {
        "name": "ipython",
        "version": 3
      },
      "file_extension": ".py",
      "mimetype": "text/x-python",
      "name": "python",
      "nbconvert_exporter": "python",
      "pygments_lexer": "ipython3",
      "version": "3.11.0"
    }
  },
  "nbformat": 4,
  "nbformat_minor": 0
}
